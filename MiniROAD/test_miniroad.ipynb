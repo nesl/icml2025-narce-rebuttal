{
 "cells": [
  {
   "cell_type": "code",
   "execution_count": 1,
   "metadata": {},
   "outputs": [],
   "source": [
    "import torch\n",
    "from torch.utils.tensorboard import SummaryWriter\n",
    "from torchinfo import summary\n",
    "import argparse\n",
    "import yaml\n",
    "import os\n",
    "import os.path as osp\n",
    "from utils import get_logger\n",
    "from model import build_model\n",
    "from datasets import build_data_loader\n",
    "from criterions import build_criterion\n",
    "from trainer import build_trainer, build_eval\n",
    "from utils import *\n",
    "import numpy as np\n",
    "from tqdm import tqdm\n"
   ]
  },
  {
   "cell_type": "code",
   "execution_count": 2,
   "metadata": {},
   "outputs": [],
   "source": [
    "# Simulate the CLI arguments\n",
    "args_list = [\n",
    "    '--config', './configs/miniroad_ced.yaml',\n",
    "    '--no_flow',\n",
    "]"
   ]
  },
  {
   "cell_type": "code",
   "execution_count": 3,
   "metadata": {},
   "outputs": [],
   "source": [
    "from torch.utils.data import Dataset, DataLoader"
   ]
  },
  {
   "cell_type": "code",
   "execution_count": 4,
   "metadata": {},
   "outputs": [],
   "source": [
    "class CEDataset(Dataset):\n",
    "    def __init__(self, data, labels):\n",
    "        self.data = data\n",
    "        self.labels = labels\n",
    "\n",
    "    def __getitem__(self, index):\n",
    "        data = self.data[index]\n",
    "        label = self.labels[index]\n",
    "        return data, label\n",
    "\n",
    "    def __len__(self):\n",
    "        return len(self.data)\n",
    "    "
   ]
  },
  {
   "cell_type": "code",
   "execution_count": 5,
   "metadata": {},
   "outputs": [
    {
     "name": "stdout",
     "output_type": "stream",
     "text": [
      "./datasets/new_CE_dataset/new_ce5min_train_data_4000.npy\n",
      "(4000, 60, 128) (4000, 60) (2000, 60, 128) (2000, 60) (2000, 60, 128) (2000, 60)\n"
     ]
    }
   ],
   "source": [
    "n_sensor_dataset = 4000\n",
    "batch_size = 256\n",
    "n_epochs = 5000\n",
    "\"\"\" Load datasets \"\"\"\n",
    "\n",
    "\n",
    "train_data_file = './datasets/new_CE_dataset/new_ce5min_train_data_{}.npy'.format(n_sensor_dataset)\n",
    "train_label_file = './datasets/new_CE_dataset/new_ce5min_train_labels_{}.npy'.format(n_sensor_dataset)\n",
    "val_data_file = './datasets/new_CE_dataset/new_ce5min_val_data.npy'\n",
    "val_label_file = './datasets/new_CE_dataset/new_ce5min_val_labels.npy'\n",
    "test_data_file = './datasets/new_CE_dataset/new_ce5min_test_data.npy'\n",
    "test_label_file = './datasets/new_CE_dataset/new_ce5min_test_labels.npy'\n",
    "\n",
    "ce_train_data = np.load(train_data_file)\n",
    "ce_train_labels = np.load(train_label_file)\n",
    "ce_val_data = np.load(val_data_file)\n",
    "ce_val_labels = np.load(val_label_file)\n",
    "ce_test_data = np.load(test_data_file)\n",
    "ce_test_labels = np.load(test_label_file)\n",
    "\n",
    "print(train_data_file)\n",
    "print(ce_train_data.shape, ce_train_labels.shape, ce_val_data.shape, ce_val_labels.shape, ce_test_data.shape, ce_test_labels.shape)\n",
    "\n",
    "ce_train_dataset = CEDataset(ce_train_data, ce_train_labels)\n",
    "ce_train_loader = DataLoader(ce_train_dataset, \n",
    "                             batch_size=batch_size, \n",
    "                             shuffle=True, \n",
    "                             )\n",
    "ce_val_dataset = CEDataset(ce_val_data, ce_val_labels)\n",
    "ce_val_loader = DataLoader(ce_val_dataset,\n",
    "                            batch_size=batch_size,\n",
    "                            shuffle=False, \n",
    "                            )\n",
    "ce_test_dataset = CEDataset(ce_test_data, ce_test_labels)\n",
    "ce_test_loader = DataLoader(ce_test_dataset, \n",
    "                            batch_size=batch_size, \n",
    "                            shuffle=False\n",
    "                            )\n"
   ]
  },
  {
   "cell_type": "code",
   "execution_count": null,
   "metadata": {},
   "outputs": [
    {
     "name": "stderr",
     "output_type": "stream",
     "text": [
      "{'model': 'MiniROAD', 'data_name': 'THUMOS', 'task': 'OAD', 'loss': 'NONUNIFORM', 'metric': 'F1', 'optimizer': 'AdamW', 'device': 'cuda', 'feature_pretrained': 'ced', 'root_path': './data/THUMOS', 'rgb_type': 'ced', 'flow_type': 'ced', 'annotation_type': 'target_perframe', 'video_list_path': 'data_info/video_list.json', 'output_path': './output', 'window_size': 1, 'batch_size': 256, 'test_batch_size': 1, 'num_epoch': 5000, 'lr': 0.0001, 'weight_decay': 0.05, 'num_workers': 4, 'dropout': 0.2, 'num_classes': 11, 'embedding_dim': 256, 'hidden_dim': 256, 'num_layers': 2, 'stride': 4, 'config': './configs/miniroad_ced.yaml', 'eval': None, 'amp': False, 'tensorboard': False, 'lr_scheduler': False, 'no_rgb': False, 'no_flow': True}\n"
     ]
    }
   ],
   "source": [
    "parser = argparse.ArgumentParser()\n",
    "parser.add_argument('--config', type=str, default='./configs/miniroad_ced.yaml')\n",
    "parser.add_argument('--eval', type=str, default=None)\n",
    "parser.add_argument('--amp', action='store_true')\n",
    "parser.add_argument('--tensorboard', action='store_true')\n",
    "parser.add_argument('--lr_scheduler', action='store_true')\n",
    "parser.add_argument('--no_rgb', action='store_true')\n",
    "parser.add_argument('--no_flow', action='store_true')\n",
    "args = parser.parse_args(args_list)\n",
    "\n",
    "# combine argparse and yaml\n",
    "opt = yaml.load(open(args.config), Loader=yaml.FullLoader)\n",
    "opt.update(vars(args))\n",
    "cfg = opt\n",
    "\n",
    "set_seed(20)\n",
    "device = 'cuda' if torch.cuda.is_available() else 'cpu'\n",
    "\n",
    "identifier = f'{cfg[\"model\"]}_{cfg[\"data_name\"]}_{cfg[\"feature_pretrained\"]}_flow{not cfg[\"no_flow\"]}'\n",
    "result_path = create_outdir(osp.join(cfg['output_path'], identifier))\n",
    "logger = get_logger(result_path)\n",
    "logger.info(cfg)\n",
    "\n",
    "testloader = ce_test_loader\n",
    "model = build_model(cfg, device)\n",
    "evaluate = build_eval(cfg)\n",
    "if args.eval != None:\n",
    "    model.load_state_dict(torch.load(args.eval))\n",
    "    mAP = evaluate(model, testloader, logger)\n",
    "    logger.info(f'{cfg[\"task\"]} result: {mAP*100:.2f} m{cfg[\"metric\"]}')\n",
    "    exit()\n",
    "    \n"
   ]
  },
  {
   "cell_type": "code",
   "execution_count": 7,
   "metadata": {},
   "outputs": [
    {
     "data": {
      "text/plain": [
       "=================================================================\n",
       "Layer (type:depth-idx)                   Param #\n",
       "=================================================================\n",
       "MROAD                                    --\n",
       "├─ReLU: 1-1                              --\n",
       "├─GRU: 1-2                               789,504\n",
       "├─Sequential: 1-3                        --\n",
       "│    └─Linear: 2-1                       33,024\n",
       "│    └─LayerNorm: 2-2                    512\n",
       "│    └─ReLU: 2-3                         --\n",
       "│    └─Dropout: 2-4                      --\n",
       "├─Sequential: 1-4                        --\n",
       "│    └─Linear: 2-5                       2,827\n",
       "=================================================================\n",
       "Total params: 825,867\n",
       "Trainable params: 825,867\n",
       "Non-trainable params: 0\n",
       "================================================================="
      ]
     },
     "execution_count": 7,
     "metadata": {},
     "output_type": "execute_result"
    }
   ],
   "source": [
    "summary(model)"
   ]
  },
  {
   "cell_type": "code",
   "execution_count": null,
   "metadata": {},
   "outputs": [
    {
     "name": "stdout",
     "output_type": "stream",
     "text": [
      "{'logits': tensor([[[ 2.0467e-02,  5.3975e-02, -8.8562e-02,  ..., -2.6340e-03,\n",
      "          -5.0334e-02,  4.0932e-02],\n",
      "         [ 1.4082e-02,  4.7149e-02, -1.1884e-01,  ..., -2.3188e-02,\n",
      "          -1.4554e-02,  4.5983e-02],\n",
      "         [ 4.7160e-02,  4.0824e-02, -1.6129e-01,  ..., -2.5377e-02,\n",
      "           3.9020e-02,  7.8019e-02],\n",
      "         ...,\n",
      "         [ 6.3298e-02, -1.4868e-04, -2.8398e-01,  ..., -3.6084e-02,\n",
      "           1.6436e-02,  1.3961e-01],\n",
      "         [ 5.5924e-02,  1.7860e-02, -2.5739e-01,  ..., -2.9932e-02,\n",
      "           3.4827e-02,  1.2925e-01],\n",
      "         [ 3.0662e-02,  2.5545e-02, -2.2836e-01,  ..., -5.6979e-02,\n",
      "           5.5429e-02,  1.2967e-01]],\n",
      "\n",
      "        [[ 5.6828e-03,  6.0916e-02, -1.0629e-01,  ..., -1.8092e-02,\n",
      "          -1.7680e-02,  4.5523e-02],\n",
      "         [-1.6023e-02,  9.1496e-02, -1.3459e-01,  ..., -4.0122e-02,\n",
      "           4.0282e-02,  7.6913e-02],\n",
      "         [-1.9921e-02,  6.8413e-02, -1.3984e-01,  ..., -2.5369e-02,\n",
      "           8.1301e-02,  1.2127e-01],\n",
      "         ...,\n",
      "         [ 8.2831e-02,  4.9780e-02, -2.0974e-01,  ..., -1.1364e-01,\n",
      "           4.1422e-02,  1.2557e-01],\n",
      "         [ 6.4384e-02,  7.1022e-02, -2.3324e-01,  ..., -1.5267e-01,\n",
      "           6.4956e-02,  1.0451e-01],\n",
      "         [ 4.6083e-02,  7.8509e-02, -1.8931e-01,  ..., -1.3415e-01,\n",
      "           7.5538e-02,  1.2700e-01]],\n",
      "\n",
      "        [[-2.7109e-02,  3.0886e-02, -1.0550e-01,  ...,  8.8441e-04,\n",
      "           7.3465e-03,  8.3410e-02],\n",
      "         [-1.9430e-02,  6.0372e-02, -1.6088e-01,  ..., -2.1020e-02,\n",
      "           4.3656e-02,  1.1111e-01],\n",
      "         [-3.6667e-02,  6.1621e-02, -1.6280e-01,  ..., -1.9779e-04,\n",
      "           4.3762e-02,  1.5056e-01],\n",
      "         ...,\n",
      "         [ 7.5322e-02,  3.8484e-02, -1.6312e-01,  ..., -5.8871e-02,\n",
      "           2.4076e-02,  2.0019e-01],\n",
      "         [ 8.6019e-02,  2.9058e-02, -1.8416e-01,  ..., -5.1039e-02,\n",
      "           2.0812e-02,  1.5395e-01],\n",
      "         [ 4.9814e-02,  3.7405e-02, -1.5183e-01,  ..., -4.4648e-02,\n",
      "           3.5883e-02,  1.1073e-01]],\n",
      "\n",
      "        ...,\n",
      "\n",
      "        [[ 2.5538e-02,  1.0600e-02, -8.1722e-02,  ..., -5.5507e-03,\n",
      "          -3.0615e-02,  7.5659e-02],\n",
      "         [ 4.8968e-02, -1.1931e-02, -1.1016e-01,  ..., -2.1773e-02,\n",
      "          -1.0069e-04,  1.2788e-01],\n",
      "         [ 3.5428e-02,  1.3245e-02, -1.4534e-01,  ..., -4.3185e-02,\n",
      "           3.0163e-02,  1.0660e-01],\n",
      "         ...,\n",
      "         [ 8.5963e-02,  3.8594e-02, -1.8986e-01,  ..., -2.3701e-02,\n",
      "          -1.1234e-02,  1.5018e-01],\n",
      "         [ 1.1525e-01,  2.0724e-02, -2.0397e-01,  ..., -3.3867e-02,\n",
      "           8.6456e-04,  1.1875e-01],\n",
      "         [ 7.3161e-02,  1.5328e-02, -2.3489e-01,  ..., -4.1302e-02,\n",
      "           2.7475e-02,  1.2282e-01]],\n",
      "\n",
      "        [[ 5.6933e-02,  7.8129e-03, -1.2901e-01,  ..., -3.2326e-02,\n",
      "          -3.0784e-02,  3.0441e-02],\n",
      "         [ 5.8162e-02, -1.5411e-02, -1.7752e-01,  ..., -5.1728e-02,\n",
      "          -2.2520e-02,  7.6584e-02],\n",
      "         [ 8.3441e-02,  1.3815e-02, -1.8609e-01,  ..., -5.6197e-02,\n",
      "          -2.1573e-02,  1.4045e-01],\n",
      "         ...,\n",
      "         [ 1.5505e-02,  9.7611e-02, -2.1956e-01,  ..., -7.2738e-02,\n",
      "           1.4977e-02,  1.3458e-01],\n",
      "         [ 1.5953e-02,  8.8874e-02, -2.1937e-01,  ..., -6.0715e-02,\n",
      "           4.7480e-02,  9.6651e-02],\n",
      "         [ 5.7139e-02,  9.9404e-02, -1.9433e-01,  ..., -7.4399e-02,\n",
      "           3.5831e-02,  1.1289e-01]],\n",
      "\n",
      "        [[ 3.9756e-02,  5.2191e-02, -7.9336e-02,  ..., -3.1040e-02,\n",
      "          -2.5590e-02,  3.5119e-02],\n",
      "         [ 3.1858e-02,  2.5495e-02, -1.2876e-01,  ..., -8.2893e-02,\n",
      "           3.2366e-02,  1.6560e-02],\n",
      "         [ 8.3637e-02, -1.0783e-02, -1.9853e-01,  ..., -1.0955e-01,\n",
      "           3.6379e-02,  1.3499e-02],\n",
      "         ...,\n",
      "         [ 4.7130e-02,  5.6325e-03, -1.8453e-01,  ..., -6.1804e-02,\n",
      "           6.7260e-03,  1.6469e-01],\n",
      "         [ 2.9936e-02, -8.9155e-03, -1.9099e-01,  ..., -7.2096e-02,\n",
      "           1.9893e-02,  1.3120e-01],\n",
      "         [ 5.1255e-02,  1.5072e-02, -1.9185e-01,  ..., -5.2626e-02,\n",
      "           3.9052e-02,  1.2829e-01]]], device='cuda:0')}\n",
      "Input shape: torch.Size([256, 60, 128])\n",
      "Output shape: torch.Size([256, 60, 11])\n",
      "torchinfo summary error: Failed to run torchinfo. See above stack traces for more details. Executed layers up to: []\n"
     ]
    },
    {
     "ename": "",
     "evalue": "",
     "output_type": "error",
     "traceback": [
      "\u001b[1;31mThe Kernel crashed while executing code in the current cell or a previous cell. \n",
      "\u001b[1;31mPlease review the code in the cell(s) to identify a possible cause of the failure. \n",
      "\u001b[1;31mClick <a href='https://aka.ms/vscodeJupyterKernelCrash'>here</a> for more info. \n",
      "\u001b[1;31mView Jupyter <a href='command:jupyter.viewOutput'>log</a> for further details."
     ]
    }
   ],
   "source": [
    "# Define dummy input with shape (batch_size=256, sequence_length=60, features=128)\n",
    "dummy_input = torch.randn(256, 60, 128)\n",
    "\n",
    "# Move to correct device if needed\n",
    "device = torch.device('cuda' if torch.cuda.is_available() else 'cpu')\n",
    "model = model.to(device)\n",
    "dummy_input = dummy_input.to(device)\n",
    "\n",
    "# Pass through model\n",
    "with torch.no_grad():\n",
    "    output = model(dummy_input,flow_input=None)\n",
    "\n",
    "print(output)\n",
    "# Print input and output shapes\n",
    "print(f\"Input shape: {dummy_input.shape}\")\n",
    "print(f\"Output shape: {output['logits'].shape}\")\n",
    "\n",
    "# Optional: model summary\n",
    "try:\n",
    "    summary(model, input_data=dummy_input)\n",
    "except Exception as e:\n",
    "    print(f\"torchinfo summary error: {e}\")"
   ]
  },
  {
   "cell_type": "code",
   "execution_count": null,
   "metadata": {},
   "outputs": [
    {
     "name": "stderr",
     "output_type": "stream",
     "text": [
      "Dataset: THUMOS,  Model: MiniROAD\n",
      "lr:0.0001 | Weight Decay:0.05 | Window Size:1 | Batch Size:256\n",
      "Total epoch:5000 | Total Params:0.8 M | Optimizer: AdamW\n",
      "Output Path:./output/MiniROAD_THUMOS_ced_flowFalse\n",
      "Epoch:1 Training: 100%|██████████| 16/16 [00:00<00:00, 67.55it/s, lr: 0.0001000]\n",
      "Processed 2000 frames in 0.0 seconds (40330.2 FPS)\n",
      "Epoch 1 F1: 0.00 | Best F1: 0.00 at epoch 0, iter 4096 | train_loss: 0.0195, lr: 0.0001000\n"
     ]
    },
    {
     "name": "stdout",
     "output_type": "stream",
     "text": [
      "(2000, 60) (2000, 60)\n",
      "NUM FRAMES: 120000\n"
     ]
    },
    {
     "name": "stderr",
     "output_type": "stream",
     "text": [
      "Epoch:2 Training: 100%|██████████| 16/16 [00:00<00:00, 116.94it/s, lr: 0.0001000]\n",
      "Processed 2000 frames in 0.0 seconds (62793.7 FPS)\n",
      "Epoch 2 F1: 0.00 | Best F1: 0.00 at epoch 0, iter 8192 | train_loss: 0.0165, lr: 0.0001000\n"
     ]
    },
    {
     "name": "stdout",
     "output_type": "stream",
     "text": [
      "(2000, 60) (2000, 60)\n",
      "NUM FRAMES: 120000\n"
     ]
    },
    {
     "name": "stderr",
     "output_type": "stream",
     "text": [
      "Epoch:3 Training: 100%|██████████| 16/16 [00:00<00:00, 129.36it/s, lr: 0.0001000]\n",
      "Processed 2000 frames in 0.0 seconds (57487.7 FPS)\n",
      "Epoch 3 F1: 0.03 | Best F1: 3.13 at epoch 3, iter 12288 | train_loss: 0.0150, lr: 0.0001000\n"
     ]
    },
    {
     "name": "stdout",
     "output_type": "stream",
     "text": [
      "(2000, 60) (2000, 60)\n",
      "NUM FRAMES: 120000\n"
     ]
    },
    {
     "name": "stderr",
     "output_type": "stream",
     "text": [
      "Epoch:4 Training: 100%|██████████| 16/16 [00:00<00:00, 132.32it/s, lr: 0.0001000]\n",
      "Processed 2000 frames in 0.1 seconds (32364.7 FPS)\n",
      "Epoch 4 F1: 0.04 | Best F1: 3.60 at epoch 4, iter 16384 | train_loss: 0.0130, lr: 0.0001000\n"
     ]
    },
    {
     "name": "stdout",
     "output_type": "stream",
     "text": [
      "(2000, 60) (2000, 60)\n",
      "NUM FRAMES: 120000\n"
     ]
    },
    {
     "name": "stderr",
     "output_type": "stream",
     "text": [
      "Epoch:5 Training: 100%|██████████| 16/16 [00:00<00:00, 135.83it/s, lr: 0.0001000]\n",
      "Processed 2000 frames in 0.1 seconds (28842.6 FPS)\n",
      "Epoch 5 F1: 0.06 | Best F1: 6.22 at epoch 5, iter 20480 | train_loss: 0.0109, lr: 0.0001000\n"
     ]
    },
    {
     "name": "stdout",
     "output_type": "stream",
     "text": [
      "(2000, 60) (2000, 60)\n",
      "NUM FRAMES: 120000\n"
     ]
    },
    {
     "name": "stderr",
     "output_type": "stream",
     "text": [
      "Epoch:6 Training: 100%|██████████| 16/16 [00:00<00:00, 118.06it/s, lr: 0.0001000]\n",
      "Processed 2000 frames in 0.1 seconds (35957.5 FPS)\n",
      "Epoch 6 F1: 0.10 | Best F1: 9.86 at epoch 6, iter 24576 | train_loss: 0.0089, lr: 0.0001000\n"
     ]
    },
    {
     "name": "stdout",
     "output_type": "stream",
     "text": [
      "(2000, 60) (2000, 60)\n",
      "NUM FRAMES: 120000\n"
     ]
    },
    {
     "name": "stderr",
     "output_type": "stream",
     "text": [
      "Epoch:7 Training: 100%|██████████| 16/16 [00:00<00:00, 125.82it/s, lr: 0.0001000]\n",
      "Processed 2000 frames in 0.1 seconds (34209.6 FPS)\n",
      "Epoch 7 F1: 0.15 | Best F1: 14.82 at epoch 7, iter 28672 | train_loss: 0.0072, lr: 0.0001000\n"
     ]
    },
    {
     "name": "stdout",
     "output_type": "stream",
     "text": [
      "(2000, 60) (2000, 60)\n",
      "NUM FRAMES: 120000\n"
     ]
    },
    {
     "name": "stderr",
     "output_type": "stream",
     "text": [
      "Epoch:8 Training: 100%|██████████| 16/16 [00:00<00:00, 115.60it/s, lr: 0.0001000]\n",
      "Processed 2000 frames in 0.1 seconds (34933.0 FPS)\n",
      "Epoch 8 F1: 0.20 | Best F1: 19.72 at epoch 8, iter 32768 | train_loss: 0.0058, lr: 0.0001000\n"
     ]
    },
    {
     "name": "stdout",
     "output_type": "stream",
     "text": [
      "(2000, 60) (2000, 60)\n",
      "NUM FRAMES: 120000\n"
     ]
    },
    {
     "name": "stderr",
     "output_type": "stream",
     "text": [
      "Epoch:9 Training: 100%|██████████| 16/16 [00:00<00:00, 115.61it/s, lr: 0.0001000]\n",
      "Processed 2000 frames in 0.1 seconds (33102.0 FPS)\n",
      "Epoch 9 F1: 0.24 | Best F1: 23.69 at epoch 9, iter 36864 | train_loss: 0.0047, lr: 0.0001000\n"
     ]
    },
    {
     "name": "stdout",
     "output_type": "stream",
     "text": [
      "(2000, 60) (2000, 60)\n",
      "NUM FRAMES: 120000\n"
     ]
    },
    {
     "name": "stderr",
     "output_type": "stream",
     "text": [
      "Epoch:10 Training: 100%|██████████| 16/16 [00:00<00:00, 135.75it/s, lr: 0.0001000]\n",
      "Processed 2000 frames in 0.1 seconds (32681.7 FPS)\n",
      "Epoch 10 F1: 0.26 | Best F1: 25.54 at epoch 10, iter 40960 | train_loss: 0.0040, lr: 0.0001000\n"
     ]
    },
    {
     "name": "stdout",
     "output_type": "stream",
     "text": [
      "(2000, 60) (2000, 60)\n",
      "NUM FRAMES: 120000\n"
     ]
    },
    {
     "name": "stderr",
     "output_type": "stream",
     "text": [
      "Epoch:11 Training: 100%|██████████| 16/16 [00:00<00:00, 115.08it/s, lr: 0.0001000]\n",
      "Processed 2000 frames in 0.1 seconds (38547.0 FPS)\n",
      "Epoch 11 F1: 0.26 | Best F1: 25.74 at epoch 11, iter 45056 | train_loss: 0.0034, lr: 0.0001000\n"
     ]
    },
    {
     "name": "stdout",
     "output_type": "stream",
     "text": [
      "(2000, 60) (2000, 60)\n",
      "NUM FRAMES: 120000\n"
     ]
    },
    {
     "name": "stderr",
     "output_type": "stream",
     "text": [
      "Epoch:12 Training: 100%|██████████| 16/16 [00:00<00:00, 109.21it/s, lr: 0.0001000]\n",
      "Processed 2000 frames in 0.1 seconds (34245.9 FPS)\n",
      "Epoch 12 F1: 0.26 | Best F1: 26.46 at epoch 12, iter 49152 | train_loss: 0.0029, lr: 0.0001000\n"
     ]
    },
    {
     "name": "stdout",
     "output_type": "stream",
     "text": [
      "(2000, 60) (2000, 60)\n",
      "NUM FRAMES: 120000\n"
     ]
    },
    {
     "name": "stderr",
     "output_type": "stream",
     "text": [
      "Epoch:13 Training: 100%|██████████| 16/16 [00:00<00:00, 106.67it/s, lr: 0.0001000]\n",
      "Processed 2000 frames in 0.0 seconds (44804.2 FPS)\n",
      "Epoch 13 F1: 0.27 | Best F1: 27.13 at epoch 13, iter 53248 | train_loss: 0.0025, lr: 0.0001000\n"
     ]
    },
    {
     "name": "stdout",
     "output_type": "stream",
     "text": [
      "(2000, 60) (2000, 60)\n",
      "NUM FRAMES: 120000\n"
     ]
    },
    {
     "name": "stderr",
     "output_type": "stream",
     "text": [
      "Epoch:14 Training: 100%|██████████| 16/16 [00:00<00:00, 115.53it/s, lr: 0.0001000]\n",
      "Processed 2000 frames in 0.1 seconds (38078.1 FPS)\n",
      "Epoch 14 F1: 0.30 | Best F1: 29.96 at epoch 14, iter 57344 | train_loss: 0.0023, lr: 0.0001000\n"
     ]
    },
    {
     "name": "stdout",
     "output_type": "stream",
     "text": [
      "(2000, 60) (2000, 60)\n",
      "NUM FRAMES: 120000\n"
     ]
    },
    {
     "name": "stderr",
     "output_type": "stream",
     "text": [
      "Epoch:15 Training: 100%|██████████| 16/16 [00:00<00:00, 111.42it/s, lr: 0.0001000]\n",
      "Processed 2000 frames in 0.0 seconds (54025.2 FPS)\n",
      "Epoch 15 F1: 0.32 | Best F1: 32.17 at epoch 15, iter 61440 | train_loss: 0.0020, lr: 0.0001000\n"
     ]
    },
    {
     "name": "stdout",
     "output_type": "stream",
     "text": [
      "(2000, 60) (2000, 60)\n",
      "NUM FRAMES: 120000\n"
     ]
    },
    {
     "name": "stderr",
     "output_type": "stream",
     "text": [
      "Epoch:16 Training: 100%|██████████| 16/16 [00:00<00:00, 113.98it/s, lr: 0.0001000]\n",
      "Processed 2000 frames in 0.0 seconds (53738.7 FPS)\n",
      "Epoch 16 F1: 0.34 | Best F1: 33.77 at epoch 16, iter 65536 | train_loss: 0.0018, lr: 0.0001000\n"
     ]
    },
    {
     "name": "stdout",
     "output_type": "stream",
     "text": [
      "(2000, 60) (2000, 60)\n",
      "NUM FRAMES: 120000\n"
     ]
    },
    {
     "name": "stderr",
     "output_type": "stream",
     "text": [
      "Epoch:17 Training: 100%|██████████| 16/16 [00:00<00:00, 135.13it/s, lr: 0.0001000]\n",
      "Processed 2000 frames in 0.0 seconds (54525.7 FPS)\n",
      "Epoch 17 F1: 0.35 | Best F1: 35.37 at epoch 17, iter 69632 | train_loss: 0.0016, lr: 0.0001000\n"
     ]
    },
    {
     "name": "stdout",
     "output_type": "stream",
     "text": [
      "(2000, 60) (2000, 60)\n",
      "NUM FRAMES: 120000\n"
     ]
    },
    {
     "name": "stderr",
     "output_type": "stream",
     "text": [
      "Epoch:18 Training: 100%|██████████| 16/16 [00:00<00:00, 109.67it/s, lr: 0.0001000]\n",
      "Processed 2000 frames in 0.1 seconds (35570.7 FPS)\n",
      "Epoch 18 F1: 0.37 | Best F1: 37.02 at epoch 18, iter 73728 | train_loss: 0.0015, lr: 0.0001000\n"
     ]
    },
    {
     "name": "stdout",
     "output_type": "stream",
     "text": [
      "(2000, 60) (2000, 60)\n",
      "NUM FRAMES: 120000\n"
     ]
    },
    {
     "name": "stderr",
     "output_type": "stream",
     "text": [
      "Epoch:19 Training: 100%|██████████| 16/16 [00:00<00:00, 120.71it/s, lr: 0.0001000]\n",
      "Processed 2000 frames in 0.0 seconds (47206.8 FPS)\n",
      "Epoch 19 F1: 0.38 | Best F1: 37.64 at epoch 19, iter 77824 | train_loss: 0.0014, lr: 0.0001000\n"
     ]
    },
    {
     "name": "stdout",
     "output_type": "stream",
     "text": [
      "(2000, 60) (2000, 60)\n",
      "NUM FRAMES: 120000\n"
     ]
    },
    {
     "name": "stderr",
     "output_type": "stream",
     "text": [
      "Epoch:20 Training: 100%|██████████| 16/16 [00:00<00:00, 116.08it/s, lr: 0.0001000]\n",
      "Processed 2000 frames in 0.1 seconds (38641.9 FPS)\n",
      "Epoch 20 F1: 0.39 | Best F1: 38.96 at epoch 20, iter 81920 | train_loss: 0.0013, lr: 0.0001000\n"
     ]
    },
    {
     "name": "stdout",
     "output_type": "stream",
     "text": [
      "(2000, 60) (2000, 60)\n",
      "NUM FRAMES: 120000\n"
     ]
    },
    {
     "name": "stderr",
     "output_type": "stream",
     "text": [
      "Epoch:21 Training: 100%|██████████| 16/16 [00:00<00:00, 131.04it/s, lr: 0.0001000]\n",
      "Processed 2000 frames in 0.1 seconds (33447.5 FPS)\n",
      "Epoch 21 F1: 0.39 | Best F1: 39.40 at epoch 21, iter 86016 | train_loss: 0.0012, lr: 0.0001000\n"
     ]
    },
    {
     "name": "stdout",
     "output_type": "stream",
     "text": [
      "(2000, 60) (2000, 60)\n",
      "NUM FRAMES: 120000\n"
     ]
    },
    {
     "name": "stderr",
     "output_type": "stream",
     "text": [
      "Epoch:22 Training: 100%|██████████| 16/16 [00:00<00:00, 129.81it/s, lr: 0.0001000]\n",
      "Processed 2000 frames in 0.0 seconds (50432.0 FPS)\n",
      "Epoch 22 F1: 0.39 | Best F1: 39.40 at epoch 21, iter 90112 | train_loss: 0.0011, lr: 0.0001000\n"
     ]
    },
    {
     "name": "stdout",
     "output_type": "stream",
     "text": [
      "(2000, 60) (2000, 60)\n",
      "NUM FRAMES: 120000\n"
     ]
    },
    {
     "name": "stderr",
     "output_type": "stream",
     "text": [
      "Epoch:23 Training: 100%|██████████| 16/16 [00:00<00:00, 114.71it/s, lr: 0.0001000]\n",
      "Processed 2000 frames in 0.1 seconds (32713.6 FPS)\n",
      "Epoch 23 F1: 0.39 | Best F1: 39.40 at epoch 21, iter 94208 | train_loss: 0.0010, lr: 0.0001000\n"
     ]
    },
    {
     "name": "stdout",
     "output_type": "stream",
     "text": [
      "(2000, 60) (2000, 60)\n",
      "NUM FRAMES: 120000\n"
     ]
    },
    {
     "name": "stderr",
     "output_type": "stream",
     "text": [
      "Epoch:24 Training: 100%|██████████| 16/16 [00:00<00:00, 101.93it/s, lr: 0.0001000]\n",
      "Processed 2000 frames in 0.1 seconds (36212.9 FPS)\n",
      "Epoch 24 F1: 0.40 | Best F1: 39.73 at epoch 24, iter 98304 | train_loss: 0.0010, lr: 0.0001000\n"
     ]
    },
    {
     "name": "stdout",
     "output_type": "stream",
     "text": [
      "(2000, 60) (2000, 60)\n",
      "NUM FRAMES: 120000\n"
     ]
    },
    {
     "name": "stderr",
     "output_type": "stream",
     "text": [
      "Epoch:25 Training: 100%|██████████| 16/16 [00:00<00:00, 105.51it/s, lr: 0.0001000]\n",
      "Processed 2000 frames in 0.0 seconds (51049.2 FPS)\n",
      "Epoch 25 F1: 0.40 | Best F1: 40.03 at epoch 25, iter 102400 | train_loss: 0.0009, lr: 0.0001000\n"
     ]
    },
    {
     "name": "stdout",
     "output_type": "stream",
     "text": [
      "(2000, 60) (2000, 60)\n",
      "NUM FRAMES: 120000\n"
     ]
    },
    {
     "name": "stderr",
     "output_type": "stream",
     "text": [
      "Epoch:26 Training: 100%|██████████| 16/16 [00:00<00:00, 112.17it/s, lr: 0.0001000]\n",
      "Processed 2000 frames in 0.0 seconds (43469.2 FPS)\n",
      "Epoch 26 F1: 0.41 | Best F1: 40.59 at epoch 26, iter 106496 | train_loss: 0.0009, lr: 0.0001000\n"
     ]
    },
    {
     "name": "stdout",
     "output_type": "stream",
     "text": [
      "(2000, 60) (2000, 60)\n",
      "NUM FRAMES: 120000\n"
     ]
    },
    {
     "name": "stderr",
     "output_type": "stream",
     "text": [
      "Epoch:27 Training: 100%|██████████| 16/16 [00:00<00:00, 112.92it/s, lr: 0.0001000]\n",
      "Processed 2000 frames in 0.0 seconds (57520.4 FPS)\n",
      "Epoch 27 F1: 0.41 | Best F1: 40.77 at epoch 27, iter 110592 | train_loss: 0.0008, lr: 0.0001000\n"
     ]
    },
    {
     "name": "stdout",
     "output_type": "stream",
     "text": [
      "(2000, 60) (2000, 60)\n",
      "NUM FRAMES: 120000\n"
     ]
    },
    {
     "name": "stderr",
     "output_type": "stream",
     "text": [
      "Epoch:28 Training: 100%|██████████| 16/16 [00:00<00:00, 107.30it/s, lr: 0.0001000]\n",
      "Processed 2000 frames in 0.0 seconds (58030.6 FPS)\n",
      "Epoch 28 F1: 0.42 | Best F1: 41.77 at epoch 28, iter 114688 | train_loss: 0.0008, lr: 0.0001000\n"
     ]
    },
    {
     "name": "stdout",
     "output_type": "stream",
     "text": [
      "(2000, 60) (2000, 60)\n",
      "NUM FRAMES: 120000\n"
     ]
    },
    {
     "name": "stderr",
     "output_type": "stream",
     "text": [
      "Epoch:29 Training: 100%|██████████| 16/16 [00:00<00:00, 133.73it/s, lr: 0.0001000]\n",
      "Processed 2000 frames in 0.1 seconds (31986.1 FPS)\n",
      "Epoch 29 F1: 0.42 | Best F1: 41.84 at epoch 29, iter 118784 | train_loss: 0.0007, lr: 0.0001000\n"
     ]
    },
    {
     "name": "stdout",
     "output_type": "stream",
     "text": [
      "(2000, 60) (2000, 60)\n",
      "NUM FRAMES: 120000\n"
     ]
    },
    {
     "name": "stderr",
     "output_type": "stream",
     "text": [
      "Epoch:30 Training: 100%|██████████| 16/16 [00:00<00:00, 121.92it/s, lr: 0.0001000]\n",
      "Processed 2000 frames in 0.1 seconds (36280.1 FPS)\n",
      "Epoch 30 F1: 0.42 | Best F1: 42.15 at epoch 30, iter 122880 | train_loss: 0.0007, lr: 0.0001000\n"
     ]
    },
    {
     "name": "stdout",
     "output_type": "stream",
     "text": [
      "(2000, 60) (2000, 60)\n",
      "NUM FRAMES: 120000\n"
     ]
    },
    {
     "name": "stderr",
     "output_type": "stream",
     "text": [
      "Epoch:31 Training: 100%|██████████| 16/16 [00:00<00:00, 121.13it/s, lr: 0.0001000]\n",
      "Processed 2000 frames in 0.1 seconds (37472.2 FPS)\n",
      "Epoch 31 F1: 0.43 | Best F1: 42.83 at epoch 31, iter 126976 | train_loss: 0.0007, lr: 0.0001000\n"
     ]
    },
    {
     "name": "stdout",
     "output_type": "stream",
     "text": [
      "(2000, 60) (2000, 60)\n",
      "NUM FRAMES: 120000\n"
     ]
    },
    {
     "name": "stderr",
     "output_type": "stream",
     "text": [
      "Epoch:32 Training: 100%|██████████| 16/16 [00:00<00:00, 111.90it/s, lr: 0.0001000]\n",
      "Processed 2000 frames in 0.1 seconds (34285.0 FPS)\n",
      "Epoch 32 F1: 0.43 | Best F1: 43.34 at epoch 32, iter 131072 | train_loss: 0.0007, lr: 0.0001000\n"
     ]
    },
    {
     "name": "stdout",
     "output_type": "stream",
     "text": [
      "(2000, 60) (2000, 60)\n",
      "NUM FRAMES: 120000\n"
     ]
    },
    {
     "name": "stderr",
     "output_type": "stream",
     "text": [
      "Epoch:33 Training: 100%|██████████| 16/16 [00:00<00:00, 107.28it/s, lr: 0.0001000]\n",
      "Processed 2000 frames in 0.1 seconds (37965.1 FPS)\n",
      "Epoch 33 F1: 0.44 | Best F1: 44.37 at epoch 33, iter 135168 | train_loss: 0.0006, lr: 0.0001000\n"
     ]
    },
    {
     "name": "stdout",
     "output_type": "stream",
     "text": [
      "(2000, 60) (2000, 60)\n",
      "NUM FRAMES: 120000\n"
     ]
    },
    {
     "name": "stderr",
     "output_type": "stream",
     "text": [
      "Epoch:34 Training: 100%|██████████| 16/16 [00:00<00:00, 118.23it/s, lr: 0.0001000]\n",
      "Processed 2000 frames in 0.1 seconds (39652.0 FPS)\n",
      "Epoch 34 F1: 0.45 | Best F1: 45.27 at epoch 34, iter 139264 | train_loss: 0.0006, lr: 0.0001000\n"
     ]
    },
    {
     "name": "stdout",
     "output_type": "stream",
     "text": [
      "(2000, 60) (2000, 60)\n",
      "NUM FRAMES: 120000\n"
     ]
    },
    {
     "name": "stderr",
     "output_type": "stream",
     "text": [
      "Epoch:35 Training: 100%|██████████| 16/16 [00:00<00:00, 114.20it/s, lr: 0.0001000]\n",
      "Processed 2000 frames in 0.1 seconds (34328.0 FPS)\n",
      "Epoch 35 F1: 0.45 | Best F1: 45.35 at epoch 35, iter 143360 | train_loss: 0.0006, lr: 0.0001000\n"
     ]
    },
    {
     "name": "stdout",
     "output_type": "stream",
     "text": [
      "(2000, 60) (2000, 60)\n",
      "NUM FRAMES: 120000\n"
     ]
    },
    {
     "name": "stderr",
     "output_type": "stream",
     "text": [
      "Epoch:36 Training: 100%|██████████| 16/16 [00:00<00:00, 99.50it/s, lr: 0.0001000]\n",
      "Processed 2000 frames in 0.1 seconds (33705.3 FPS)\n",
      "Epoch 36 F1: 0.45 | Best F1: 45.44 at epoch 36, iter 147456 | train_loss: 0.0006, lr: 0.0001000\n"
     ]
    },
    {
     "name": "stdout",
     "output_type": "stream",
     "text": [
      "(2000, 60) (2000, 60)\n",
      "NUM FRAMES: 120000\n"
     ]
    },
    {
     "name": "stderr",
     "output_type": "stream",
     "text": [
      "Epoch:37 Training: 100%|██████████| 16/16 [00:00<00:00, 102.89it/s, lr: 0.0001000]\n",
      "Processed 2000 frames in 0.0 seconds (53273.5 FPS)\n",
      "Epoch 37 F1: 0.47 | Best F1: 47.23 at epoch 37, iter 151552 | train_loss: 0.0006, lr: 0.0001000\n"
     ]
    },
    {
     "name": "stdout",
     "output_type": "stream",
     "text": [
      "(2000, 60) (2000, 60)\n",
      "NUM FRAMES: 120000\n"
     ]
    },
    {
     "name": "stderr",
     "output_type": "stream",
     "text": [
      "Epoch:38 Training: 100%|██████████| 16/16 [00:00<00:00, 114.15it/s, lr: 0.0001000]\n",
      "Processed 2000 frames in 0.0 seconds (56207.3 FPS)\n",
      "Epoch 38 F1: 0.47 | Best F1: 47.37 at epoch 38, iter 155648 | train_loss: 0.0005, lr: 0.0001000\n"
     ]
    },
    {
     "name": "stdout",
     "output_type": "stream",
     "text": [
      "(2000, 60) (2000, 60)\n",
      "NUM FRAMES: 120000\n"
     ]
    },
    {
     "name": "stderr",
     "output_type": "stream",
     "text": [
      "Epoch:39 Training: 100%|██████████| 16/16 [00:00<00:00, 112.82it/s, lr: 0.0001000]\n",
      "Processed 2000 frames in 0.1 seconds (36765.5 FPS)\n",
      "Epoch 39 F1: 0.47 | Best F1: 47.37 at epoch 38, iter 159744 | train_loss: 0.0005, lr: 0.0001000\n"
     ]
    },
    {
     "name": "stdout",
     "output_type": "stream",
     "text": [
      "(2000, 60) (2000, 60)\n",
      "NUM FRAMES: 120000\n"
     ]
    },
    {
     "name": "stderr",
     "output_type": "stream",
     "text": [
      "Epoch:40 Training: 100%|██████████| 16/16 [00:00<00:00, 131.87it/s, lr: 0.0001000]\n",
      "Processed 2000 frames in 0.1 seconds (33867.0 FPS)\n",
      "Epoch 40 F1: 0.48 | Best F1: 47.51 at epoch 40, iter 163840 | train_loss: 0.0005, lr: 0.0001000\n"
     ]
    },
    {
     "name": "stdout",
     "output_type": "stream",
     "text": [
      "(2000, 60) (2000, 60)\n",
      "NUM FRAMES: 120000\n"
     ]
    },
    {
     "name": "stderr",
     "output_type": "stream",
     "text": [
      "Epoch:41 Training: 100%|██████████| 16/16 [00:00<00:00, 127.15it/s, lr: 0.0001000]\n",
      "Processed 2000 frames in 0.0 seconds (50495.2 FPS)\n",
      "Epoch 41 F1: 0.49 | Best F1: 48.57 at epoch 41, iter 167936 | train_loss: 0.0005, lr: 0.0001000\n"
     ]
    },
    {
     "name": "stdout",
     "output_type": "stream",
     "text": [
      "(2000, 60) (2000, 60)\n",
      "NUM FRAMES: 120000\n"
     ]
    },
    {
     "name": "stderr",
     "output_type": "stream",
     "text": [
      "Epoch:42 Training: 100%|██████████| 16/16 [00:00<00:00, 113.84it/s, lr: 0.0001000]\n",
      "Processed 2000 frames in 0.0 seconds (40476.8 FPS)\n",
      "Epoch 42 F1: 0.48 | Best F1: 48.57 at epoch 41, iter 172032 | train_loss: 0.0005, lr: 0.0001000\n"
     ]
    },
    {
     "name": "stdout",
     "output_type": "stream",
     "text": [
      "(2000, 60) (2000, 60)\n",
      "NUM FRAMES: 120000\n"
     ]
    },
    {
     "name": "stderr",
     "output_type": "stream",
     "text": [
      "Epoch:43 Training: 100%|██████████| 16/16 [00:00<00:00, 138.34it/s, lr: 0.0001000]\n",
      "Processed 2000 frames in 0.0 seconds (50828.7 FPS)\n",
      "Epoch 43 F1: 0.48 | Best F1: 48.57 at epoch 41, iter 176128 | train_loss: 0.0005, lr: 0.0001000\n"
     ]
    },
    {
     "name": "stdout",
     "output_type": "stream",
     "text": [
      "(2000, 60) (2000, 60)\n",
      "NUM FRAMES: 120000\n"
     ]
    },
    {
     "name": "stderr",
     "output_type": "stream",
     "text": [
      "Epoch:44 Training: 100%|██████████| 16/16 [00:00<00:00, 125.24it/s, lr: 0.0001000]\n",
      "Processed 2000 frames in 0.1 seconds (34004.1 FPS)\n",
      "Epoch 44 F1: 0.50 | Best F1: 49.67 at epoch 44, iter 180224 | train_loss: 0.0005, lr: 0.0001000\n"
     ]
    },
    {
     "name": "stdout",
     "output_type": "stream",
     "text": [
      "(2000, 60) (2000, 60)\n",
      "NUM FRAMES: 120000\n"
     ]
    },
    {
     "name": "stderr",
     "output_type": "stream",
     "text": [
      "Epoch:45 Training: 100%|██████████| 16/16 [00:00<00:00, 127.46it/s, lr: 0.0001000]\n",
      "Processed 2000 frames in 0.1 seconds (37612.0 FPS)\n",
      "Epoch 45 F1: 0.50 | Best F1: 49.88 at epoch 45, iter 184320 | train_loss: 0.0005, lr: 0.0001000\n"
     ]
    },
    {
     "name": "stdout",
     "output_type": "stream",
     "text": [
      "(2000, 60) (2000, 60)\n",
      "NUM FRAMES: 120000\n"
     ]
    },
    {
     "name": "stderr",
     "output_type": "stream",
     "text": [
      "Epoch:46 Training: 100%|██████████| 16/16 [00:00<00:00, 128.79it/s, lr: 0.0001000]\n",
      "Processed 2000 frames in 0.1 seconds (29290.3 FPS)\n",
      "Epoch 46 F1: 0.49 | Best F1: 49.88 at epoch 45, iter 188416 | train_loss: 0.0004, lr: 0.0001000\n"
     ]
    },
    {
     "name": "stdout",
     "output_type": "stream",
     "text": [
      "(2000, 60) (2000, 60)\n",
      "NUM FRAMES: 120000\n"
     ]
    },
    {
     "name": "stderr",
     "output_type": "stream",
     "text": [
      "Epoch:47 Training: 100%|██████████| 16/16 [00:00<00:00, 115.77it/s, lr: 0.0001000]\n",
      "Processed 2000 frames in 0.0 seconds (49927.4 FPS)\n",
      "Epoch 47 F1: 0.50 | Best F1: 49.95 at epoch 47, iter 192512 | train_loss: 0.0004, lr: 0.0001000\n"
     ]
    },
    {
     "name": "stdout",
     "output_type": "stream",
     "text": [
      "(2000, 60) (2000, 60)\n",
      "NUM FRAMES: 120000\n"
     ]
    },
    {
     "name": "stderr",
     "output_type": "stream",
     "text": [
      "Epoch:48 Training: 100%|██████████| 16/16 [00:00<00:00, 119.92it/s, lr: 0.0001000]\n",
      "Processed 2000 frames in 0.1 seconds (33220.4 FPS)\n",
      "Epoch 48 F1: 0.52 | Best F1: 51.75 at epoch 48, iter 196608 | train_loss: 0.0004, lr: 0.0001000\n"
     ]
    },
    {
     "name": "stdout",
     "output_type": "stream",
     "text": [
      "(2000, 60) (2000, 60)\n",
      "NUM FRAMES: 120000\n"
     ]
    },
    {
     "name": "stderr",
     "output_type": "stream",
     "text": [
      "Epoch:49 Training: 100%|██████████| 16/16 [00:00<00:00, 116.12it/s, lr: 0.0001000]\n",
      "Processed 2000 frames in 0.0 seconds (45853.2 FPS)\n",
      "Epoch 49 F1: 0.52 | Best F1: 51.75 at epoch 48, iter 200704 | train_loss: 0.0004, lr: 0.0001000\n"
     ]
    },
    {
     "name": "stdout",
     "output_type": "stream",
     "text": [
      "(2000, 60) (2000, 60)\n",
      "NUM FRAMES: 120000\n"
     ]
    },
    {
     "name": "stderr",
     "output_type": "stream",
     "text": [
      "Epoch:50 Training: 100%|██████████| 16/16 [00:00<00:00, 118.02it/s, lr: 0.0001000]\n",
      "Processed 2000 frames in 0.0 seconds (59877.1 FPS)\n",
      "Epoch 50 F1: 0.51 | Best F1: 51.75 at epoch 48, iter 204800 | train_loss: 0.0004, lr: 0.0001000\n"
     ]
    },
    {
     "name": "stdout",
     "output_type": "stream",
     "text": [
      "(2000, 60) (2000, 60)\n",
      "NUM FRAMES: 120000\n"
     ]
    },
    {
     "name": "stderr",
     "output_type": "stream",
     "text": [
      "Epoch:51 Training: 100%|██████████| 16/16 [00:00<00:00, 126.95it/s, lr: 0.0001000]\n",
      "Processed 2000 frames in 0.1 seconds (32642.8 FPS)\n",
      "Epoch 51 F1: 0.52 | Best F1: 51.88 at epoch 51, iter 208896 | train_loss: 0.0004, lr: 0.0001000\n"
     ]
    },
    {
     "name": "stdout",
     "output_type": "stream",
     "text": [
      "(2000, 60) (2000, 60)\n",
      "NUM FRAMES: 120000\n"
     ]
    },
    {
     "name": "stderr",
     "output_type": "stream",
     "text": [
      "Epoch:52 Training: 100%|██████████| 16/16 [00:00<00:00, 112.23it/s, lr: 0.0001000]\n",
      "Processed 2000 frames in 0.1 seconds (37833.6 FPS)\n",
      "Epoch 52 F1: 0.52 | Best F1: 52.02 at epoch 52, iter 212992 | train_loss: 0.0004, lr: 0.0001000\n"
     ]
    },
    {
     "name": "stdout",
     "output_type": "stream",
     "text": [
      "(2000, 60) (2000, 60)\n",
      "NUM FRAMES: 120000\n"
     ]
    },
    {
     "name": "stderr",
     "output_type": "stream",
     "text": [
      "Epoch:53 Training: 100%|██████████| 16/16 [00:00<00:00, 114.76it/s, lr: 0.0001000]\n",
      "Processed 2000 frames in 0.0 seconds (57917.2 FPS)\n",
      "Epoch 53 F1: 0.54 | Best F1: 53.51 at epoch 53, iter 217088 | train_loss: 0.0004, lr: 0.0001000\n"
     ]
    },
    {
     "name": "stdout",
     "output_type": "stream",
     "text": [
      "(2000, 60) (2000, 60)\n",
      "NUM FRAMES: 120000\n"
     ]
    },
    {
     "name": "stderr",
     "output_type": "stream",
     "text": [
      "Epoch:54 Training: 100%|██████████| 16/16 [00:00<00:00, 121.93it/s, lr: 0.0001000]\n",
      "Processed 2000 frames in 0.0 seconds (53331.8 FPS)\n",
      "Epoch 54 F1: 0.52 | Best F1: 53.51 at epoch 53, iter 221184 | train_loss: 0.0004, lr: 0.0001000\n"
     ]
    },
    {
     "name": "stdout",
     "output_type": "stream",
     "text": [
      "(2000, 60) (2000, 60)\n",
      "NUM FRAMES: 120000\n"
     ]
    },
    {
     "name": "stderr",
     "output_type": "stream",
     "text": [
      "Epoch:55 Training: 100%|██████████| 16/16 [00:00<00:00, 120.70it/s, lr: 0.0001000]\n",
      "Processed 2000 frames in 0.1 seconds (34725.4 FPS)\n",
      "Epoch 55 F1: 0.54 | Best F1: 53.62 at epoch 55, iter 225280 | train_loss: 0.0004, lr: 0.0001000\n"
     ]
    },
    {
     "name": "stdout",
     "output_type": "stream",
     "text": [
      "(2000, 60) (2000, 60)\n",
      "NUM FRAMES: 120000\n"
     ]
    },
    {
     "name": "stderr",
     "output_type": "stream",
     "text": [
      "Epoch:56 Training: 100%|██████████| 16/16 [00:00<00:00, 106.74it/s, lr: 0.0001000]\n",
      "Processed 2000 frames in 0.0 seconds (51428.5 FPS)\n",
      "Epoch 56 F1: 0.52 | Best F1: 53.62 at epoch 55, iter 229376 | train_loss: 0.0004, lr: 0.0001000\n"
     ]
    },
    {
     "name": "stdout",
     "output_type": "stream",
     "text": [
      "(2000, 60) (2000, 60)\n",
      "NUM FRAMES: 120000\n"
     ]
    },
    {
     "name": "stderr",
     "output_type": "stream",
     "text": [
      "Epoch:57 Training: 100%|██████████| 16/16 [00:00<00:00, 111.09it/s, lr: 0.0001000]\n",
      "Processed 2000 frames in 0.1 seconds (34880.9 FPS)\n",
      "Epoch 57 F1: 0.54 | Best F1: 54.48 at epoch 57, iter 233472 | train_loss: 0.0003, lr: 0.0001000\n"
     ]
    },
    {
     "name": "stdout",
     "output_type": "stream",
     "text": [
      "(2000, 60) (2000, 60)\n",
      "NUM FRAMES: 120000\n"
     ]
    },
    {
     "name": "stderr",
     "output_type": "stream",
     "text": [
      "Epoch:58 Training: 100%|██████████| 16/16 [00:00<00:00, 116.79it/s, lr: 0.0001000]\n",
      "Processed 2000 frames in 0.0 seconds (43759.5 FPS)\n",
      "Epoch 58 F1: 0.56 | Best F1: 56.00 at epoch 58, iter 237568 | train_loss: 0.0003, lr: 0.0001000\n"
     ]
    },
    {
     "name": "stdout",
     "output_type": "stream",
     "text": [
      "(2000, 60) (2000, 60)\n",
      "NUM FRAMES: 120000\n"
     ]
    },
    {
     "name": "stderr",
     "output_type": "stream",
     "text": [
      "Epoch:59 Training: 100%|██████████| 16/16 [00:00<00:00, 132.43it/s, lr: 0.0001000]\n",
      "Processed 2000 frames in 0.1 seconds (39945.4 FPS)\n",
      "Epoch 59 F1: 0.56 | Best F1: 56.00 at epoch 58, iter 241664 | train_loss: 0.0003, lr: 0.0001000\n"
     ]
    },
    {
     "name": "stdout",
     "output_type": "stream",
     "text": [
      "(2000, 60) (2000, 60)\n",
      "NUM FRAMES: 120000\n"
     ]
    },
    {
     "name": "stderr",
     "output_type": "stream",
     "text": [
      "Epoch:60 Training: 100%|██████████| 16/16 [00:00<00:00, 110.83it/s, lr: 0.0001000]\n",
      "Processed 2000 frames in 0.1 seconds (35831.3 FPS)\n",
      "Epoch 60 F1: 0.58 | Best F1: 57.52 at epoch 60, iter 245760 | train_loss: 0.0003, lr: 0.0001000\n"
     ]
    },
    {
     "name": "stdout",
     "output_type": "stream",
     "text": [
      "(2000, 60) (2000, 60)\n",
      "NUM FRAMES: 120000\n"
     ]
    },
    {
     "name": "stderr",
     "output_type": "stream",
     "text": [
      "Epoch:61 Training: 100%|██████████| 16/16 [00:00<00:00, 116.42it/s, lr: 0.0001000]\n",
      "Processed 2000 frames in 0.1 seconds (35114.8 FPS)\n",
      "Epoch 61 F1: 0.58 | Best F1: 57.70 at epoch 61, iter 249856 | train_loss: 0.0003, lr: 0.0001000\n"
     ]
    },
    {
     "name": "stdout",
     "output_type": "stream",
     "text": [
      "(2000, 60) (2000, 60)\n",
      "NUM FRAMES: 120000\n"
     ]
    },
    {
     "name": "stderr",
     "output_type": "stream",
     "text": [
      "Epoch:62 Training: 100%|██████████| 16/16 [00:00<00:00, 115.26it/s, lr: 0.0001000]\n",
      "Processed 2000 frames in 0.1 seconds (36183.5 FPS)\n",
      "Epoch 62 F1: 0.58 | Best F1: 57.86 at epoch 62, iter 253952 | train_loss: 0.0003, lr: 0.0001000\n"
     ]
    },
    {
     "name": "stdout",
     "output_type": "stream",
     "text": [
      "(2000, 60) (2000, 60)\n",
      "NUM FRAMES: 120000\n"
     ]
    },
    {
     "name": "stderr",
     "output_type": "stream",
     "text": [
      "Epoch:63 Training: 100%|██████████| 16/16 [00:00<00:00, 118.21it/s, lr: 0.0001000]\n",
      "Processed 2000 frames in 0.1 seconds (33840.6 FPS)\n",
      "Epoch 63 F1: 0.59 | Best F1: 59.05 at epoch 63, iter 258048 | train_loss: 0.0003, lr: 0.0001000\n"
     ]
    },
    {
     "name": "stdout",
     "output_type": "stream",
     "text": [
      "(2000, 60) (2000, 60)\n",
      "NUM FRAMES: 120000\n"
     ]
    },
    {
     "name": "stderr",
     "output_type": "stream",
     "text": [
      "Epoch:64 Training: 100%|██████████| 16/16 [00:00<00:00, 112.72it/s, lr: 0.0001000]\n",
      "Processed 2000 frames in 0.0 seconds (45571.2 FPS)\n",
      "Epoch 64 F1: 0.58 | Best F1: 59.05 at epoch 63, iter 262144 | train_loss: 0.0003, lr: 0.0001000\n"
     ]
    },
    {
     "name": "stdout",
     "output_type": "stream",
     "text": [
      "(2000, 60) (2000, 60)\n",
      "NUM FRAMES: 120000\n"
     ]
    },
    {
     "name": "stderr",
     "output_type": "stream",
     "text": [
      "Epoch:65 Training: 100%|██████████| 16/16 [00:00<00:00, 113.25it/s, lr: 0.0001000]\n",
      "Processed 2000 frames in 0.1 seconds (33603.6 FPS)\n",
      "Epoch 65 F1: 0.60 | Best F1: 60.03 at epoch 65, iter 266240 | train_loss: 0.0003, lr: 0.0001000\n"
     ]
    },
    {
     "name": "stdout",
     "output_type": "stream",
     "text": [
      "(2000, 60) (2000, 60)\n",
      "NUM FRAMES: 120000\n"
     ]
    },
    {
     "name": "stderr",
     "output_type": "stream",
     "text": [
      "Epoch:66 Training: 100%|██████████| 16/16 [00:00<00:00, 111.95it/s, lr: 0.0001000]\n",
      "Processed 2000 frames in 0.0 seconds (48613.3 FPS)\n",
      "Epoch 66 F1: 0.58 | Best F1: 60.03 at epoch 65, iter 270336 | train_loss: 0.0003, lr: 0.0001000\n"
     ]
    },
    {
     "name": "stdout",
     "output_type": "stream",
     "text": [
      "(2000, 60) (2000, 60)\n",
      "NUM FRAMES: 120000\n"
     ]
    },
    {
     "name": "stderr",
     "output_type": "stream",
     "text": [
      "Epoch:67 Training: 100%|██████████| 16/16 [00:00<00:00, 117.24it/s, lr: 0.0001000]\n",
      "Processed 2000 frames in 0.1 seconds (34427.2 FPS)\n",
      "Epoch 67 F1: 0.59 | Best F1: 60.03 at epoch 65, iter 274432 | train_loss: 0.0003, lr: 0.0001000\n"
     ]
    },
    {
     "name": "stdout",
     "output_type": "stream",
     "text": [
      "(2000, 60) (2000, 60)\n",
      "NUM FRAMES: 120000\n"
     ]
    },
    {
     "name": "stderr",
     "output_type": "stream",
     "text": [
      "Epoch:68 Training: 100%|██████████| 16/16 [00:00<00:00, 105.11it/s, lr: 0.0001000]\n",
      "Processed 2000 frames in 0.1 seconds (34066.2 FPS)\n",
      "Epoch 68 F1: 0.61 | Best F1: 60.63 at epoch 68, iter 278528 | train_loss: 0.0003, lr: 0.0001000\n"
     ]
    },
    {
     "name": "stdout",
     "output_type": "stream",
     "text": [
      "(2000, 60) (2000, 60)\n",
      "NUM FRAMES: 120000\n"
     ]
    },
    {
     "name": "stderr",
     "output_type": "stream",
     "text": [
      "Epoch:69 Training: 100%|██████████| 16/16 [00:00<00:00, 97.69it/s, lr: 0.0001000]\n",
      "Processed 2000 frames in 0.1 seconds (33905.4 FPS)\n",
      "Epoch 69 F1: 0.61 | Best F1: 61.47 at epoch 69, iter 282624 | train_loss: 0.0003, lr: 0.0001000\n"
     ]
    },
    {
     "name": "stdout",
     "output_type": "stream",
     "text": [
      "(2000, 60) (2000, 60)\n",
      "NUM FRAMES: 120000\n"
     ]
    },
    {
     "name": "stderr",
     "output_type": "stream",
     "text": [
      "Epoch:70 Training: 100%|██████████| 16/16 [00:00<00:00, 105.47it/s, lr: 0.0001000]\n",
      "Processed 2000 frames in 0.1 seconds (33140.3 FPS)\n",
      "Epoch 70 F1: 0.61 | Best F1: 61.47 at epoch 69, iter 286720 | train_loss: 0.0003, lr: 0.0001000\n"
     ]
    },
    {
     "name": "stdout",
     "output_type": "stream",
     "text": [
      "(2000, 60) (2000, 60)\n",
      "NUM FRAMES: 120000\n"
     ]
    },
    {
     "name": "stderr",
     "output_type": "stream",
     "text": [
      "Epoch:71 Training: 100%|██████████| 16/16 [00:00<00:00, 111.67it/s, lr: 0.0001000]\n",
      "Processed 2000 frames in 0.1 seconds (33980.4 FPS)\n",
      "Epoch 71 F1: 0.62 | Best F1: 62.31 at epoch 71, iter 290816 | train_loss: 0.0002, lr: 0.0001000\n"
     ]
    },
    {
     "name": "stdout",
     "output_type": "stream",
     "text": [
      "(2000, 60) (2000, 60)\n",
      "NUM FRAMES: 120000\n"
     ]
    },
    {
     "name": "stderr",
     "output_type": "stream",
     "text": [
      "Epoch:72 Training: 100%|██████████| 16/16 [00:00<00:00, 103.91it/s, lr: 0.0001000]\n",
      "Processed 2000 frames in 0.0 seconds (55298.1 FPS)\n",
      "Epoch 72 F1: 0.61 | Best F1: 62.31 at epoch 71, iter 294912 | train_loss: 0.0002, lr: 0.0001000\n"
     ]
    },
    {
     "name": "stdout",
     "output_type": "stream",
     "text": [
      "(2000, 60) (2000, 60)\n",
      "NUM FRAMES: 120000\n"
     ]
    },
    {
     "name": "stderr",
     "output_type": "stream",
     "text": [
      "Epoch:73 Training: 100%|██████████| 16/16 [00:00<00:00, 118.67it/s, lr: 0.0001000]\n",
      "Processed 2000 frames in 0.0 seconds (50599.9 FPS)\n",
      "Epoch 73 F1: 0.63 | Best F1: 62.65 at epoch 73, iter 299008 | train_loss: 0.0002, lr: 0.0001000\n"
     ]
    },
    {
     "name": "stdout",
     "output_type": "stream",
     "text": [
      "(2000, 60) (2000, 60)\n",
      "NUM FRAMES: 120000\n"
     ]
    },
    {
     "name": "stderr",
     "output_type": "stream",
     "text": [
      "Epoch:74 Training: 100%|██████████| 16/16 [00:00<00:00, 117.82it/s, lr: 0.0001000]\n",
      "Processed 2000 frames in 0.1 seconds (34426.9 FPS)\n",
      "Epoch 74 F1: 0.63 | Best F1: 62.65 at epoch 73, iter 303104 | train_loss: 0.0002, lr: 0.0001000\n"
     ]
    },
    {
     "name": "stdout",
     "output_type": "stream",
     "text": [
      "(2000, 60) (2000, 60)\n",
      "NUM FRAMES: 120000\n"
     ]
    },
    {
     "name": "stderr",
     "output_type": "stream",
     "text": [
      "Epoch:75 Training: 100%|██████████| 16/16 [00:00<00:00, 119.41it/s, lr: 0.0001000]\n",
      "Processed 2000 frames in 0.0 seconds (48660.4 FPS)\n",
      "Epoch 75 F1: 0.63 | Best F1: 62.65 at epoch 73, iter 307200 | train_loss: 0.0002, lr: 0.0001000\n"
     ]
    },
    {
     "name": "stdout",
     "output_type": "stream",
     "text": [
      "(2000, 60) (2000, 60)\n",
      "NUM FRAMES: 120000\n"
     ]
    },
    {
     "name": "stderr",
     "output_type": "stream",
     "text": [
      "Epoch:76 Training: 100%|██████████| 16/16 [00:00<00:00, 116.24it/s, lr: 0.0001000]\n",
      "Processed 2000 frames in 0.0 seconds (51490.1 FPS)\n",
      "Epoch 76 F1: 0.62 | Best F1: 62.65 at epoch 73, iter 311296 | train_loss: 0.0002, lr: 0.0001000\n"
     ]
    },
    {
     "name": "stdout",
     "output_type": "stream",
     "text": [
      "(2000, 60) (2000, 60)\n",
      "NUM FRAMES: 120000\n"
     ]
    },
    {
     "name": "stderr",
     "output_type": "stream",
     "text": [
      "Epoch:77 Training: 100%|██████████| 16/16 [00:00<00:00, 112.10it/s, lr: 0.0001000]\n",
      "Processed 2000 frames in 0.0 seconds (42689.9 FPS)\n",
      "Epoch 77 F1: 0.64 | Best F1: 63.90 at epoch 77, iter 315392 | train_loss: 0.0002, lr: 0.0001000\n"
     ]
    },
    {
     "name": "stdout",
     "output_type": "stream",
     "text": [
      "(2000, 60) (2000, 60)\n",
      "NUM FRAMES: 120000\n"
     ]
    },
    {
     "name": "stderr",
     "output_type": "stream",
     "text": [
      "Epoch:78 Training: 100%|██████████| 16/16 [00:00<00:00, 110.31it/s, lr: 0.0001000]\n",
      "Processed 2000 frames in 0.1 seconds (38752.7 FPS)\n",
      "Epoch 78 F1: 0.64 | Best F1: 63.98 at epoch 78, iter 319488 | train_loss: 0.0002, lr: 0.0001000\n"
     ]
    },
    {
     "name": "stdout",
     "output_type": "stream",
     "text": [
      "(2000, 60) (2000, 60)\n",
      "NUM FRAMES: 120000\n"
     ]
    },
    {
     "name": "stderr",
     "output_type": "stream",
     "text": [
      "Epoch:79 Training: 100%|██████████| 16/16 [00:00<00:00, 125.73it/s, lr: 0.0001000]\n",
      "Processed 2000 frames in 0.0 seconds (50748.1 FPS)\n",
      "Epoch 79 F1: 0.63 | Best F1: 63.98 at epoch 78, iter 323584 | train_loss: 0.0002, lr: 0.0001000\n"
     ]
    },
    {
     "name": "stdout",
     "output_type": "stream",
     "text": [
      "(2000, 60) (2000, 60)\n",
      "NUM FRAMES: 120000\n"
     ]
    },
    {
     "name": "stderr",
     "output_type": "stream",
     "text": [
      "Epoch:80 Training: 100%|██████████| 16/16 [00:00<00:00, 116.26it/s, lr: 0.0001000]\n",
      "Processed 2000 frames in 0.0 seconds (59068.0 FPS)\n",
      "Epoch 80 F1: 0.64 | Best F1: 64.03 at epoch 80, iter 327680 | train_loss: 0.0002, lr: 0.0001000\n"
     ]
    },
    {
     "name": "stdout",
     "output_type": "stream",
     "text": [
      "(2000, 60) (2000, 60)\n",
      "NUM FRAMES: 120000\n"
     ]
    },
    {
     "name": "stderr",
     "output_type": "stream",
     "text": [
      "Epoch:81 Training: 100%|██████████| 16/16 [00:00<00:00, 103.39it/s, lr: 0.0001000]\n",
      "Processed 2000 frames in 0.0 seconds (51203.4 FPS)\n",
      "Epoch 81 F1: 0.64 | Best F1: 64.43 at epoch 81, iter 331776 | train_loss: 0.0002, lr: 0.0001000\n"
     ]
    },
    {
     "name": "stdout",
     "output_type": "stream",
     "text": [
      "(2000, 60) (2000, 60)\n",
      "NUM FRAMES: 120000\n"
     ]
    },
    {
     "name": "stderr",
     "output_type": "stream",
     "text": [
      "Epoch:82 Training: 100%|██████████| 16/16 [00:00<00:00, 129.66it/s, lr: 0.0001000]\n",
      "Processed 2000 frames in 0.0 seconds (52148.5 FPS)\n",
      "Epoch 82 F1: 0.65 | Best F1: 64.51 at epoch 82, iter 335872 | train_loss: 0.0002, lr: 0.0001000\n"
     ]
    },
    {
     "name": "stdout",
     "output_type": "stream",
     "text": [
      "(2000, 60) (2000, 60)\n",
      "NUM FRAMES: 120000\n"
     ]
    },
    {
     "name": "stderr",
     "output_type": "stream",
     "text": [
      "Epoch:83 Training: 100%|██████████| 16/16 [00:00<00:00, 120.83it/s, lr: 0.0001000]\n",
      "Processed 2000 frames in 0.0 seconds (50910.1 FPS)\n",
      "Epoch 83 F1: 0.65 | Best F1: 65.02 at epoch 83, iter 339968 | train_loss: 0.0002, lr: 0.0001000\n"
     ]
    },
    {
     "name": "stdout",
     "output_type": "stream",
     "text": [
      "(2000, 60) (2000, 60)\n",
      "NUM FRAMES: 120000\n"
     ]
    },
    {
     "name": "stderr",
     "output_type": "stream",
     "text": [
      "Epoch:84 Training: 100%|██████████| 16/16 [00:00<00:00, 115.95it/s, lr: 0.0001000]\n",
      "Processed 2000 frames in 0.0 seconds (52922.0 FPS)\n",
      "Epoch 84 F1: 0.65 | Best F1: 65.35 at epoch 84, iter 344064 | train_loss: 0.0002, lr: 0.0001000\n"
     ]
    },
    {
     "name": "stdout",
     "output_type": "stream",
     "text": [
      "(2000, 60) (2000, 60)\n",
      "NUM FRAMES: 120000\n"
     ]
    },
    {
     "name": "stderr",
     "output_type": "stream",
     "text": [
      "Epoch:85 Training: 100%|██████████| 16/16 [00:00<00:00, 121.83it/s, lr: 0.0001000]\n",
      "Processed 2000 frames in 0.0 seconds (46393.8 FPS)\n",
      "Epoch 85 F1: 0.64 | Best F1: 65.35 at epoch 84, iter 348160 | train_loss: 0.0002, lr: 0.0001000\n"
     ]
    },
    {
     "name": "stdout",
     "output_type": "stream",
     "text": [
      "(2000, 60) (2000, 60)\n",
      "NUM FRAMES: 120000\n"
     ]
    },
    {
     "name": "stderr",
     "output_type": "stream",
     "text": [
      "Epoch:86 Training: 100%|██████████| 16/16 [00:00<00:00, 112.42it/s, lr: 0.0001000]\n",
      "Processed 2000 frames in 0.1 seconds (35818.3 FPS)\n",
      "Epoch 86 F1: 0.66 | Best F1: 65.71 at epoch 86, iter 352256 | train_loss: 0.0002, lr: 0.0001000\n"
     ]
    },
    {
     "name": "stdout",
     "output_type": "stream",
     "text": [
      "(2000, 60) (2000, 60)\n",
      "NUM FRAMES: 120000\n"
     ]
    },
    {
     "name": "stderr",
     "output_type": "stream",
     "text": [
      "Epoch:87 Training: 100%|██████████| 16/16 [00:00<00:00, 117.49it/s, lr: 0.0001000]\n",
      "Processed 2000 frames in 0.1 seconds (33928.6 FPS)\n",
      "Epoch 87 F1: 0.66 | Best F1: 65.71 at epoch 86, iter 356352 | train_loss: 0.0002, lr: 0.0001000\n"
     ]
    },
    {
     "name": "stdout",
     "output_type": "stream",
     "text": [
      "(2000, 60) (2000, 60)\n",
      "NUM FRAMES: 120000\n"
     ]
    },
    {
     "name": "stderr",
     "output_type": "stream",
     "text": [
      "Epoch:88 Training: 100%|██████████| 16/16 [00:00<00:00, 127.12it/s, lr: 0.0001000]\n",
      "Processed 2000 frames in 0.0 seconds (46904.6 FPS)\n",
      "Epoch 88 F1: 0.66 | Best F1: 65.71 at epoch 86, iter 360448 | train_loss: 0.0002, lr: 0.0001000\n"
     ]
    },
    {
     "name": "stdout",
     "output_type": "stream",
     "text": [
      "(2000, 60) (2000, 60)\n",
      "NUM FRAMES: 120000\n"
     ]
    },
    {
     "name": "stderr",
     "output_type": "stream",
     "text": [
      "Epoch:89 Training: 100%|██████████| 16/16 [00:00<00:00, 121.85it/s, lr: 0.0001000]\n",
      "Processed 2000 frames in 0.1 seconds (34542.8 FPS)\n",
      "Epoch 89 F1: 0.66 | Best F1: 66.23 at epoch 89, iter 364544 | train_loss: 0.0002, lr: 0.0001000\n"
     ]
    },
    {
     "name": "stdout",
     "output_type": "stream",
     "text": [
      "(2000, 60) (2000, 60)\n",
      "NUM FRAMES: 120000\n"
     ]
    },
    {
     "name": "stderr",
     "output_type": "stream",
     "text": [
      "Epoch:90 Training: 100%|██████████| 16/16 [00:00<00:00, 119.20it/s, lr: 0.0001000]\n",
      "Processed 2000 frames in 0.1 seconds (32815.9 FPS)\n",
      "Epoch 90 F1: 0.67 | Best F1: 67.11 at epoch 90, iter 368640 | train_loss: 0.0002, lr: 0.0001000\n"
     ]
    },
    {
     "name": "stdout",
     "output_type": "stream",
     "text": [
      "(2000, 60) (2000, 60)\n",
      "NUM FRAMES: 120000\n"
     ]
    },
    {
     "name": "stderr",
     "output_type": "stream",
     "text": [
      "Epoch:91 Training: 100%|██████████| 16/16 [00:00<00:00, 118.75it/s, lr: 0.0001000]\n",
      "Processed 2000 frames in 0.1 seconds (36806.8 FPS)\n",
      "Epoch 91 F1: 0.67 | Best F1: 67.11 at epoch 90, iter 372736 | train_loss: 0.0002, lr: 0.0001000\n"
     ]
    },
    {
     "name": "stdout",
     "output_type": "stream",
     "text": [
      "(2000, 60) (2000, 60)\n",
      "NUM FRAMES: 120000\n"
     ]
    },
    {
     "name": "stderr",
     "output_type": "stream",
     "text": [
      "Epoch:92 Training: 100%|██████████| 16/16 [00:00<00:00, 144.93it/s, lr: 0.0001000]\n",
      "Processed 2000 frames in 0.0 seconds (44309.4 FPS)\n",
      "Epoch 92 F1: 0.67 | Best F1: 67.11 at epoch 90, iter 376832 | train_loss: 0.0002, lr: 0.0001000\n"
     ]
    },
    {
     "name": "stdout",
     "output_type": "stream",
     "text": [
      "(2000, 60) (2000, 60)\n",
      "NUM FRAMES: 120000\n"
     ]
    },
    {
     "name": "stderr",
     "output_type": "stream",
     "text": [
      "Epoch:93 Training: 100%|██████████| 16/16 [00:00<00:00, 112.98it/s, lr: 0.0001000]\n",
      "Processed 2000 frames in 0.1 seconds (33940.5 FPS)\n",
      "Epoch 93 F1: 0.67 | Best F1: 67.11 at epoch 90, iter 380928 | train_loss: 0.0002, lr: 0.0001000\n"
     ]
    },
    {
     "name": "stdout",
     "output_type": "stream",
     "text": [
      "(2000, 60) (2000, 60)\n",
      "NUM FRAMES: 120000\n"
     ]
    },
    {
     "name": "stderr",
     "output_type": "stream",
     "text": [
      "Epoch:94 Training: 100%|██████████| 16/16 [00:00<00:00, 107.52it/s, lr: 0.0001000]\n",
      "Processed 2000 frames in 0.1 seconds (37447.1 FPS)\n",
      "Epoch 94 F1: 0.66 | Best F1: 67.11 at epoch 90, iter 385024 | train_loss: 0.0002, lr: 0.0001000\n"
     ]
    },
    {
     "name": "stdout",
     "output_type": "stream",
     "text": [
      "(2000, 60) (2000, 60)\n",
      "NUM FRAMES: 120000\n"
     ]
    },
    {
     "name": "stderr",
     "output_type": "stream",
     "text": [
      "Epoch:95 Training: 100%|██████████| 16/16 [00:00<00:00, 123.52it/s, lr: 0.0001000]\n",
      "Processed 2000 frames in 0.1 seconds (33711.1 FPS)\n",
      "Epoch 95 F1: 0.66 | Best F1: 67.11 at epoch 90, iter 389120 | train_loss: 0.0002, lr: 0.0001000\n"
     ]
    },
    {
     "name": "stdout",
     "output_type": "stream",
     "text": [
      "(2000, 60) (2000, 60)\n",
      "NUM FRAMES: 120000\n"
     ]
    },
    {
     "name": "stderr",
     "output_type": "stream",
     "text": [
      "Epoch:96 Training: 100%|██████████| 16/16 [00:00<00:00, 110.72it/s, lr: 0.0001000]\n",
      "Processed 2000 frames in 0.1 seconds (33511.9 FPS)\n",
      "Epoch 96 F1: 0.66 | Best F1: 67.11 at epoch 90, iter 393216 | train_loss: 0.0002, lr: 0.0001000\n"
     ]
    },
    {
     "name": "stdout",
     "output_type": "stream",
     "text": [
      "(2000, 60) (2000, 60)\n",
      "NUM FRAMES: 120000\n"
     ]
    },
    {
     "name": "stderr",
     "output_type": "stream",
     "text": [
      "Epoch:97 Training: 100%|██████████| 16/16 [00:00<00:00, 117.07it/s, lr: 0.0001000]\n",
      "Processed 2000 frames in 0.1 seconds (32477.5 FPS)\n",
      "Epoch 97 F1: 0.68 | Best F1: 67.65 at epoch 97, iter 397312 | train_loss: 0.0002, lr: 0.0001000\n"
     ]
    },
    {
     "name": "stdout",
     "output_type": "stream",
     "text": [
      "(2000, 60) (2000, 60)\n",
      "NUM FRAMES: 120000\n"
     ]
    },
    {
     "name": "stderr",
     "output_type": "stream",
     "text": [
      "Epoch:98 Training: 100%|██████████| 16/16 [00:00<00:00, 133.19it/s, lr: 0.0001000]\n",
      "Processed 2000 frames in 0.1 seconds (36614.7 FPS)\n",
      "Epoch 98 F1: 0.68 | Best F1: 67.84 at epoch 98, iter 401408 | train_loss: 0.0002, lr: 0.0001000\n"
     ]
    },
    {
     "name": "stdout",
     "output_type": "stream",
     "text": [
      "(2000, 60) (2000, 60)\n",
      "NUM FRAMES: 120000\n"
     ]
    },
    {
     "name": "stderr",
     "output_type": "stream",
     "text": [
      "Epoch:99 Training: 100%|██████████| 16/16 [00:00<00:00, 111.03it/s, lr: 0.0001000]\n",
      "Processed 2000 frames in 0.1 seconds (34612.6 FPS)\n",
      "Epoch 99 F1: 0.68 | Best F1: 68.05 at epoch 99, iter 405504 | train_loss: 0.0001, lr: 0.0001000\n"
     ]
    },
    {
     "name": "stdout",
     "output_type": "stream",
     "text": [
      "(2000, 60) (2000, 60)\n",
      "NUM FRAMES: 120000\n"
     ]
    },
    {
     "name": "stderr",
     "output_type": "stream",
     "text": [
      "Epoch:100 Training: 100%|██████████| 16/16 [00:00<00:00, 109.14it/s, lr: 0.0001000]\n",
      "Processed 2000 frames in 0.1 seconds (37446.6 FPS)\n",
      "Epoch 100 F1: 0.69 | Best F1: 68.51 at epoch 100, iter 409600 | train_loss: 0.0001, lr: 0.0001000\n"
     ]
    },
    {
     "name": "stdout",
     "output_type": "stream",
     "text": [
      "(2000, 60) (2000, 60)\n",
      "NUM FRAMES: 120000\n"
     ]
    },
    {
     "name": "stderr",
     "output_type": "stream",
     "text": [
      "Epoch:101 Training: 100%|██████████| 16/16 [00:00<00:00, 116.54it/s, lr: 0.0001000]\n",
      "Processed 2000 frames in 0.0 seconds (50463.6 FPS)\n",
      "Epoch 101 F1: 0.68 | Best F1: 68.51 at epoch 100, iter 413696 | train_loss: 0.0001, lr: 0.0001000\n"
     ]
    },
    {
     "name": "stdout",
     "output_type": "stream",
     "text": [
      "(2000, 60) (2000, 60)\n",
      "NUM FRAMES: 120000\n"
     ]
    },
    {
     "name": "stderr",
     "output_type": "stream",
     "text": [
      "Epoch:102 Training: 100%|██████████| 16/16 [00:00<00:00, 126.95it/s, lr: 0.0001000]\n",
      "Processed 2000 frames in 0.1 seconds (33352.8 FPS)\n",
      "Epoch 102 F1: 0.68 | Best F1: 68.51 at epoch 100, iter 417792 | train_loss: 0.0001, lr: 0.0001000\n"
     ]
    },
    {
     "name": "stdout",
     "output_type": "stream",
     "text": [
      "(2000, 60) (2000, 60)\n",
      "NUM FRAMES: 120000\n"
     ]
    },
    {
     "name": "stderr",
     "output_type": "stream",
     "text": [
      "Epoch:103 Training: 100%|██████████| 16/16 [00:00<00:00, 112.52it/s, lr: 0.0001000]\n",
      "Processed 2000 frames in 0.1 seconds (33907.3 FPS)\n",
      "Epoch 103 F1: 0.69 | Best F1: 68.82 at epoch 103, iter 421888 | train_loss: 0.0001, lr: 0.0001000\n"
     ]
    },
    {
     "name": "stdout",
     "output_type": "stream",
     "text": [
      "(2000, 60) (2000, 60)\n",
      "NUM FRAMES: 120000\n"
     ]
    },
    {
     "name": "stderr",
     "output_type": "stream",
     "text": [
      "Epoch:104 Training: 100%|██████████| 16/16 [00:00<00:00, 128.99it/s, lr: 0.0001000]\n",
      "Processed 2000 frames in 0.1 seconds (33978.8 FPS)\n",
      "Epoch 104 F1: 0.69 | Best F1: 69.19 at epoch 104, iter 425984 | train_loss: 0.0001, lr: 0.0001000\n"
     ]
    },
    {
     "name": "stdout",
     "output_type": "stream",
     "text": [
      "(2000, 60) (2000, 60)\n",
      "NUM FRAMES: 120000\n"
     ]
    },
    {
     "name": "stderr",
     "output_type": "stream",
     "text": [
      "Epoch:105 Training: 100%|██████████| 16/16 [00:00<00:00, 106.80it/s, lr: 0.0001000]\n",
      "Processed 2000 frames in 0.1 seconds (36576.2 FPS)\n",
      "Epoch 105 F1: 0.69 | Best F1: 69.34 at epoch 105, iter 430080 | train_loss: 0.0001, lr: 0.0001000\n"
     ]
    },
    {
     "name": "stdout",
     "output_type": "stream",
     "text": [
      "(2000, 60) (2000, 60)\n",
      "NUM FRAMES: 120000\n"
     ]
    },
    {
     "name": "stderr",
     "output_type": "stream",
     "text": [
      "Epoch:106 Training: 100%|██████████| 16/16 [00:00<00:00, 116.40it/s, lr: 0.0001000]\n",
      "Processed 2000 frames in 0.1 seconds (32316.2 FPS)\n",
      "Epoch 106 F1: 0.69 | Best F1: 69.34 at epoch 105, iter 434176 | train_loss: 0.0001, lr: 0.0001000\n"
     ]
    },
    {
     "name": "stdout",
     "output_type": "stream",
     "text": [
      "(2000, 60) (2000, 60)\n",
      "NUM FRAMES: 120000\n"
     ]
    },
    {
     "name": "stderr",
     "output_type": "stream",
     "text": [
      "Epoch:107 Training: 100%|██████████| 16/16 [00:00<00:00, 119.69it/s, lr: 0.0001000]\n",
      "Processed 2000 frames in 0.0 seconds (41494.1 FPS)\n",
      "Epoch 107 F1: 0.69 | Best F1: 69.35 at epoch 107, iter 438272 | train_loss: 0.0001, lr: 0.0001000\n"
     ]
    },
    {
     "name": "stdout",
     "output_type": "stream",
     "text": [
      "(2000, 60) (2000, 60)\n",
      "NUM FRAMES: 120000\n"
     ]
    },
    {
     "name": "stderr",
     "output_type": "stream",
     "text": [
      "Epoch:108 Training: 100%|██████████| 16/16 [00:00<00:00, 132.11it/s, lr: 0.0001000]\n",
      "Processed 2000 frames in 0.0 seconds (55894.6 FPS)\n",
      "Epoch 108 F1: 0.70 | Best F1: 69.94 at epoch 108, iter 442368 | train_loss: 0.0001, lr: 0.0001000\n"
     ]
    },
    {
     "name": "stdout",
     "output_type": "stream",
     "text": [
      "(2000, 60) (2000, 60)\n",
      "NUM FRAMES: 120000\n"
     ]
    },
    {
     "name": "stderr",
     "output_type": "stream",
     "text": [
      "Epoch:109 Training: 100%|██████████| 16/16 [00:00<00:00, 135.93it/s, lr: 0.0001000]\n",
      "Processed 2000 frames in 0.1 seconds (34308.4 FPS)\n",
      "Epoch 109 F1: 0.70 | Best F1: 69.94 at epoch 108, iter 446464 | train_loss: 0.0001, lr: 0.0001000\n"
     ]
    },
    {
     "name": "stdout",
     "output_type": "stream",
     "text": [
      "(2000, 60) (2000, 60)\n",
      "NUM FRAMES: 120000\n"
     ]
    },
    {
     "name": "stderr",
     "output_type": "stream",
     "text": [
      "Epoch:110 Training: 100%|██████████| 16/16 [00:00<00:00, 114.35it/s, lr: 0.0001000]\n",
      "Processed 2000 frames in 0.1 seconds (32912.8 FPS)\n",
      "Epoch 110 F1: 0.70 | Best F1: 69.94 at epoch 108, iter 450560 | train_loss: 0.0001, lr: 0.0001000\n"
     ]
    },
    {
     "name": "stdout",
     "output_type": "stream",
     "text": [
      "(2000, 60) (2000, 60)\n",
      "NUM FRAMES: 120000\n"
     ]
    },
    {
     "name": "stderr",
     "output_type": "stream",
     "text": [
      "Epoch:111 Training: 100%|██████████| 16/16 [00:00<00:00, 121.90it/s, lr: 0.0001000]\n",
      "Processed 2000 frames in 0.1 seconds (34241.6 FPS)\n",
      "Epoch 111 F1: 0.69 | Best F1: 69.94 at epoch 108, iter 454656 | train_loss: 0.0001, lr: 0.0001000\n"
     ]
    },
    {
     "name": "stdout",
     "output_type": "stream",
     "text": [
      "(2000, 60) (2000, 60)\n",
      "NUM FRAMES: 120000\n"
     ]
    },
    {
     "name": "stderr",
     "output_type": "stream",
     "text": [
      "Epoch:112 Training: 100%|██████████| 16/16 [00:00<00:00, 128.53it/s, lr: 0.0001000]\n",
      "Processed 2000 frames in 0.0 seconds (56348.2 FPS)\n",
      "Epoch 112 F1: 0.70 | Best F1: 69.94 at epoch 108, iter 458752 | train_loss: 0.0001, lr: 0.0001000\n"
     ]
    },
    {
     "name": "stdout",
     "output_type": "stream",
     "text": [
      "(2000, 60) (2000, 60)\n",
      "NUM FRAMES: 120000\n"
     ]
    },
    {
     "name": "stderr",
     "output_type": "stream",
     "text": [
      "Epoch:113 Training: 100%|██████████| 16/16 [00:00<00:00, 122.22it/s, lr: 0.0001000]\n",
      "Processed 2000 frames in 0.0 seconds (53213.0 FPS)\n",
      "Epoch 113 F1: 0.70 | Best F1: 69.94 at epoch 108, iter 462848 | train_loss: 0.0001, lr: 0.0001000\n"
     ]
    },
    {
     "name": "stdout",
     "output_type": "stream",
     "text": [
      "(2000, 60) (2000, 60)\n",
      "NUM FRAMES: 120000\n"
     ]
    },
    {
     "name": "stderr",
     "output_type": "stream",
     "text": [
      "Epoch:114 Training: 100%|██████████| 16/16 [00:00<00:00, 128.08it/s, lr: 0.0001000]\n",
      "Processed 2000 frames in 0.0 seconds (52203.3 FPS)\n",
      "Epoch 114 F1: 0.68 | Best F1: 69.94 at epoch 108, iter 466944 | train_loss: 0.0001, lr: 0.0001000\n"
     ]
    },
    {
     "name": "stdout",
     "output_type": "stream",
     "text": [
      "(2000, 60) (2000, 60)\n",
      "NUM FRAMES: 120000\n"
     ]
    },
    {
     "name": "stderr",
     "output_type": "stream",
     "text": [
      "Epoch:115 Training: 100%|██████████| 16/16 [00:00<00:00, 130.49it/s, lr: 0.0001000]\n",
      "Processed 2000 frames in 0.0 seconds (41761.8 FPS)\n",
      "Epoch 115 F1: 0.69 | Best F1: 69.94 at epoch 108, iter 471040 | train_loss: 0.0001, lr: 0.0001000\n"
     ]
    },
    {
     "name": "stdout",
     "output_type": "stream",
     "text": [
      "(2000, 60) (2000, 60)\n",
      "NUM FRAMES: 120000\n"
     ]
    },
    {
     "name": "stderr",
     "output_type": "stream",
     "text": [
      "Epoch:116 Training: 100%|██████████| 16/16 [00:00<00:00, 105.79it/s, lr: 0.0001000]\n",
      "Processed 2000 frames in 0.0 seconds (52753.2 FPS)\n",
      "Epoch 116 F1: 0.71 | Best F1: 71.16 at epoch 116, iter 475136 | train_loss: 0.0001, lr: 0.0001000\n"
     ]
    },
    {
     "name": "stdout",
     "output_type": "stream",
     "text": [
      "(2000, 60) (2000, 60)\n",
      "NUM FRAMES: 120000\n"
     ]
    },
    {
     "name": "stderr",
     "output_type": "stream",
     "text": [
      "Epoch:117 Training: 100%|██████████| 16/16 [00:00<00:00, 121.39it/s, lr: 0.0001000]\n",
      "Processed 2000 frames in 0.0 seconds (53922.1 FPS)\n",
      "Epoch 117 F1: 0.71 | Best F1: 71.16 at epoch 116, iter 479232 | train_loss: 0.0001, lr: 0.0001000\n"
     ]
    },
    {
     "name": "stdout",
     "output_type": "stream",
     "text": [
      "(2000, 60) (2000, 60)\n",
      "NUM FRAMES: 120000\n"
     ]
    },
    {
     "name": "stderr",
     "output_type": "stream",
     "text": [
      "Epoch:118 Training: 100%|██████████| 16/16 [00:00<00:00, 123.32it/s, lr: 0.0001000]\n",
      "Processed 2000 frames in 0.0 seconds (54036.4 FPS)\n",
      "Epoch 118 F1: 0.70 | Best F1: 71.16 at epoch 116, iter 483328 | train_loss: 0.0001, lr: 0.0001000\n"
     ]
    },
    {
     "name": "stdout",
     "output_type": "stream",
     "text": [
      "(2000, 60) (2000, 60)\n",
      "NUM FRAMES: 120000\n"
     ]
    },
    {
     "name": "stderr",
     "output_type": "stream",
     "text": [
      "Epoch:119 Training: 100%|██████████| 16/16 [00:00<00:00, 122.08it/s, lr: 0.0001000]\n",
      "Processed 2000 frames in 0.0 seconds (43594.4 FPS)\n",
      "Epoch 119 F1: 0.71 | Best F1: 71.16 at epoch 116, iter 487424 | train_loss: 0.0001, lr: 0.0001000\n"
     ]
    },
    {
     "name": "stdout",
     "output_type": "stream",
     "text": [
      "(2000, 60) (2000, 60)\n",
      "NUM FRAMES: 120000\n"
     ]
    },
    {
     "name": "stderr",
     "output_type": "stream",
     "text": [
      "Epoch:120 Training: 100%|██████████| 16/16 [00:00<00:00, 124.56it/s, lr: 0.0001000]\n",
      "Processed 2000 frames in 0.0 seconds (43222.4 FPS)\n",
      "Epoch 120 F1: 0.71 | Best F1: 71.16 at epoch 116, iter 491520 | train_loss: 0.0001, lr: 0.0001000\n"
     ]
    },
    {
     "name": "stdout",
     "output_type": "stream",
     "text": [
      "(2000, 60) (2000, 60)\n",
      "NUM FRAMES: 120000\n"
     ]
    },
    {
     "name": "stderr",
     "output_type": "stream",
     "text": [
      "Epoch:121 Training: 100%|██████████| 16/16 [00:00<00:00, 113.17it/s, lr: 0.0001000]\n",
      "Processed 2000 frames in 0.1 seconds (36175.9 FPS)\n",
      "Epoch 121 F1: 0.71 | Best F1: 71.29 at epoch 121, iter 495616 | train_loss: 0.0001, lr: 0.0001000\n"
     ]
    },
    {
     "name": "stdout",
     "output_type": "stream",
     "text": [
      "(2000, 60) (2000, 60)\n",
      "NUM FRAMES: 120000\n"
     ]
    },
    {
     "name": "stderr",
     "output_type": "stream",
     "text": [
      "Epoch:122 Training: 100%|██████████| 16/16 [00:00<00:00, 122.21it/s, lr: 0.0001000]\n",
      "Processed 2000 frames in 0.0 seconds (53341.3 FPS)\n",
      "Epoch 122 F1: 0.71 | Best F1: 71.29 at epoch 121, iter 499712 | train_loss: 0.0001, lr: 0.0001000\n"
     ]
    },
    {
     "name": "stdout",
     "output_type": "stream",
     "text": [
      "(2000, 60) (2000, 60)\n",
      "NUM FRAMES: 120000\n"
     ]
    },
    {
     "name": "stderr",
     "output_type": "stream",
     "text": [
      "Epoch:123 Training: 100%|██████████| 16/16 [00:00<00:00, 119.15it/s, lr: 0.0001000]\n",
      "Processed 2000 frames in 0.1 seconds (33621.5 FPS)\n",
      "Epoch 123 F1: 0.71 | Best F1: 71.29 at epoch 121, iter 503808 | train_loss: 0.0001, lr: 0.0001000\n"
     ]
    },
    {
     "name": "stdout",
     "output_type": "stream",
     "text": [
      "(2000, 60) (2000, 60)\n",
      "NUM FRAMES: 120000\n"
     ]
    },
    {
     "name": "stderr",
     "output_type": "stream",
     "text": [
      "Epoch:124 Training: 100%|██████████| 16/16 [00:00<00:00, 110.63it/s, lr: 0.0001000]\n",
      "Processed 2000 frames in 0.0 seconds (57927.6 FPS)\n",
      "Epoch 124 F1: 0.71 | Best F1: 71.29 at epoch 121, iter 507904 | train_loss: 0.0001, lr: 0.0001000\n"
     ]
    },
    {
     "name": "stdout",
     "output_type": "stream",
     "text": [
      "(2000, 60) (2000, 60)\n",
      "NUM FRAMES: 120000\n"
     ]
    },
    {
     "name": "stderr",
     "output_type": "stream",
     "text": [
      "Epoch:125 Training: 100%|██████████| 16/16 [00:00<00:00, 145.86it/s, lr: 0.0001000]\n",
      "Processed 2000 frames in 0.0 seconds (47844.1 FPS)\n",
      "Epoch 125 F1: 0.71 | Best F1: 71.29 at epoch 121, iter 512000 | train_loss: 0.0001, lr: 0.0001000\n"
     ]
    },
    {
     "name": "stdout",
     "output_type": "stream",
     "text": [
      "(2000, 60) (2000, 60)\n",
      "NUM FRAMES: 120000\n"
     ]
    },
    {
     "name": "stderr",
     "output_type": "stream",
     "text": [
      "Epoch:126 Training: 100%|██████████| 16/16 [00:00<00:00, 123.62it/s, lr: 0.0001000]\n",
      "Processed 2000 frames in 0.0 seconds (58274.1 FPS)\n",
      "Epoch 126 F1: 0.72 | Best F1: 72.10 at epoch 126, iter 516096 | train_loss: 0.0001, lr: 0.0001000\n"
     ]
    },
    {
     "name": "stdout",
     "output_type": "stream",
     "text": [
      "(2000, 60) (2000, 60)\n",
      "NUM FRAMES: 120000\n"
     ]
    },
    {
     "name": "stderr",
     "output_type": "stream",
     "text": [
      "Epoch:127 Training: 100%|██████████| 16/16 [00:00<00:00, 125.78it/s, lr: 0.0001000]\n",
      "Processed 2000 frames in 0.0 seconds (53275.5 FPS)\n",
      "Epoch 127 F1: 0.71 | Best F1: 72.10 at epoch 126, iter 520192 | train_loss: 0.0001, lr: 0.0001000\n"
     ]
    },
    {
     "name": "stdout",
     "output_type": "stream",
     "text": [
      "(2000, 60) (2000, 60)\n",
      "NUM FRAMES: 120000\n"
     ]
    },
    {
     "name": "stderr",
     "output_type": "stream",
     "text": [
      "Epoch:128 Training: 100%|██████████| 16/16 [00:00<00:00, 103.35it/s, lr: 0.0001000]\n",
      "Processed 2000 frames in 0.1 seconds (34089.8 FPS)\n",
      "Epoch 128 F1: 0.71 | Best F1: 72.10 at epoch 126, iter 524288 | train_loss: 0.0001, lr: 0.0001000\n"
     ]
    },
    {
     "name": "stdout",
     "output_type": "stream",
     "text": [
      "(2000, 60) (2000, 60)\n",
      "NUM FRAMES: 120000\n"
     ]
    },
    {
     "name": "stderr",
     "output_type": "stream",
     "text": [
      "Epoch:129 Training: 100%|██████████| 16/16 [00:00<00:00, 119.35it/s, lr: 0.0001000]\n",
      "Processed 2000 frames in 0.1 seconds (33958.8 FPS)\n",
      "Epoch 129 F1: 0.72 | Best F1: 72.10 at epoch 126, iter 528384 | train_loss: 0.0001, lr: 0.0001000\n"
     ]
    },
    {
     "name": "stdout",
     "output_type": "stream",
     "text": [
      "(2000, 60) (2000, 60)\n",
      "NUM FRAMES: 120000\n"
     ]
    },
    {
     "name": "stderr",
     "output_type": "stream",
     "text": [
      "Epoch:130 Training: 100%|██████████| 16/16 [00:00<00:00, 113.53it/s, lr: 0.0001000]\n",
      "Processed 2000 frames in 0.1 seconds (34748.4 FPS)\n",
      "Epoch 130 F1: 0.73 | Best F1: 72.67 at epoch 130, iter 532480 | train_loss: 0.0001, lr: 0.0001000\n"
     ]
    },
    {
     "name": "stdout",
     "output_type": "stream",
     "text": [
      "(2000, 60) (2000, 60)\n",
      "NUM FRAMES: 120000\n"
     ]
    },
    {
     "name": "stderr",
     "output_type": "stream",
     "text": [
      "Epoch:131 Training: 100%|██████████| 16/16 [00:00<00:00, 119.65it/s, lr: 0.0001000]\n",
      "Processed 2000 frames in 0.1 seconds (36779.2 FPS)\n",
      "Epoch 131 F1: 0.72 | Best F1: 72.67 at epoch 130, iter 536576 | train_loss: 0.0001, lr: 0.0001000\n"
     ]
    },
    {
     "name": "stdout",
     "output_type": "stream",
     "text": [
      "(2000, 60) (2000, 60)\n",
      "NUM FRAMES: 120000\n"
     ]
    },
    {
     "name": "stderr",
     "output_type": "stream",
     "text": [
      "Epoch:132 Training: 100%|██████████| 16/16 [00:00<00:00, 116.01it/s, lr: 0.0001000]\n",
      "Processed 2000 frames in 0.0 seconds (51201.6 FPS)\n",
      "Epoch 132 F1: 0.72 | Best F1: 72.67 at epoch 130, iter 540672 | train_loss: 0.0001, lr: 0.0001000\n"
     ]
    },
    {
     "name": "stdout",
     "output_type": "stream",
     "text": [
      "(2000, 60) (2000, 60)\n",
      "NUM FRAMES: 120000\n"
     ]
    },
    {
     "name": "stderr",
     "output_type": "stream",
     "text": [
      "Epoch:133 Training: 100%|██████████| 16/16 [00:00<00:00, 128.41it/s, lr: 0.0001000]\n",
      "Processed 2000 frames in 0.1 seconds (33800.0 FPS)\n",
      "Epoch 133 F1: 0.73 | Best F1: 72.81 at epoch 133, iter 544768 | train_loss: 0.0001, lr: 0.0001000\n"
     ]
    },
    {
     "name": "stdout",
     "output_type": "stream",
     "text": [
      "(2000, 60) (2000, 60)\n",
      "NUM FRAMES: 120000\n"
     ]
    },
    {
     "name": "stderr",
     "output_type": "stream",
     "text": [
      "Epoch:134 Training: 100%|██████████| 16/16 [00:00<00:00, 115.59it/s, lr: 0.0001000]\n",
      "Processed 2000 frames in 0.0 seconds (44145.7 FPS)\n",
      "Epoch 134 F1: 0.72 | Best F1: 72.81 at epoch 133, iter 548864 | train_loss: 0.0001, lr: 0.0001000\n"
     ]
    },
    {
     "name": "stdout",
     "output_type": "stream",
     "text": [
      "(2000, 60) (2000, 60)\n",
      "NUM FRAMES: 120000\n"
     ]
    },
    {
     "name": "stderr",
     "output_type": "stream",
     "text": [
      "Epoch:135 Training: 100%|██████████| 16/16 [00:00<00:00, 108.18it/s, lr: 0.0001000]\n",
      "Processed 2000 frames in 0.1 seconds (33034.2 FPS)\n",
      "Epoch 135 F1: 0.72 | Best F1: 72.81 at epoch 133, iter 552960 | train_loss: 0.0001, lr: 0.0001000\n"
     ]
    },
    {
     "name": "stdout",
     "output_type": "stream",
     "text": [
      "(2000, 60) (2000, 60)\n",
      "NUM FRAMES: 120000\n"
     ]
    },
    {
     "name": "stderr",
     "output_type": "stream",
     "text": [
      "Epoch:136 Training: 100%|██████████| 16/16 [00:00<00:00, 129.82it/s, lr: 0.0001000]\n",
      "Processed 2000 frames in 0.1 seconds (34501.0 FPS)\n",
      "Epoch 136 F1: 0.72 | Best F1: 72.81 at epoch 133, iter 557056 | train_loss: 0.0001, lr: 0.0001000\n"
     ]
    },
    {
     "name": "stdout",
     "output_type": "stream",
     "text": [
      "(2000, 60) (2000, 60)\n",
      "NUM FRAMES: 120000\n"
     ]
    },
    {
     "name": "stderr",
     "output_type": "stream",
     "text": [
      "Epoch:137 Training: 100%|██████████| 16/16 [00:00<00:00, 122.27it/s, lr: 0.0001000]\n",
      "Processed 2000 frames in 0.1 seconds (32231.4 FPS)\n",
      "Epoch 137 F1: 0.72 | Best F1: 72.81 at epoch 133, iter 561152 | train_loss: 0.0001, lr: 0.0001000\n"
     ]
    },
    {
     "name": "stdout",
     "output_type": "stream",
     "text": [
      "(2000, 60) (2000, 60)\n",
      "NUM FRAMES: 120000\n"
     ]
    },
    {
     "name": "stderr",
     "output_type": "stream",
     "text": [
      "Epoch:138 Training: 100%|██████████| 16/16 [00:00<00:00, 100.98it/s, lr: 0.0001000]\n",
      "Processed 2000 frames in 0.1 seconds (33712.5 FPS)\n",
      "Epoch 138 F1: 0.72 | Best F1: 72.81 at epoch 133, iter 565248 | train_loss: 0.0001, lr: 0.0001000\n"
     ]
    },
    {
     "name": "stdout",
     "output_type": "stream",
     "text": [
      "(2000, 60) (2000, 60)\n",
      "NUM FRAMES: 120000\n"
     ]
    },
    {
     "name": "stderr",
     "output_type": "stream",
     "text": [
      "Epoch:139 Training: 100%|██████████| 16/16 [00:00<00:00, 104.51it/s, lr: 0.0001000]\n",
      "Processed 2000 frames in 0.1 seconds (30967.6 FPS)\n",
      "Epoch 139 F1: 0.74 | Best F1: 74.22 at epoch 139, iter 569344 | train_loss: 0.0001, lr: 0.0001000\n"
     ]
    },
    {
     "name": "stdout",
     "output_type": "stream",
     "text": [
      "(2000, 60) (2000, 60)\n",
      "NUM FRAMES: 120000\n"
     ]
    },
    {
     "name": "stderr",
     "output_type": "stream",
     "text": [
      "Epoch:140 Training: 100%|██████████| 16/16 [00:00<00:00, 113.55it/s, lr: 0.0001000]\n",
      "Processed 2000 frames in 0.0 seconds (56634.2 FPS)\n",
      "Epoch 140 F1: 0.74 | Best F1: 74.22 at epoch 139, iter 573440 | train_loss: 0.0001, lr: 0.0001000\n"
     ]
    },
    {
     "name": "stdout",
     "output_type": "stream",
     "text": [
      "(2000, 60) (2000, 60)\n",
      "NUM FRAMES: 120000\n"
     ]
    },
    {
     "name": "stderr",
     "output_type": "stream",
     "text": [
      "Epoch:141 Training: 100%|██████████| 16/16 [00:00<00:00, 134.28it/s, lr: 0.0001000]\n",
      "Processed 2000 frames in 0.1 seconds (38164.9 FPS)\n",
      "Epoch 141 F1: 0.73 | Best F1: 74.22 at epoch 139, iter 577536 | train_loss: 0.0001, lr: 0.0001000\n"
     ]
    },
    {
     "name": "stdout",
     "output_type": "stream",
     "text": [
      "(2000, 60) (2000, 60)\n",
      "NUM FRAMES: 120000\n"
     ]
    },
    {
     "name": "stderr",
     "output_type": "stream",
     "text": [
      "Epoch:142 Training: 100%|██████████| 16/16 [00:00<00:00, 106.76it/s, lr: 0.0001000]\n",
      "Processed 2000 frames in 0.1 seconds (33130.1 FPS)\n",
      "Epoch 142 F1: 0.72 | Best F1: 74.22 at epoch 139, iter 581632 | train_loss: 0.0001, lr: 0.0001000\n"
     ]
    },
    {
     "name": "stdout",
     "output_type": "stream",
     "text": [
      "(2000, 60) (2000, 60)\n",
      "NUM FRAMES: 120000\n"
     ]
    },
    {
     "name": "stderr",
     "output_type": "stream",
     "text": [
      "Epoch:143 Training: 100%|██████████| 16/16 [00:00<00:00, 126.18it/s, lr: 0.0001000]\n",
      "Processed 2000 frames in 0.1 seconds (35662.5 FPS)\n",
      "Epoch 143 F1: 0.74 | Best F1: 74.22 at epoch 139, iter 585728 | train_loss: 0.0001, lr: 0.0001000\n"
     ]
    },
    {
     "name": "stdout",
     "output_type": "stream",
     "text": [
      "(2000, 60) (2000, 60)\n",
      "NUM FRAMES: 120000\n"
     ]
    },
    {
     "name": "stderr",
     "output_type": "stream",
     "text": [
      "Epoch:144 Training: 100%|██████████| 16/16 [00:00<00:00, 102.20it/s, lr: 0.0001000]\n",
      "Processed 2000 frames in 0.1 seconds (32752.6 FPS)\n",
      "Epoch 144 F1: 0.73 | Best F1: 74.22 at epoch 139, iter 589824 | train_loss: 0.0001, lr: 0.0001000\n"
     ]
    },
    {
     "name": "stdout",
     "output_type": "stream",
     "text": [
      "(2000, 60) (2000, 60)\n",
      "NUM FRAMES: 120000\n"
     ]
    },
    {
     "name": "stderr",
     "output_type": "stream",
     "text": [
      "Epoch:145 Training: 100%|██████████| 16/16 [00:00<00:00, 109.78it/s, lr: 0.0001000]\n",
      "Processed 2000 frames in 0.0 seconds (51220.3 FPS)\n",
      "Epoch 145 F1: 0.74 | Best F1: 74.22 at epoch 139, iter 593920 | train_loss: 0.0001, lr: 0.0001000\n"
     ]
    },
    {
     "name": "stdout",
     "output_type": "stream",
     "text": [
      "(2000, 60) (2000, 60)\n",
      "NUM FRAMES: 120000\n"
     ]
    },
    {
     "name": "stderr",
     "output_type": "stream",
     "text": [
      "Epoch:146 Training: 100%|██████████| 16/16 [00:00<00:00, 112.55it/s, lr: 0.0001000]\n",
      "Processed 2000 frames in 0.0 seconds (50952.5 FPS)\n",
      "Epoch 146 F1: 0.74 | Best F1: 74.50 at epoch 146, iter 598016 | train_loss: 0.0001, lr: 0.0001000\n"
     ]
    },
    {
     "name": "stdout",
     "output_type": "stream",
     "text": [
      "(2000, 60) (2000, 60)\n",
      "NUM FRAMES: 120000\n"
     ]
    },
    {
     "name": "stderr",
     "output_type": "stream",
     "text": [
      "Epoch:147 Training: 100%|██████████| 16/16 [00:00<00:00, 133.27it/s, lr: 0.0001000]\n",
      "Processed 2000 frames in 0.1 seconds (33236.8 FPS)\n",
      "Epoch 147 F1: 0.74 | Best F1: 74.50 at epoch 146, iter 602112 | train_loss: 0.0001, lr: 0.0001000\n"
     ]
    },
    {
     "name": "stdout",
     "output_type": "stream",
     "text": [
      "(2000, 60) (2000, 60)\n",
      "NUM FRAMES: 120000\n"
     ]
    },
    {
     "name": "stderr",
     "output_type": "stream",
     "text": [
      "Epoch:148 Training: 100%|██████████| 16/16 [00:00<00:00, 109.36it/s, lr: 0.0001000]\n",
      "Processed 2000 frames in 0.1 seconds (38171.0 FPS)\n",
      "Epoch 148 F1: 0.74 | Best F1: 74.50 at epoch 146, iter 606208 | train_loss: 0.0001, lr: 0.0001000\n"
     ]
    },
    {
     "name": "stdout",
     "output_type": "stream",
     "text": [
      "(2000, 60) (2000, 60)\n",
      "NUM FRAMES: 120000\n"
     ]
    },
    {
     "name": "stderr",
     "output_type": "stream",
     "text": [
      "Epoch:149 Training: 100%|██████████| 16/16 [00:00<00:00, 113.64it/s, lr: 0.0001000]\n",
      "Processed 2000 frames in 0.1 seconds (36045.0 FPS)\n",
      "Epoch 149 F1: 0.74 | Best F1: 74.50 at epoch 146, iter 610304 | train_loss: 0.0001, lr: 0.0001000\n"
     ]
    },
    {
     "name": "stdout",
     "output_type": "stream",
     "text": [
      "(2000, 60) (2000, 60)\n",
      "NUM FRAMES: 120000\n"
     ]
    },
    {
     "name": "stderr",
     "output_type": "stream",
     "text": [
      "Epoch:150 Training: 100%|██████████| 16/16 [00:00<00:00, 122.65it/s, lr: 0.0001000]\n",
      "Processed 2000 frames in 0.1 seconds (31801.5 FPS)\n",
      "Epoch 150 F1: 0.75 | Best F1: 75.02 at epoch 150, iter 614400 | train_loss: 0.0001, lr: 0.0001000\n"
     ]
    },
    {
     "name": "stdout",
     "output_type": "stream",
     "text": [
      "(2000, 60) (2000, 60)\n",
      "NUM FRAMES: 120000\n"
     ]
    },
    {
     "name": "stderr",
     "output_type": "stream",
     "text": [
      "Epoch:151 Training: 100%|██████████| 16/16 [00:00<00:00, 122.89it/s, lr: 0.0001000]\n",
      "Processed 2000 frames in 0.0 seconds (47428.4 FPS)\n",
      "Epoch 151 F1: 0.74 | Best F1: 75.02 at epoch 150, iter 618496 | train_loss: 0.0001, lr: 0.0001000\n"
     ]
    },
    {
     "name": "stdout",
     "output_type": "stream",
     "text": [
      "(2000, 60) (2000, 60)\n",
      "NUM FRAMES: 120000\n"
     ]
    },
    {
     "name": "stderr",
     "output_type": "stream",
     "text": [
      "Epoch:152 Training: 100%|██████████| 16/16 [00:00<00:00, 112.53it/s, lr: 0.0001000]\n",
      "Processed 2000 frames in 0.0 seconds (56304.3 FPS)\n",
      "Epoch 152 F1: 0.75 | Best F1: 75.02 at epoch 150, iter 622592 | train_loss: 0.0001, lr: 0.0001000\n"
     ]
    },
    {
     "name": "stdout",
     "output_type": "stream",
     "text": [
      "(2000, 60) (2000, 60)\n",
      "NUM FRAMES: 120000\n"
     ]
    },
    {
     "name": "stderr",
     "output_type": "stream",
     "text": [
      "Epoch:153 Training: 100%|██████████| 16/16 [00:00<00:00, 125.93it/s, lr: 0.0001000]\n",
      "Processed 2000 frames in 0.0 seconds (53531.5 FPS)\n",
      "Epoch 153 F1: 0.75 | Best F1: 75.02 at epoch 150, iter 626688 | train_loss: 0.0001, lr: 0.0001000\n"
     ]
    },
    {
     "name": "stdout",
     "output_type": "stream",
     "text": [
      "(2000, 60) (2000, 60)\n",
      "NUM FRAMES: 120000\n"
     ]
    },
    {
     "name": "stderr",
     "output_type": "stream",
     "text": [
      "Epoch:154 Training: 100%|██████████| 16/16 [00:00<00:00, 121.13it/s, lr: 0.0001000]\n",
      "Processed 2000 frames in 0.1 seconds (33805.5 FPS)\n",
      "Epoch 154 F1: 0.75 | Best F1: 75.06 at epoch 154, iter 630784 | train_loss: 0.0001, lr: 0.0001000\n"
     ]
    },
    {
     "name": "stdout",
     "output_type": "stream",
     "text": [
      "(2000, 60) (2000, 60)\n",
      "NUM FRAMES: 120000\n"
     ]
    },
    {
     "name": "stderr",
     "output_type": "stream",
     "text": [
      "Epoch:155 Training: 100%|██████████| 16/16 [00:00<00:00, 117.20it/s, lr: 0.0001000]\n",
      "Processed 2000 frames in 0.0 seconds (49221.1 FPS)\n",
      "Epoch 155 F1: 0.75 | Best F1: 75.20 at epoch 155, iter 634880 | train_loss: 0.0001, lr: 0.0001000\n"
     ]
    },
    {
     "name": "stdout",
     "output_type": "stream",
     "text": [
      "(2000, 60) (2000, 60)\n",
      "NUM FRAMES: 120000\n"
     ]
    },
    {
     "name": "stderr",
     "output_type": "stream",
     "text": [
      "Epoch:156 Training: 100%|██████████| 16/16 [00:00<00:00, 134.35it/s, lr: 0.0001000]\n",
      "Processed 2000 frames in 0.0 seconds (54808.5 FPS)\n",
      "Epoch 156 F1: 0.75 | Best F1: 75.20 at epoch 155, iter 638976 | train_loss: 0.0001, lr: 0.0001000\n"
     ]
    },
    {
     "name": "stdout",
     "output_type": "stream",
     "text": [
      "(2000, 60) (2000, 60)\n",
      "NUM FRAMES: 120000\n"
     ]
    },
    {
     "name": "stderr",
     "output_type": "stream",
     "text": [
      "Epoch:157 Training: 100%|██████████| 16/16 [00:00<00:00, 143.99it/s, lr: 0.0001000]\n",
      "Processed 2000 frames in 0.1 seconds (35677.7 FPS)\n",
      "Epoch 157 F1: 0.74 | Best F1: 75.20 at epoch 155, iter 643072 | train_loss: 0.0001, lr: 0.0001000\n"
     ]
    },
    {
     "name": "stdout",
     "output_type": "stream",
     "text": [
      "(2000, 60) (2000, 60)\n",
      "NUM FRAMES: 120000\n"
     ]
    },
    {
     "name": "stderr",
     "output_type": "stream",
     "text": [
      "Epoch:158 Training: 100%|██████████| 16/16 [00:00<00:00, 113.21it/s, lr: 0.0001000]\n",
      "Processed 2000 frames in 0.1 seconds (34208.4 FPS)\n",
      "Epoch 158 F1: 0.75 | Best F1: 75.20 at epoch 155, iter 647168 | train_loss: 0.0001, lr: 0.0001000\n"
     ]
    },
    {
     "name": "stdout",
     "output_type": "stream",
     "text": [
      "(2000, 60) (2000, 60)\n",
      "NUM FRAMES: 120000\n"
     ]
    },
    {
     "name": "stderr",
     "output_type": "stream",
     "text": [
      "Epoch:159 Training: 100%|██████████| 16/16 [00:00<00:00, 125.20it/s, lr: 0.0001000]\n",
      "Processed 2000 frames in 0.1 seconds (34870.9 FPS)\n",
      "Epoch 159 F1: 0.75 | Best F1: 75.20 at epoch 155, iter 651264 | train_loss: 0.0001, lr: 0.0001000\n"
     ]
    },
    {
     "name": "stdout",
     "output_type": "stream",
     "text": [
      "(2000, 60) (2000, 60)\n",
      "NUM FRAMES: 120000\n"
     ]
    },
    {
     "name": "stderr",
     "output_type": "stream",
     "text": [
      "Epoch:160 Training: 100%|██████████| 16/16 [00:00<00:00, 107.82it/s, lr: 0.0001000]\n",
      "Processed 2000 frames in 0.0 seconds (47298.7 FPS)\n",
      "Epoch 160 F1: 0.75 | Best F1: 75.43 at epoch 160, iter 655360 | train_loss: 0.0001, lr: 0.0001000\n"
     ]
    },
    {
     "name": "stdout",
     "output_type": "stream",
     "text": [
      "(2000, 60) (2000, 60)\n",
      "NUM FRAMES: 120000\n"
     ]
    },
    {
     "name": "stderr",
     "output_type": "stream",
     "text": [
      "Epoch:161 Training: 100%|██████████| 16/16 [00:00<00:00, 136.54it/s, lr: 0.0001000]\n",
      "Processed 2000 frames in 0.1 seconds (33607.4 FPS)\n",
      "Epoch 161 F1: 0.75 | Best F1: 75.43 at epoch 160, iter 659456 | train_loss: 0.0001, lr: 0.0001000\n"
     ]
    },
    {
     "name": "stdout",
     "output_type": "stream",
     "text": [
      "(2000, 60) (2000, 60)\n",
      "NUM FRAMES: 120000\n"
     ]
    },
    {
     "name": "stderr",
     "output_type": "stream",
     "text": [
      "Epoch:162 Training: 100%|██████████| 16/16 [00:00<00:00, 127.17it/s, lr: 0.0001000]\n",
      "Processed 2000 frames in 0.0 seconds (50549.3 FPS)\n",
      "Epoch 162 F1: 0.75 | Best F1: 75.43 at epoch 160, iter 663552 | train_loss: 0.0001, lr: 0.0001000\n"
     ]
    },
    {
     "name": "stdout",
     "output_type": "stream",
     "text": [
      "(2000, 60) (2000, 60)\n",
      "NUM FRAMES: 120000\n"
     ]
    },
    {
     "name": "stderr",
     "output_type": "stream",
     "text": [
      "Epoch:163 Training: 100%|██████████| 16/16 [00:00<00:00, 125.05it/s, lr: 0.0001000]\n",
      "Processed 2000 frames in 0.0 seconds (51200.3 FPS)\n",
      "Epoch 163 F1: 0.76 | Best F1: 75.74 at epoch 163, iter 667648 | train_loss: 0.0001, lr: 0.0001000\n"
     ]
    },
    {
     "name": "stdout",
     "output_type": "stream",
     "text": [
      "(2000, 60) (2000, 60)\n",
      "NUM FRAMES: 120000\n"
     ]
    },
    {
     "name": "stderr",
     "output_type": "stream",
     "text": [
      "Epoch:164 Training: 100%|██████████| 16/16 [00:00<00:00, 103.35it/s, lr: 0.0001000]\n",
      "Processed 2000 frames in 0.1 seconds (33662.6 FPS)\n",
      "Epoch 164 F1: 0.75 | Best F1: 75.74 at epoch 163, iter 671744 | train_loss: 0.0001, lr: 0.0001000\n"
     ]
    },
    {
     "name": "stdout",
     "output_type": "stream",
     "text": [
      "(2000, 60) (2000, 60)\n",
      "NUM FRAMES: 120000\n"
     ]
    },
    {
     "name": "stderr",
     "output_type": "stream",
     "text": [
      "Epoch:165 Training: 100%|██████████| 16/16 [00:00<00:00, 106.84it/s, lr: 0.0001000]\n",
      "Processed 2000 frames in 0.0 seconds (40364.2 FPS)\n",
      "Epoch 165 F1: 0.65 | Best F1: 75.74 at epoch 163, iter 675840 | train_loss: 0.0005, lr: 0.0001000\n"
     ]
    },
    {
     "name": "stdout",
     "output_type": "stream",
     "text": [
      "(2000, 60) (2000, 60)\n",
      "NUM FRAMES: 120000\n"
     ]
    },
    {
     "name": "stderr",
     "output_type": "stream",
     "text": [
      "Epoch:166 Training: 100%|██████████| 16/16 [00:00<00:00, 130.56it/s, lr: 0.0001000]\n",
      "Processed 2000 frames in 0.1 seconds (38343.4 FPS)\n",
      "Epoch 166 F1: 0.67 | Best F1: 75.74 at epoch 163, iter 679936 | train_loss: 0.0003, lr: 0.0001000\n"
     ]
    },
    {
     "name": "stdout",
     "output_type": "stream",
     "text": [
      "(2000, 60) (2000, 60)\n",
      "NUM FRAMES: 120000\n"
     ]
    },
    {
     "name": "stderr",
     "output_type": "stream",
     "text": [
      "Epoch:167 Training: 100%|██████████| 16/16 [00:00<00:00, 120.62it/s, lr: 0.0001000]\n",
      "Processed 2000 frames in 0.0 seconds (53575.3 FPS)\n",
      "Epoch 167 F1: 0.66 | Best F1: 75.74 at epoch 163, iter 684032 | train_loss: 0.0002, lr: 0.0001000\n"
     ]
    },
    {
     "name": "stdout",
     "output_type": "stream",
     "text": [
      "(2000, 60) (2000, 60)\n",
      "NUM FRAMES: 120000\n"
     ]
    },
    {
     "name": "stderr",
     "output_type": "stream",
     "text": [
      "Epoch:168 Training: 100%|██████████| 16/16 [00:00<00:00, 114.58it/s, lr: 0.0001000]\n",
      "Processed 2000 frames in 0.1 seconds (33593.5 FPS)\n",
      "Epoch 168 F1: 0.67 | Best F1: 75.74 at epoch 163, iter 688128 | train_loss: 0.0002, lr: 0.0001000\n"
     ]
    },
    {
     "name": "stdout",
     "output_type": "stream",
     "text": [
      "(2000, 60) (2000, 60)\n",
      "NUM FRAMES: 120000\n"
     ]
    },
    {
     "name": "stderr",
     "output_type": "stream",
     "text": [
      "Epoch:169 Training: 100%|██████████| 16/16 [00:00<00:00, 116.08it/s, lr: 0.0001000]\n",
      "Processed 2000 frames in 0.1 seconds (39458.5 FPS)\n",
      "Epoch 169 F1: 0.67 | Best F1: 75.74 at epoch 163, iter 692224 | train_loss: 0.0002, lr: 0.0001000\n"
     ]
    },
    {
     "name": "stdout",
     "output_type": "stream",
     "text": [
      "(2000, 60) (2000, 60)\n",
      "NUM FRAMES: 120000\n"
     ]
    },
    {
     "name": "stderr",
     "output_type": "stream",
     "text": [
      "Epoch:170 Training: 100%|██████████| 16/16 [00:00<00:00, 111.52it/s, lr: 0.0001000]\n",
      "Processed 2000 frames in 0.0 seconds (48623.7 FPS)\n",
      "Epoch 170 F1: 0.67 | Best F1: 75.74 at epoch 163, iter 696320 | train_loss: 0.0002, lr: 0.0001000\n"
     ]
    },
    {
     "name": "stdout",
     "output_type": "stream",
     "text": [
      "(2000, 60) (2000, 60)\n",
      "NUM FRAMES: 120000\n"
     ]
    },
    {
     "name": "stderr",
     "output_type": "stream",
     "text": [
      "Epoch:171 Training: 100%|██████████| 16/16 [00:00<00:00, 115.71it/s, lr: 0.0001000]\n",
      "Processed 2000 frames in 0.0 seconds (43991.3 FPS)\n",
      "Epoch 171 F1: 0.67 | Best F1: 75.74 at epoch 163, iter 700416 | train_loss: 0.0002, lr: 0.0001000\n"
     ]
    },
    {
     "name": "stdout",
     "output_type": "stream",
     "text": [
      "(2000, 60) (2000, 60)\n",
      "NUM FRAMES: 120000\n"
     ]
    },
    {
     "name": "stderr",
     "output_type": "stream",
     "text": [
      "Epoch:172 Training: 100%|██████████| 16/16 [00:00<00:00, 96.02it/s, lr: 0.0001000]\n",
      "Processed 2000 frames in 0.1 seconds (36185.6 FPS)\n",
      "Epoch 172 F1: 0.66 | Best F1: 75.74 at epoch 163, iter 704512 | train_loss: 0.0002, lr: 0.0001000\n"
     ]
    },
    {
     "name": "stdout",
     "output_type": "stream",
     "text": [
      "(2000, 60) (2000, 60)\n",
      "NUM FRAMES: 120000\n"
     ]
    },
    {
     "name": "stderr",
     "output_type": "stream",
     "text": [
      "Epoch:173 Training: 100%|██████████| 16/16 [00:00<00:00, 121.91it/s, lr: 0.0001000]\n",
      "Processed 2000 frames in 0.1 seconds (33925.3 FPS)\n",
      "Epoch 173 F1: 0.67 | Best F1: 75.74 at epoch 163, iter 708608 | train_loss: 0.0002, lr: 0.0001000\n"
     ]
    },
    {
     "name": "stdout",
     "output_type": "stream",
     "text": [
      "(2000, 60) (2000, 60)\n",
      "NUM FRAMES: 120000\n"
     ]
    },
    {
     "name": "stderr",
     "output_type": "stream",
     "text": [
      "Epoch:174 Training: 100%|██████████| 16/16 [00:00<00:00, 120.24it/s, lr: 0.0001000]\n",
      "Processed 2000 frames in 0.1 seconds (36145.6 FPS)\n",
      "Epoch 174 F1: 0.67 | Best F1: 75.74 at epoch 163, iter 712704 | train_loss: 0.0002, lr: 0.0001000\n"
     ]
    },
    {
     "name": "stdout",
     "output_type": "stream",
     "text": [
      "(2000, 60) (2000, 60)\n",
      "NUM FRAMES: 120000\n"
     ]
    },
    {
     "name": "stderr",
     "output_type": "stream",
     "text": [
      "Epoch:175 Training: 100%|██████████| 16/16 [00:00<00:00, 126.11it/s, lr: 0.0001000]\n",
      "Processed 2000 frames in 0.1 seconds (35882.5 FPS)\n",
      "Epoch 175 F1: 0.67 | Best F1: 75.74 at epoch 163, iter 716800 | train_loss: 0.0002, lr: 0.0001000\n"
     ]
    },
    {
     "name": "stdout",
     "output_type": "stream",
     "text": [
      "(2000, 60) (2000, 60)\n",
      "NUM FRAMES: 120000\n"
     ]
    },
    {
     "name": "stderr",
     "output_type": "stream",
     "text": [
      "Epoch:176 Training: 100%|██████████| 16/16 [00:00<00:00, 111.69it/s, lr: 0.0001000]\n",
      "Processed 2000 frames in 0.1 seconds (33399.6 FPS)\n",
      "Epoch 176 F1: 0.67 | Best F1: 75.74 at epoch 163, iter 720896 | train_loss: 0.0002, lr: 0.0001000\n"
     ]
    },
    {
     "name": "stdout",
     "output_type": "stream",
     "text": [
      "(2000, 60) (2000, 60)\n",
      "NUM FRAMES: 120000\n"
     ]
    },
    {
     "name": "stderr",
     "output_type": "stream",
     "text": [
      "Epoch:177 Training: 100%|██████████| 16/16 [00:00<00:00, 124.88it/s, lr: 0.0001000]\n",
      "Processed 2000 frames in 0.0 seconds (58047.0 FPS)\n",
      "Epoch 177 F1: 0.67 | Best F1: 75.74 at epoch 163, iter 724992 | train_loss: 0.0001, lr: 0.0001000\n"
     ]
    },
    {
     "name": "stdout",
     "output_type": "stream",
     "text": [
      "(2000, 60) (2000, 60)\n",
      "NUM FRAMES: 120000\n"
     ]
    },
    {
     "name": "stderr",
     "output_type": "stream",
     "text": [
      "Epoch:178 Training: 100%|██████████| 16/16 [00:00<00:00, 110.04it/s, lr: 0.0001000]\n",
      "Processed 2000 frames in 0.1 seconds (37465.5 FPS)\n",
      "Epoch 178 F1: 0.67 | Best F1: 75.74 at epoch 163, iter 729088 | train_loss: 0.0001, lr: 0.0001000\n"
     ]
    },
    {
     "name": "stdout",
     "output_type": "stream",
     "text": [
      "(2000, 60) (2000, 60)\n",
      "NUM FRAMES: 120000\n"
     ]
    },
    {
     "name": "stderr",
     "output_type": "stream",
     "text": [
      "Epoch:179 Training: 100%|██████████| 16/16 [00:00<00:00, 114.00it/s, lr: 0.0001000]\n",
      "Processed 2000 frames in 0.1 seconds (35971.0 FPS)\n",
      "Epoch 179 F1: 0.67 | Best F1: 75.74 at epoch 163, iter 733184 | train_loss: 0.0001, lr: 0.0001000\n"
     ]
    },
    {
     "name": "stdout",
     "output_type": "stream",
     "text": [
      "(2000, 60) (2000, 60)\n",
      "NUM FRAMES: 120000\n"
     ]
    },
    {
     "name": "stderr",
     "output_type": "stream",
     "text": [
      "Epoch:180 Training: 100%|██████████| 16/16 [00:00<00:00, 118.61it/s, lr: 0.0001000]\n",
      "Processed 2000 frames in 0.1 seconds (33241.3 FPS)\n",
      "Epoch 180 F1: 0.68 | Best F1: 75.74 at epoch 163, iter 737280 | train_loss: 0.0001, lr: 0.0001000\n"
     ]
    },
    {
     "name": "stdout",
     "output_type": "stream",
     "text": [
      "(2000, 60) (2000, 60)\n",
      "NUM FRAMES: 120000\n"
     ]
    },
    {
     "name": "stderr",
     "output_type": "stream",
     "text": [
      "Epoch:181 Training: 100%|██████████| 16/16 [00:00<00:00, 126.29it/s, lr: 0.0001000]\n",
      "Processed 2000 frames in 0.0 seconds (44459.2 FPS)\n",
      "Epoch 181 F1: 0.68 | Best F1: 75.74 at epoch 163, iter 741376 | train_loss: 0.0001, lr: 0.0001000\n"
     ]
    },
    {
     "name": "stdout",
     "output_type": "stream",
     "text": [
      "(2000, 60) (2000, 60)\n",
      "NUM FRAMES: 120000\n"
     ]
    },
    {
     "name": "stderr",
     "output_type": "stream",
     "text": [
      "Epoch:182 Training: 100%|██████████| 16/16 [00:00<00:00, 127.57it/s, lr: 0.0001000]\n",
      "Processed 2000 frames in 0.0 seconds (52263.8 FPS)\n",
      "Epoch 182 F1: 0.68 | Best F1: 75.74 at epoch 163, iter 745472 | train_loss: 0.0001, lr: 0.0001000\n"
     ]
    },
    {
     "name": "stdout",
     "output_type": "stream",
     "text": [
      "(2000, 60) (2000, 60)\n",
      "NUM FRAMES: 120000\n"
     ]
    },
    {
     "name": "stderr",
     "output_type": "stream",
     "text": [
      "Epoch:183 Training: 100%|██████████| 16/16 [00:00<00:00, 105.71it/s, lr: 0.0001000]\n",
      "Processed 2000 frames in 0.1 seconds (33856.8 FPS)\n",
      "Epoch 183 F1: 0.68 | Best F1: 75.74 at epoch 163, iter 749568 | train_loss: 0.0001, lr: 0.0001000\n"
     ]
    },
    {
     "name": "stdout",
     "output_type": "stream",
     "text": [
      "(2000, 60) (2000, 60)\n",
      "NUM FRAMES: 120000\n"
     ]
    },
    {
     "name": "stderr",
     "output_type": "stream",
     "text": [
      "Epoch:184 Training: 100%|██████████| 16/16 [00:00<00:00, 98.54it/s, lr: 0.0001000]\n",
      "Processed 2000 frames in 0.1 seconds (33631.4 FPS)\n",
      "Epoch 184 F1: 0.68 | Best F1: 75.74 at epoch 163, iter 753664 | train_loss: 0.0001, lr: 0.0001000\n"
     ]
    },
    {
     "name": "stdout",
     "output_type": "stream",
     "text": [
      "(2000, 60) (2000, 60)\n",
      "NUM FRAMES: 120000\n"
     ]
    },
    {
     "name": "stderr",
     "output_type": "stream",
     "text": [
      "Epoch:185 Training: 100%|██████████| 16/16 [00:00<00:00, 112.47it/s, lr: 0.0001000]\n",
      "Processed 2000 frames in 0.1 seconds (37142.2 FPS)\n",
      "Epoch 185 F1: 0.68 | Best F1: 75.74 at epoch 163, iter 757760 | train_loss: 0.0001, lr: 0.0001000\n"
     ]
    },
    {
     "name": "stdout",
     "output_type": "stream",
     "text": [
      "(2000, 60) (2000, 60)\n",
      "NUM FRAMES: 120000\n"
     ]
    },
    {
     "name": "stderr",
     "output_type": "stream",
     "text": [
      "Epoch:186 Training: 100%|██████████| 16/16 [00:00<00:00, 106.39it/s, lr: 0.0001000]\n",
      "Processed 2000 frames in 0.1 seconds (33814.3 FPS)\n",
      "Epoch 186 F1: 0.68 | Best F1: 75.74 at epoch 163, iter 761856 | train_loss: 0.0001, lr: 0.0001000\n"
     ]
    },
    {
     "name": "stdout",
     "output_type": "stream",
     "text": [
      "(2000, 60) (2000, 60)\n",
      "NUM FRAMES: 120000\n"
     ]
    },
    {
     "name": "stderr",
     "output_type": "stream",
     "text": [
      "Epoch:187 Training: 100%|██████████| 16/16 [00:00<00:00, 141.01it/s, lr: 0.0001000]\n",
      "Processed 2000 frames in 0.0 seconds (49377.0 FPS)\n",
      "Epoch 187 F1: 0.68 | Best F1: 75.74 at epoch 163, iter 765952 | train_loss: 0.0001, lr: 0.0001000\n"
     ]
    },
    {
     "name": "stdout",
     "output_type": "stream",
     "text": [
      "(2000, 60) (2000, 60)\n",
      "NUM FRAMES: 120000\n"
     ]
    },
    {
     "name": "stderr",
     "output_type": "stream",
     "text": [
      "Epoch:188 Training: 100%|██████████| 16/16 [00:00<00:00, 109.27it/s, lr: 0.0001000]\n",
      "Processed 2000 frames in 0.1 seconds (37354.1 FPS)\n",
      "Epoch 188 F1: 0.68 | Best F1: 75.74 at epoch 163, iter 770048 | train_loss: 0.0001, lr: 0.0001000\n"
     ]
    },
    {
     "name": "stdout",
     "output_type": "stream",
     "text": [
      "(2000, 60) (2000, 60)\n",
      "NUM FRAMES: 120000\n"
     ]
    },
    {
     "name": "stderr",
     "output_type": "stream",
     "text": [
      "Epoch:189 Training: 100%|██████████| 16/16 [00:00<00:00, 118.13it/s, lr: 0.0001000]\n",
      "Processed 2000 frames in 0.1 seconds (32008.3 FPS)\n",
      "Epoch 189 F1: 0.69 | Best F1: 75.74 at epoch 163, iter 774144 | train_loss: 0.0001, lr: 0.0001000\n"
     ]
    },
    {
     "name": "stdout",
     "output_type": "stream",
     "text": [
      "(2000, 60) (2000, 60)\n",
      "NUM FRAMES: 120000\n"
     ]
    },
    {
     "name": "stderr",
     "output_type": "stream",
     "text": [
      "Epoch:190 Training: 100%|██████████| 16/16 [00:00<00:00, 108.12it/s, lr: 0.0001000]\n",
      "Processed 2000 frames in 0.1 seconds (33670.5 FPS)\n",
      "Epoch 190 F1: 0.69 | Best F1: 75.74 at epoch 163, iter 778240 | train_loss: 0.0001, lr: 0.0001000\n"
     ]
    },
    {
     "name": "stdout",
     "output_type": "stream",
     "text": [
      "(2000, 60) (2000, 60)\n",
      "NUM FRAMES: 120000\n"
     ]
    },
    {
     "name": "stderr",
     "output_type": "stream",
     "text": [
      "Epoch:191 Training: 100%|██████████| 16/16 [00:00<00:00, 132.74it/s, lr: 0.0001000]\n",
      "Processed 2000 frames in 0.1 seconds (33602.7 FPS)\n",
      "Epoch 191 F1: 0.69 | Best F1: 75.74 at epoch 163, iter 782336 | train_loss: 0.0001, lr: 0.0001000\n"
     ]
    },
    {
     "name": "stdout",
     "output_type": "stream",
     "text": [
      "(2000, 60) (2000, 60)\n",
      "NUM FRAMES: 120000\n"
     ]
    },
    {
     "name": "stderr",
     "output_type": "stream",
     "text": [
      "Epoch:192 Training: 100%|██████████| 16/16 [00:00<00:00, 108.91it/s, lr: 0.0001000]\n",
      "Processed 2000 frames in 0.0 seconds (45145.2 FPS)\n",
      "Epoch 192 F1: 0.69 | Best F1: 75.74 at epoch 163, iter 786432 | train_loss: 0.0001, lr: 0.0001000\n"
     ]
    },
    {
     "name": "stdout",
     "output_type": "stream",
     "text": [
      "(2000, 60) (2000, 60)\n",
      "NUM FRAMES: 120000\n"
     ]
    },
    {
     "name": "stderr",
     "output_type": "stream",
     "text": [
      "Epoch:193 Training: 100%|██████████| 16/16 [00:00<00:00, 123.70it/s, lr: 0.0001000]\n",
      "Processed 2000 frames in 0.1 seconds (36242.0 FPS)\n",
      "Epoch 193 F1: 0.70 | Best F1: 75.74 at epoch 163, iter 790528 | train_loss: 0.0001, lr: 0.0001000\n"
     ]
    },
    {
     "name": "stdout",
     "output_type": "stream",
     "text": [
      "(2000, 60) (2000, 60)\n",
      "NUM FRAMES: 120000\n"
     ]
    },
    {
     "name": "stderr",
     "output_type": "stream",
     "text": [
      "Epoch:194 Training: 100%|██████████| 16/16 [00:00<00:00, 98.56it/s, lr: 0.0001000]\n",
      "Processed 2000 frames in 0.0 seconds (57879.2 FPS)\n",
      "Epoch 194 F1: 0.70 | Best F1: 75.74 at epoch 163, iter 794624 | train_loss: 0.0001, lr: 0.0001000\n"
     ]
    },
    {
     "name": "stdout",
     "output_type": "stream",
     "text": [
      "(2000, 60) (2000, 60)\n",
      "NUM FRAMES: 120000\n"
     ]
    },
    {
     "name": "stderr",
     "output_type": "stream",
     "text": [
      "Epoch:195 Training: 100%|██████████| 16/16 [00:00<00:00, 108.83it/s, lr: 0.0001000]\n",
      "Processed 2000 frames in 0.1 seconds (33312.5 FPS)\n",
      "Epoch 195 F1: 0.71 | Best F1: 75.74 at epoch 163, iter 798720 | train_loss: 0.0001, lr: 0.0001000\n"
     ]
    },
    {
     "name": "stdout",
     "output_type": "stream",
     "text": [
      "(2000, 60) (2000, 60)\n",
      "NUM FRAMES: 120000\n"
     ]
    },
    {
     "name": "stderr",
     "output_type": "stream",
     "text": [
      "Epoch:196 Training: 100%|██████████| 16/16 [00:00<00:00, 122.59it/s, lr: 0.0001000]\n",
      "Processed 2000 frames in 0.0 seconds (57049.4 FPS)\n",
      "Epoch 196 F1: 0.72 | Best F1: 75.74 at epoch 163, iter 802816 | train_loss: 0.0001, lr: 0.0001000\n"
     ]
    },
    {
     "name": "stdout",
     "output_type": "stream",
     "text": [
      "(2000, 60) (2000, 60)\n",
      "NUM FRAMES: 120000\n"
     ]
    },
    {
     "name": "stderr",
     "output_type": "stream",
     "text": [
      "Epoch:197 Training: 100%|██████████| 16/16 [00:00<00:00, 107.86it/s, lr: 0.0001000]\n",
      "Processed 2000 frames in 0.1 seconds (34612.0 FPS)\n",
      "Epoch 197 F1: 0.72 | Best F1: 75.74 at epoch 163, iter 806912 | train_loss: 0.0001, lr: 0.0001000\n"
     ]
    },
    {
     "name": "stdout",
     "output_type": "stream",
     "text": [
      "(2000, 60) (2000, 60)\n",
      "NUM FRAMES: 120000\n"
     ]
    },
    {
     "name": "stderr",
     "output_type": "stream",
     "text": [
      "Epoch:198 Training: 100%|██████████| 16/16 [00:00<00:00, 118.94it/s, lr: 0.0001000]\n",
      "Processed 2000 frames in 0.0 seconds (53650.7 FPS)\n",
      "Epoch 198 F1: 0.73 | Best F1: 75.74 at epoch 163, iter 811008 | train_loss: 0.0001, lr: 0.0001000\n"
     ]
    },
    {
     "name": "stdout",
     "output_type": "stream",
     "text": [
      "(2000, 60) (2000, 60)\n",
      "NUM FRAMES: 120000\n"
     ]
    },
    {
     "name": "stderr",
     "output_type": "stream",
     "text": [
      "Epoch:199 Training: 100%|██████████| 16/16 [00:00<00:00, 125.44it/s, lr: 0.0001000]\n",
      "Processed 2000 frames in 0.0 seconds (50963.6 FPS)\n",
      "Epoch 199 F1: 0.73 | Best F1: 75.74 at epoch 163, iter 815104 | train_loss: 0.0001, lr: 0.0001000\n"
     ]
    },
    {
     "name": "stdout",
     "output_type": "stream",
     "text": [
      "(2000, 60) (2000, 60)\n",
      "NUM FRAMES: 120000\n"
     ]
    },
    {
     "name": "stderr",
     "output_type": "stream",
     "text": [
      "Epoch:200 Training: 100%|██████████| 16/16 [00:00<00:00, 119.25it/s, lr: 0.0001000]\n",
      "Processed 2000 frames in 0.0 seconds (44120.1 FPS)\n",
      "Epoch 200 F1: 0.73 | Best F1: 75.74 at epoch 163, iter 819200 | train_loss: 0.0001, lr: 0.0001000\n"
     ]
    },
    {
     "name": "stdout",
     "output_type": "stream",
     "text": [
      "(2000, 60) (2000, 60)\n",
      "NUM FRAMES: 120000\n"
     ]
    },
    {
     "name": "stderr",
     "output_type": "stream",
     "text": [
      "Epoch:201 Training: 100%|██████████| 16/16 [00:00<00:00, 121.88it/s, lr: 0.0001000]\n",
      "Processed 2000 frames in 0.0 seconds (48818.1 FPS)\n",
      "Epoch 201 F1: 0.74 | Best F1: 75.74 at epoch 163, iter 823296 | train_loss: 0.0001, lr: 0.0001000\n"
     ]
    },
    {
     "name": "stdout",
     "output_type": "stream",
     "text": [
      "(2000, 60) (2000, 60)\n",
      "NUM FRAMES: 120000\n"
     ]
    },
    {
     "name": "stderr",
     "output_type": "stream",
     "text": [
      "Epoch:202 Training: 100%|██████████| 16/16 [00:00<00:00, 135.62it/s, lr: 0.0001000]\n",
      "Processed 2000 frames in 0.0 seconds (49970.6 FPS)\n",
      "Epoch 202 F1: 0.72 | Best F1: 75.74 at epoch 163, iter 827392 | train_loss: 0.0001, lr: 0.0001000\n"
     ]
    },
    {
     "name": "stdout",
     "output_type": "stream",
     "text": [
      "(2000, 60) (2000, 60)\n",
      "NUM FRAMES: 120000\n"
     ]
    },
    {
     "name": "stderr",
     "output_type": "stream",
     "text": [
      "Epoch:203 Training: 100%|██████████| 16/16 [00:00<00:00, 109.87it/s, lr: 0.0001000]\n",
      "Processed 2000 frames in 0.1 seconds (38641.2 FPS)\n",
      "Epoch 203 F1: 0.74 | Best F1: 75.74 at epoch 163, iter 831488 | train_loss: 0.0001, lr: 0.0001000\n"
     ]
    },
    {
     "name": "stdout",
     "output_type": "stream",
     "text": [
      "(2000, 60) (2000, 60)\n",
      "NUM FRAMES: 120000\n"
     ]
    },
    {
     "name": "stderr",
     "output_type": "stream",
     "text": [
      "Epoch:204 Training: 100%|██████████| 16/16 [00:00<00:00, 113.17it/s, lr: 0.0001000]\n",
      "Processed 2000 frames in 0.0 seconds (47951.1 FPS)\n",
      "Epoch 204 F1: 0.74 | Best F1: 75.74 at epoch 163, iter 835584 | train_loss: 0.0001, lr: 0.0001000\n"
     ]
    },
    {
     "name": "stdout",
     "output_type": "stream",
     "text": [
      "(2000, 60) (2000, 60)\n",
      "NUM FRAMES: 120000\n"
     ]
    },
    {
     "name": "stderr",
     "output_type": "stream",
     "text": [
      "Epoch:205 Training: 100%|██████████| 16/16 [00:00<00:00, 108.13it/s, lr: 0.0001000]\n",
      "Processed 2000 frames in 0.0 seconds (53139.5 FPS)\n",
      "Epoch 205 F1: 0.74 | Best F1: 75.74 at epoch 163, iter 839680 | train_loss: 0.0001, lr: 0.0001000\n"
     ]
    },
    {
     "name": "stdout",
     "output_type": "stream",
     "text": [
      "(2000, 60) (2000, 60)\n",
      "NUM FRAMES: 120000\n"
     ]
    },
    {
     "name": "stderr",
     "output_type": "stream",
     "text": [
      "Epoch:206 Training: 100%|██████████| 16/16 [00:00<00:00, 123.78it/s, lr: 0.0001000]\n",
      "Processed 2000 frames in 0.0 seconds (52441.9 FPS)\n",
      "Epoch 206 F1: 0.74 | Best F1: 75.74 at epoch 163, iter 843776 | train_loss: 0.0001, lr: 0.0001000\n"
     ]
    },
    {
     "name": "stdout",
     "output_type": "stream",
     "text": [
      "(2000, 60) (2000, 60)\n",
      "NUM FRAMES: 120000\n"
     ]
    },
    {
     "name": "stderr",
     "output_type": "stream",
     "text": [
      "Epoch:207 Training: 100%|██████████| 16/16 [00:00<00:00, 142.01it/s, lr: 0.0001000]\n",
      "Processed 2000 frames in 0.0 seconds (52111.2 FPS)\n",
      "Epoch 207 F1: 0.74 | Best F1: 75.74 at epoch 163, iter 847872 | train_loss: 0.0001, lr: 0.0001000\n"
     ]
    },
    {
     "name": "stdout",
     "output_type": "stream",
     "text": [
      "(2000, 60) (2000, 60)\n",
      "NUM FRAMES: 120000\n"
     ]
    },
    {
     "name": "stderr",
     "output_type": "stream",
     "text": [
      "Epoch:208 Training: 100%|██████████| 16/16 [00:00<00:00, 117.19it/s, lr: 0.0001000]\n",
      "Processed 2000 frames in 0.0 seconds (46074.0 FPS)\n",
      "Epoch 208 F1: 0.75 | Best F1: 75.74 at epoch 163, iter 851968 | train_loss: 0.0001, lr: 0.0001000\n"
     ]
    },
    {
     "name": "stdout",
     "output_type": "stream",
     "text": [
      "(2000, 60) (2000, 60)\n",
      "NUM FRAMES: 120000\n"
     ]
    },
    {
     "name": "stderr",
     "output_type": "stream",
     "text": [
      "Epoch:209 Training: 100%|██████████| 16/16 [00:00<00:00, 122.39it/s, lr: 0.0001000]\n",
      "Processed 2000 frames in 0.1 seconds (35832.4 FPS)\n",
      "Epoch 209 F1: 0.75 | Best F1: 75.74 at epoch 163, iter 856064 | train_loss: 0.0001, lr: 0.0001000\n"
     ]
    },
    {
     "name": "stdout",
     "output_type": "stream",
     "text": [
      "(2000, 60) (2000, 60)\n",
      "NUM FRAMES: 120000\n"
     ]
    },
    {
     "name": "stderr",
     "output_type": "stream",
     "text": [
      "Epoch:210 Training: 100%|██████████| 16/16 [00:00<00:00, 120.45it/s, lr: 0.0001000]\n",
      "Processed 2000 frames in 0.1 seconds (34098.4 FPS)\n",
      "Epoch 210 F1: 0.75 | Best F1: 75.74 at epoch 163, iter 860160 | train_loss: 0.0001, lr: 0.0001000\n"
     ]
    },
    {
     "name": "stdout",
     "output_type": "stream",
     "text": [
      "(2000, 60) (2000, 60)\n",
      "NUM FRAMES: 120000\n"
     ]
    },
    {
     "name": "stderr",
     "output_type": "stream",
     "text": [
      "Epoch:211 Training: 100%|██████████| 16/16 [00:00<00:00, 106.00it/s, lr: 0.0001000]\n",
      "Processed 2000 frames in 0.1 seconds (33867.8 FPS)\n",
      "Epoch 211 F1: 0.75 | Best F1: 75.74 at epoch 163, iter 864256 | train_loss: 0.0001, lr: 0.0001000\n"
     ]
    },
    {
     "name": "stdout",
     "output_type": "stream",
     "text": [
      "(2000, 60) (2000, 60)\n",
      "NUM FRAMES: 120000\n"
     ]
    },
    {
     "name": "stderr",
     "output_type": "stream",
     "text": [
      "Epoch:212 Training: 100%|██████████| 16/16 [00:00<00:00, 125.00it/s, lr: 0.0001000]\n",
      "Processed 2000 frames in 0.0 seconds (53523.7 FPS)\n",
      "Epoch 212 F1: 0.75 | Best F1: 75.74 at epoch 163, iter 868352 | train_loss: 0.0001, lr: 0.0001000\n"
     ]
    },
    {
     "name": "stdout",
     "output_type": "stream",
     "text": [
      "(2000, 60) (2000, 60)\n",
      "NUM FRAMES: 120000\n"
     ]
    },
    {
     "name": "stderr",
     "output_type": "stream",
     "text": [
      "Epoch:213 Training: 100%|██████████| 16/16 [00:00<00:00, 112.92it/s, lr: 0.0001000]\n",
      "Processed 2000 frames in 0.1 seconds (32845.5 FPS)\n",
      "Epoch 213 F1: 0.74 | Best F1: 75.74 at epoch 163, iter 872448 | train_loss: 0.0001, lr: 0.0001000\n"
     ]
    },
    {
     "name": "stdout",
     "output_type": "stream",
     "text": [
      "(2000, 60) (2000, 60)\n",
      "NUM FRAMES: 120000\n"
     ]
    },
    {
     "name": "stderr",
     "output_type": "stream",
     "text": [
      "Epoch:214 Training: 100%|██████████| 16/16 [00:00<00:00, 112.26it/s, lr: 0.0001000]\n",
      "Processed 2000 frames in 0.1 seconds (34046.7 FPS)\n",
      "Epoch 214 F1: 0.75 | Best F1: 75.74 at epoch 163, iter 876544 | train_loss: 0.0001, lr: 0.0001000\n"
     ]
    },
    {
     "name": "stdout",
     "output_type": "stream",
     "text": [
      "(2000, 60) (2000, 60)\n",
      "NUM FRAMES: 120000\n"
     ]
    },
    {
     "name": "stderr",
     "output_type": "stream",
     "text": [
      "Epoch:215 Training: 100%|██████████| 16/16 [00:00<00:00, 107.04it/s, lr: 0.0001000]\n",
      "Processed 2000 frames in 0.0 seconds (50218.9 FPS)\n",
      "Epoch 215 F1: 0.76 | Best F1: 75.74 at epoch 163, iter 880640 | train_loss: 0.0001, lr: 0.0001000\n"
     ]
    },
    {
     "name": "stdout",
     "output_type": "stream",
     "text": [
      "(2000, 60) (2000, 60)\n",
      "NUM FRAMES: 120000\n"
     ]
    },
    {
     "name": "stderr",
     "output_type": "stream",
     "text": [
      "Epoch:216 Training: 100%|██████████| 16/16 [00:00<00:00, 92.42it/s, lr: 0.0001000]\n",
      "Processed 2000 frames in 0.1 seconds (33548.8 FPS)\n",
      "Epoch 216 F1: 0.76 | Best F1: 75.74 at epoch 163, iter 884736 | train_loss: 0.0001, lr: 0.0001000\n"
     ]
    },
    {
     "name": "stdout",
     "output_type": "stream",
     "text": [
      "(2000, 60) (2000, 60)\n",
      "NUM FRAMES: 120000\n"
     ]
    },
    {
     "name": "stderr",
     "output_type": "stream",
     "text": [
      "Epoch:217 Training: 100%|██████████| 16/16 [00:00<00:00, 104.76it/s, lr: 0.0001000]\n",
      "Processed 2000 frames in 0.1 seconds (37705.5 FPS)\n",
      "Epoch 217 F1: 0.76 | Best F1: 75.95 at epoch 217, iter 888832 | train_loss: 0.0001, lr: 0.0001000\n"
     ]
    },
    {
     "name": "stdout",
     "output_type": "stream",
     "text": [
      "(2000, 60) (2000, 60)\n",
      "NUM FRAMES: 120000\n"
     ]
    },
    {
     "name": "stderr",
     "output_type": "stream",
     "text": [
      "Epoch:218 Training: 100%|██████████| 16/16 [00:00<00:00, 121.15it/s, lr: 0.0001000]\n",
      "Processed 2000 frames in 0.0 seconds (59200.6 FPS)\n",
      "Epoch 218 F1: 0.76 | Best F1: 75.95 at epoch 217, iter 892928 | train_loss: 0.0001, lr: 0.0001000\n"
     ]
    },
    {
     "name": "stdout",
     "output_type": "stream",
     "text": [
      "(2000, 60) (2000, 60)\n",
      "NUM FRAMES: 120000\n"
     ]
    },
    {
     "name": "stderr",
     "output_type": "stream",
     "text": [
      "Epoch:219 Training: 100%|██████████| 16/16 [00:00<00:00, 113.15it/s, lr: 0.0001000]\n",
      "Processed 2000 frames in 0.1 seconds (33732.4 FPS)\n",
      "Epoch 219 F1: 0.76 | Best F1: 75.95 at epoch 217, iter 897024 | train_loss: 0.0001, lr: 0.0001000\n"
     ]
    },
    {
     "name": "stdout",
     "output_type": "stream",
     "text": [
      "(2000, 60) (2000, 60)\n",
      "NUM FRAMES: 120000\n"
     ]
    },
    {
     "name": "stderr",
     "output_type": "stream",
     "text": [
      "Epoch:220 Training: 100%|██████████| 16/16 [00:00<00:00, 120.19it/s, lr: 0.0001000]\n",
      "Processed 2000 frames in 0.0 seconds (50266.1 FPS)\n",
      "Epoch 220 F1: 0.75 | Best F1: 75.95 at epoch 217, iter 901120 | train_loss: 0.0001, lr: 0.0001000\n"
     ]
    },
    {
     "name": "stdout",
     "output_type": "stream",
     "text": [
      "(2000, 60) (2000, 60)\n",
      "NUM FRAMES: 120000\n"
     ]
    },
    {
     "name": "stderr",
     "output_type": "stream",
     "text": [
      "Epoch:221 Training: 100%|██████████| 16/16 [00:00<00:00, 116.88it/s, lr: 0.0001000]\n",
      "Processed 2000 frames in 0.0 seconds (52664.1 FPS)\n",
      "Epoch 221 F1: 0.75 | Best F1: 75.95 at epoch 217, iter 905216 | train_loss: 0.0001, lr: 0.0001000\n"
     ]
    },
    {
     "name": "stdout",
     "output_type": "stream",
     "text": [
      "(2000, 60) (2000, 60)\n",
      "NUM FRAMES: 120000\n"
     ]
    },
    {
     "name": "stderr",
     "output_type": "stream",
     "text": [
      "Epoch:222 Training: 100%|██████████| 16/16 [00:00<00:00, 118.28it/s, lr: 0.0001000]\n",
      "Processed 2000 frames in 0.1 seconds (33120.6 FPS)\n",
      "Epoch 222 F1: 0.76 | Best F1: 76.37 at epoch 222, iter 909312 | train_loss: 0.0001, lr: 0.0001000\n"
     ]
    },
    {
     "name": "stdout",
     "output_type": "stream",
     "text": [
      "(2000, 60) (2000, 60)\n",
      "NUM FRAMES: 120000\n"
     ]
    },
    {
     "name": "stderr",
     "output_type": "stream",
     "text": [
      "Epoch:223 Training: 100%|██████████| 16/16 [00:00<00:00, 108.81it/s, lr: 0.0001000]\n",
      "Processed 2000 frames in 0.1 seconds (36000.6 FPS)\n",
      "Epoch 223 F1: 0.76 | Best F1: 76.37 at epoch 222, iter 913408 | train_loss: 0.0001, lr: 0.0001000\n"
     ]
    },
    {
     "name": "stdout",
     "output_type": "stream",
     "text": [
      "(2000, 60) (2000, 60)\n",
      "NUM FRAMES: 120000\n"
     ]
    },
    {
     "name": "stderr",
     "output_type": "stream",
     "text": [
      "Epoch:224 Training: 100%|██████████| 16/16 [00:00<00:00, 111.98it/s, lr: 0.0001000]\n",
      "Processed 2000 frames in 0.1 seconds (33665.9 FPS)\n",
      "Epoch 224 F1: 0.76 | Best F1: 76.37 at epoch 222, iter 917504 | train_loss: 0.0000, lr: 0.0001000\n"
     ]
    },
    {
     "name": "stdout",
     "output_type": "stream",
     "text": [
      "(2000, 60) (2000, 60)\n",
      "NUM FRAMES: 120000\n"
     ]
    },
    {
     "name": "stderr",
     "output_type": "stream",
     "text": [
      "Epoch:225 Training: 100%|██████████| 16/16 [00:00<00:00, 123.87it/s, lr: 0.0001000]\n",
      "Processed 2000 frames in 0.1 seconds (33325.6 FPS)\n",
      "Epoch 225 F1: 0.77 | Best F1: 77.11 at epoch 225, iter 921600 | train_loss: 0.0000, lr: 0.0001000\n"
     ]
    },
    {
     "name": "stdout",
     "output_type": "stream",
     "text": [
      "(2000, 60) (2000, 60)\n",
      "NUM FRAMES: 120000\n"
     ]
    },
    {
     "name": "stderr",
     "output_type": "stream",
     "text": [
      "Epoch:226 Training: 100%|██████████| 16/16 [00:00<00:00, 141.24it/s, lr: 0.0001000]\n",
      "Processed 2000 frames in 0.0 seconds (46620.2 FPS)\n",
      "Epoch 226 F1: 0.77 | Best F1: 77.11 at epoch 225, iter 925696 | train_loss: 0.0000, lr: 0.0001000\n"
     ]
    },
    {
     "name": "stdout",
     "output_type": "stream",
     "text": [
      "(2000, 60) (2000, 60)\n",
      "NUM FRAMES: 120000\n"
     ]
    },
    {
     "name": "stderr",
     "output_type": "stream",
     "text": [
      "Epoch:227 Training: 100%|██████████| 16/16 [00:00<00:00, 107.40it/s, lr: 0.0001000]\n",
      "Processed 2000 frames in 0.0 seconds (52678.4 FPS)\n",
      "Epoch 227 F1: 0.77 | Best F1: 77.11 at epoch 225, iter 929792 | train_loss: 0.0000, lr: 0.0001000\n"
     ]
    },
    {
     "name": "stdout",
     "output_type": "stream",
     "text": [
      "(2000, 60) (2000, 60)\n",
      "NUM FRAMES: 120000\n"
     ]
    },
    {
     "name": "stderr",
     "output_type": "stream",
     "text": [
      "Epoch:228 Training: 100%|██████████| 16/16 [00:00<00:00, 129.35it/s, lr: 0.0001000]\n",
      "Processed 2000 frames in 0.0 seconds (42247.4 FPS)\n",
      "Epoch 228 F1: 0.76 | Best F1: 77.11 at epoch 225, iter 933888 | train_loss: 0.0000, lr: 0.0001000\n"
     ]
    },
    {
     "name": "stdout",
     "output_type": "stream",
     "text": [
      "(2000, 60) (2000, 60)\n",
      "NUM FRAMES: 120000\n"
     ]
    },
    {
     "name": "stderr",
     "output_type": "stream",
     "text": [
      "Epoch:229 Training: 100%|██████████| 16/16 [00:00<00:00, 112.45it/s, lr: 0.0001000]\n",
      "Processed 2000 frames in 0.1 seconds (36135.5 FPS)\n",
      "Epoch 229 F1: 0.77 | Best F1: 77.11 at epoch 225, iter 937984 | train_loss: 0.0000, lr: 0.0001000\n"
     ]
    },
    {
     "name": "stdout",
     "output_type": "stream",
     "text": [
      "(2000, 60) (2000, 60)\n",
      "NUM FRAMES: 120000\n"
     ]
    },
    {
     "name": "stderr",
     "output_type": "stream",
     "text": [
      "Epoch:230 Training: 100%|██████████| 16/16 [00:00<00:00, 105.04it/s, lr: 0.0001000]\n",
      "Processed 2000 frames in 0.1 seconds (36488.4 FPS)\n",
      "Epoch 230 F1: 0.77 | Best F1: 77.11 at epoch 225, iter 942080 | train_loss: 0.0000, lr: 0.0001000\n"
     ]
    },
    {
     "name": "stdout",
     "output_type": "stream",
     "text": [
      "(2000, 60) (2000, 60)\n",
      "NUM FRAMES: 120000\n"
     ]
    },
    {
     "name": "stderr",
     "output_type": "stream",
     "text": [
      "Epoch:231 Training: 100%|██████████| 16/16 [00:00<00:00, 139.74it/s, lr: 0.0001000]\n",
      "Processed 2000 frames in 0.0 seconds (48149.5 FPS)\n",
      "Epoch 231 F1: 0.77 | Best F1: 77.14 at epoch 231, iter 946176 | train_loss: 0.0000, lr: 0.0001000\n"
     ]
    },
    {
     "name": "stdout",
     "output_type": "stream",
     "text": [
      "(2000, 60) (2000, 60)\n",
      "NUM FRAMES: 120000\n"
     ]
    },
    {
     "name": "stderr",
     "output_type": "stream",
     "text": [
      "Epoch:232 Training: 100%|██████████| 16/16 [00:00<00:00, 112.01it/s, lr: 0.0001000]\n",
      "Processed 2000 frames in 0.1 seconds (39756.8 FPS)\n",
      "Epoch 232 F1: 0.77 | Best F1: 77.14 at epoch 231, iter 950272 | train_loss: 0.0000, lr: 0.0001000\n"
     ]
    },
    {
     "name": "stdout",
     "output_type": "stream",
     "text": [
      "(2000, 60) (2000, 60)\n",
      "NUM FRAMES: 120000\n"
     ]
    },
    {
     "name": "stderr",
     "output_type": "stream",
     "text": [
      "Epoch:233 Training: 100%|██████████| 16/16 [00:00<00:00, 124.54it/s, lr: 0.0001000]\n",
      "Processed 2000 frames in 0.0 seconds (52873.6 FPS)\n",
      "Epoch 233 F1: 0.77 | Best F1: 77.14 at epoch 231, iter 954368 | train_loss: 0.0000, lr: 0.0001000\n"
     ]
    },
    {
     "name": "stdout",
     "output_type": "stream",
     "text": [
      "(2000, 60) (2000, 60)\n",
      "NUM FRAMES: 120000\n"
     ]
    },
    {
     "name": "stderr",
     "output_type": "stream",
     "text": [
      "Epoch:234 Training: 100%|██████████| 16/16 [00:00<00:00, 103.17it/s, lr: 0.0001000]\n",
      "Processed 2000 frames in 0.1 seconds (36134.0 FPS)\n",
      "Epoch 234 F1: 0.77 | Best F1: 77.14 at epoch 231, iter 958464 | train_loss: 0.0000, lr: 0.0001000\n"
     ]
    },
    {
     "name": "stdout",
     "output_type": "stream",
     "text": [
      "(2000, 60) (2000, 60)\n",
      "NUM FRAMES: 120000\n"
     ]
    },
    {
     "name": "stderr",
     "output_type": "stream",
     "text": [
      "Epoch:235 Training: 100%|██████████| 16/16 [00:00<00:00, 116.46it/s, lr: 0.0001000]\n",
      "Processed 2000 frames in 0.1 seconds (36280.1 FPS)\n",
      "Epoch 235 F1: 0.77 | Best F1: 77.14 at epoch 231, iter 962560 | train_loss: 0.0000, lr: 0.0001000\n"
     ]
    },
    {
     "name": "stdout",
     "output_type": "stream",
     "text": [
      "(2000, 60) (2000, 60)\n",
      "NUM FRAMES: 120000\n"
     ]
    },
    {
     "name": "stderr",
     "output_type": "stream",
     "text": [
      "Epoch:236 Training: 100%|██████████| 16/16 [00:00<00:00, 116.84it/s, lr: 0.0001000]\n",
      "Processed 2000 frames in 0.1 seconds (35831.3 FPS)\n",
      "Epoch 236 F1: 0.77 | Best F1: 77.40 at epoch 236, iter 966656 | train_loss: 0.0000, lr: 0.0001000\n"
     ]
    },
    {
     "name": "stdout",
     "output_type": "stream",
     "text": [
      "(2000, 60) (2000, 60)\n",
      "NUM FRAMES: 120000\n"
     ]
    },
    {
     "name": "stderr",
     "output_type": "stream",
     "text": [
      "Epoch:237 Training: 100%|██████████| 16/16 [00:00<00:00, 107.92it/s, lr: 0.0001000]\n",
      "Processed 2000 frames in 0.1 seconds (33119.0 FPS)\n",
      "Epoch 237 F1: 0.77 | Best F1: 77.40 at epoch 236, iter 970752 | train_loss: 0.0000, lr: 0.0001000\n"
     ]
    },
    {
     "name": "stdout",
     "output_type": "stream",
     "text": [
      "(2000, 60) (2000, 60)\n",
      "NUM FRAMES: 120000\n"
     ]
    },
    {
     "name": "stderr",
     "output_type": "stream",
     "text": [
      "Epoch:238 Training: 100%|██████████| 16/16 [00:00<00:00, 109.54it/s, lr: 0.0001000]\n",
      "Processed 2000 frames in 0.0 seconds (52422.2 FPS)\n",
      "Epoch 238 F1: 0.78 | Best F1: 77.50 at epoch 238, iter 974848 | train_loss: 0.0000, lr: 0.0001000\n"
     ]
    },
    {
     "name": "stdout",
     "output_type": "stream",
     "text": [
      "(2000, 60) (2000, 60)\n",
      "NUM FRAMES: 120000\n"
     ]
    },
    {
     "name": "stderr",
     "output_type": "stream",
     "text": [
      "Epoch:239 Training: 100%|██████████| 16/16 [00:00<00:00, 108.40it/s, lr: 0.0001000]\n",
      "Processed 2000 frames in 0.0 seconds (51002.0 FPS)\n",
      "Epoch 239 F1: 0.78 | Best F1: 77.68 at epoch 239, iter 978944 | train_loss: 0.0000, lr: 0.0001000\n"
     ]
    },
    {
     "name": "stdout",
     "output_type": "stream",
     "text": [
      "(2000, 60) (2000, 60)\n",
      "NUM FRAMES: 120000\n"
     ]
    },
    {
     "name": "stderr",
     "output_type": "stream",
     "text": [
      "Epoch:240 Training: 100%|██████████| 16/16 [00:00<00:00, 116.50it/s, lr: 0.0001000]\n",
      "Processed 2000 frames in 0.1 seconds (39205.0 FPS)\n",
      "Epoch 240 F1: 0.77 | Best F1: 77.68 at epoch 239, iter 983040 | train_loss: 0.0000, lr: 0.0001000\n"
     ]
    },
    {
     "name": "stdout",
     "output_type": "stream",
     "text": [
      "(2000, 60) (2000, 60)\n",
      "NUM FRAMES: 120000\n"
     ]
    },
    {
     "name": "stderr",
     "output_type": "stream",
     "text": [
      "Epoch:241 Training: 100%|██████████| 16/16 [00:00<00:00, 101.85it/s, lr: 0.0001000]\n",
      "Processed 2000 frames in 0.1 seconds (35243.4 FPS)\n",
      "Epoch 241 F1: 0.76 | Best F1: 77.68 at epoch 239, iter 987136 | train_loss: 0.0000, lr: 0.0001000\n"
     ]
    },
    {
     "name": "stdout",
     "output_type": "stream",
     "text": [
      "(2000, 60) (2000, 60)\n",
      "NUM FRAMES: 120000\n"
     ]
    },
    {
     "name": "stderr",
     "output_type": "stream",
     "text": [
      "Epoch:242 Training: 100%|██████████| 16/16 [00:00<00:00, 112.61it/s, lr: 0.0001000]\n",
      "Processed 2000 frames in 0.1 seconds (33054.9 FPS)\n",
      "Epoch 242 F1: 0.77 | Best F1: 77.68 at epoch 239, iter 991232 | train_loss: 0.0000, lr: 0.0001000\n"
     ]
    },
    {
     "name": "stdout",
     "output_type": "stream",
     "text": [
      "(2000, 60) (2000, 60)\n",
      "NUM FRAMES: 120000\n"
     ]
    },
    {
     "name": "stderr",
     "output_type": "stream",
     "text": [
      "Epoch:243 Training: 100%|██████████| 16/16 [00:00<00:00, 132.50it/s, lr: 0.0001000]\n",
      "Processed 2000 frames in 0.0 seconds (47775.2 FPS)\n",
      "Epoch 243 F1: 0.78 | Best F1: 77.69 at epoch 243, iter 995328 | train_loss: 0.0000, lr: 0.0001000\n"
     ]
    },
    {
     "name": "stdout",
     "output_type": "stream",
     "text": [
      "(2000, 60) (2000, 60)\n",
      "NUM FRAMES: 120000\n"
     ]
    },
    {
     "name": "stderr",
     "output_type": "stream",
     "text": [
      "Epoch:244 Training: 100%|██████████| 16/16 [00:00<00:00, 126.60it/s, lr: 0.0001000]\n",
      "Processed 2000 frames in 0.1 seconds (36732.2 FPS)\n",
      "Epoch 244 F1: 0.78 | Best F1: 77.93 at epoch 244, iter 999424 | train_loss: 0.0000, lr: 0.0001000\n"
     ]
    },
    {
     "name": "stdout",
     "output_type": "stream",
     "text": [
      "(2000, 60) (2000, 60)\n",
      "NUM FRAMES: 120000\n"
     ]
    },
    {
     "name": "stderr",
     "output_type": "stream",
     "text": [
      "Epoch:245 Training: 100%|██████████| 16/16 [00:00<00:00, 133.90it/s, lr: 0.0001000]\n",
      "Processed 2000 frames in 0.0 seconds (42059.5 FPS)\n",
      "Epoch 245 F1: 0.78 | Best F1: 78.42 at epoch 245, iter 1003520 | train_loss: 0.0000, lr: 0.0001000\n"
     ]
    },
    {
     "name": "stdout",
     "output_type": "stream",
     "text": [
      "(2000, 60) (2000, 60)\n",
      "NUM FRAMES: 120000\n"
     ]
    },
    {
     "name": "stderr",
     "output_type": "stream",
     "text": [
      "Epoch:246 Training: 100%|██████████| 16/16 [00:00<00:00, 115.00it/s, lr: 0.0001000]\n",
      "Processed 2000 frames in 0.1 seconds (33600.8 FPS)\n",
      "Epoch 246 F1: 0.78 | Best F1: 78.42 at epoch 245, iter 1007616 | train_loss: 0.0000, lr: 0.0001000\n"
     ]
    },
    {
     "name": "stdout",
     "output_type": "stream",
     "text": [
      "(2000, 60) (2000, 60)\n",
      "NUM FRAMES: 120000\n"
     ]
    },
    {
     "name": "stderr",
     "output_type": "stream",
     "text": [
      "Epoch:247 Training: 100%|██████████| 16/16 [00:00<00:00, 128.78it/s, lr: 0.0001000]\n",
      "Processed 2000 frames in 0.1 seconds (36473.0 FPS)\n",
      "Epoch 247 F1: 0.79 | Best F1: 79.01 at epoch 247, iter 1011712 | train_loss: 0.0000, lr: 0.0001000\n"
     ]
    },
    {
     "name": "stdout",
     "output_type": "stream",
     "text": [
      "(2000, 60) (2000, 60)\n",
      "NUM FRAMES: 120000\n"
     ]
    },
    {
     "name": "stderr",
     "output_type": "stream",
     "text": [
      "Epoch:248 Training: 100%|██████████| 16/16 [00:00<00:00, 113.34it/s, lr: 0.0001000]\n",
      "Processed 2000 frames in 0.1 seconds (33094.6 FPS)\n",
      "Epoch 248 F1: 0.79 | Best F1: 79.01 at epoch 247, iter 1015808 | train_loss: 0.0000, lr: 0.0001000\n"
     ]
    },
    {
     "name": "stdout",
     "output_type": "stream",
     "text": [
      "(2000, 60) (2000, 60)\n",
      "NUM FRAMES: 120000\n"
     ]
    },
    {
     "name": "stderr",
     "output_type": "stream",
     "text": [
      "Epoch:249 Training: 100%|██████████| 16/16 [00:00<00:00, 120.67it/s, lr: 0.0001000]\n",
      "Processed 2000 frames in 0.1 seconds (32454.9 FPS)\n",
      "Epoch 249 F1: 0.79 | Best F1: 79.01 at epoch 247, iter 1019904 | train_loss: 0.0000, lr: 0.0001000\n"
     ]
    },
    {
     "name": "stdout",
     "output_type": "stream",
     "text": [
      "(2000, 60) (2000, 60)\n",
      "NUM FRAMES: 120000\n"
     ]
    },
    {
     "name": "stderr",
     "output_type": "stream",
     "text": [
      "Epoch:250 Training: 100%|██████████| 16/16 [00:00<00:00, 126.07it/s, lr: 0.0001000]\n",
      "Processed 2000 frames in 0.1 seconds (36017.4 FPS)\n",
      "Epoch 250 F1: 0.79 | Best F1: 79.01 at epoch 247, iter 1024000 | train_loss: 0.0000, lr: 0.0001000\n"
     ]
    },
    {
     "name": "stdout",
     "output_type": "stream",
     "text": [
      "(2000, 60) (2000, 60)\n",
      "NUM FRAMES: 120000\n"
     ]
    },
    {
     "name": "stderr",
     "output_type": "stream",
     "text": [
      "Epoch:251 Training: 100%|██████████| 16/16 [00:00<00:00, 119.83it/s, lr: 0.0001000]\n",
      "Processed 2000 frames in 0.0 seconds (49700.8 FPS)\n",
      "Epoch 251 F1: 0.78 | Best F1: 79.01 at epoch 247, iter 1028096 | train_loss: 0.0000, lr: 0.0001000\n"
     ]
    },
    {
     "name": "stdout",
     "output_type": "stream",
     "text": [
      "(2000, 60) (2000, 60)\n",
      "NUM FRAMES: 120000\n"
     ]
    },
    {
     "name": "stderr",
     "output_type": "stream",
     "text": [
      "Epoch:252 Training: 100%|██████████| 16/16 [00:00<00:00, 122.56it/s, lr: 0.0001000]\n",
      "Processed 2000 frames in 0.0 seconds (47347.8 FPS)\n",
      "Epoch 252 F1: 0.78 | Best F1: 79.01 at epoch 247, iter 1032192 | train_loss: 0.0000, lr: 0.0001000\n"
     ]
    },
    {
     "name": "stdout",
     "output_type": "stream",
     "text": [
      "(2000, 60) (2000, 60)\n",
      "NUM FRAMES: 120000\n"
     ]
    },
    {
     "name": "stderr",
     "output_type": "stream",
     "text": [
      "Epoch:253 Training: 100%|██████████| 16/16 [00:00<00:00, 103.93it/s, lr: 0.0001000]\n",
      "Processed 2000 frames in 0.1 seconds (35988.2 FPS)\n",
      "Epoch 253 F1: 0.79 | Best F1: 79.47 at epoch 253, iter 1036288 | train_loss: 0.0000, lr: 0.0001000\n"
     ]
    },
    {
     "name": "stdout",
     "output_type": "stream",
     "text": [
      "(2000, 60) (2000, 60)\n",
      "NUM FRAMES: 120000\n"
     ]
    },
    {
     "name": "stderr",
     "output_type": "stream",
     "text": [
      "Epoch:254 Training: 100%|██████████| 16/16 [00:00<00:00, 111.92it/s, lr: 0.0001000]\n",
      "Processed 2000 frames in 0.1 seconds (34430.9 FPS)\n",
      "Epoch 254 F1: 0.79 | Best F1: 79.47 at epoch 253, iter 1040384 | train_loss: 0.0000, lr: 0.0001000\n"
     ]
    },
    {
     "name": "stdout",
     "output_type": "stream",
     "text": [
      "(2000, 60) (2000, 60)\n",
      "NUM FRAMES: 120000\n"
     ]
    },
    {
     "name": "stderr",
     "output_type": "stream",
     "text": [
      "Epoch:255 Training: 100%|██████████| 16/16 [00:00<00:00, 122.95it/s, lr: 0.0001000]\n",
      "Processed 2000 frames in 0.0 seconds (55548.9 FPS)\n",
      "Epoch 255 F1: 0.79 | Best F1: 79.47 at epoch 253, iter 1044480 | train_loss: 0.0000, lr: 0.0001000\n"
     ]
    },
    {
     "name": "stdout",
     "output_type": "stream",
     "text": [
      "(2000, 60) (2000, 60)\n",
      "NUM FRAMES: 120000\n"
     ]
    },
    {
     "name": "stderr",
     "output_type": "stream",
     "text": [
      "Epoch:256 Training: 100%|██████████| 16/16 [00:00<00:00, 129.75it/s, lr: 0.0001000]\n",
      "Processed 2000 frames in 0.0 seconds (47743.9 FPS)\n",
      "Epoch 256 F1: 0.79 | Best F1: 79.47 at epoch 253, iter 1048576 | train_loss: 0.0000, lr: 0.0001000\n"
     ]
    },
    {
     "name": "stdout",
     "output_type": "stream",
     "text": [
      "(2000, 60) (2000, 60)\n",
      "NUM FRAMES: 120000\n"
     ]
    },
    {
     "name": "stderr",
     "output_type": "stream",
     "text": [
      "Epoch:257 Training: 100%|██████████| 16/16 [00:00<00:00, 119.83it/s, lr: 0.0001000]\n",
      "Processed 2000 frames in 0.0 seconds (52219.3 FPS)\n",
      "Epoch 257 F1: 0.79 | Best F1: 79.47 at epoch 253, iter 1052672 | train_loss: 0.0000, lr: 0.0001000\n"
     ]
    },
    {
     "name": "stdout",
     "output_type": "stream",
     "text": [
      "(2000, 60) (2000, 60)\n",
      "NUM FRAMES: 120000\n"
     ]
    },
    {
     "name": "stderr",
     "output_type": "stream",
     "text": [
      "Epoch:258 Training: 100%|██████████| 16/16 [00:00<00:00, 114.10it/s, lr: 0.0001000]\n",
      "Processed 2000 frames in 0.0 seconds (51373.7 FPS)\n",
      "Epoch 258 F1: 0.79 | Best F1: 79.47 at epoch 253, iter 1056768 | train_loss: 0.0000, lr: 0.0001000\n"
     ]
    },
    {
     "name": "stdout",
     "output_type": "stream",
     "text": [
      "(2000, 60) (2000, 60)\n",
      "NUM FRAMES: 120000\n"
     ]
    },
    {
     "name": "stderr",
     "output_type": "stream",
     "text": [
      "Epoch:259 Training: 100%|██████████| 16/16 [00:00<00:00, 129.61it/s, lr: 0.0001000]\n",
      "Processed 2000 frames in 0.1 seconds (37313.9 FPS)\n",
      "Epoch 259 F1: 0.79 | Best F1: 79.47 at epoch 253, iter 1060864 | train_loss: 0.0000, lr: 0.0001000\n"
     ]
    },
    {
     "name": "stdout",
     "output_type": "stream",
     "text": [
      "(2000, 60) (2000, 60)\n",
      "NUM FRAMES: 120000\n"
     ]
    },
    {
     "name": "stderr",
     "output_type": "stream",
     "text": [
      "Epoch:260 Training: 100%|██████████| 16/16 [00:00<00:00, 125.32it/s, lr: 0.0001000]\n",
      "Processed 2000 frames in 0.1 seconds (34443.9 FPS)\n",
      "Epoch 260 F1: 0.80 | Best F1: 79.53 at epoch 260, iter 1064960 | train_loss: 0.0000, lr: 0.0001000\n"
     ]
    },
    {
     "name": "stdout",
     "output_type": "stream",
     "text": [
      "(2000, 60) (2000, 60)\n",
      "NUM FRAMES: 120000\n"
     ]
    },
    {
     "name": "stderr",
     "output_type": "stream",
     "text": [
      "Epoch:261 Training: 100%|██████████| 16/16 [00:00<00:00, 127.20it/s, lr: 0.0001000]\n",
      "Processed 2000 frames in 0.0 seconds (50620.4 FPS)\n",
      "Epoch 261 F1: 0.80 | Best F1: 79.81 at epoch 261, iter 1069056 | train_loss: 0.0000, lr: 0.0001000\n"
     ]
    },
    {
     "name": "stdout",
     "output_type": "stream",
     "text": [
      "(2000, 60) (2000, 60)\n",
      "NUM FRAMES: 120000\n"
     ]
    },
    {
     "name": "stderr",
     "output_type": "stream",
     "text": [
      "Epoch:262 Training: 100%|██████████| 16/16 [00:00<00:00, 140.21it/s, lr: 0.0001000]\n",
      "Processed 2000 frames in 0.0 seconds (53927.0 FPS)\n",
      "Epoch 262 F1: 0.79 | Best F1: 79.81 at epoch 261, iter 1073152 | train_loss: 0.0000, lr: 0.0001000\n"
     ]
    },
    {
     "name": "stdout",
     "output_type": "stream",
     "text": [
      "(2000, 60) (2000, 60)\n",
      "NUM FRAMES: 120000\n"
     ]
    },
    {
     "name": "stderr",
     "output_type": "stream",
     "text": [
      "Epoch:263 Training: 100%|██████████| 16/16 [00:00<00:00, 111.91it/s, lr: 0.0001000]\n",
      "Processed 2000 frames in 0.0 seconds (43124.0 FPS)\n",
      "Epoch 263 F1: 0.80 | Best F1: 79.81 at epoch 261, iter 1077248 | train_loss: 0.0000, lr: 0.0001000\n"
     ]
    },
    {
     "name": "stdout",
     "output_type": "stream",
     "text": [
      "(2000, 60) (2000, 60)\n",
      "NUM FRAMES: 120000\n"
     ]
    },
    {
     "name": "stderr",
     "output_type": "stream",
     "text": [
      "Epoch:264 Training: 100%|██████████| 16/16 [00:00<00:00, 100.59it/s, lr: 0.0001000]\n",
      "Processed 2000 frames in 0.1 seconds (34117.6 FPS)\n",
      "Epoch 264 F1: 0.80 | Best F1: 80.48 at epoch 264, iter 1081344 | train_loss: 0.0000, lr: 0.0001000\n"
     ]
    },
    {
     "name": "stdout",
     "output_type": "stream",
     "text": [
      "(2000, 60) (2000, 60)\n",
      "NUM FRAMES: 120000\n"
     ]
    },
    {
     "name": "stderr",
     "output_type": "stream",
     "text": [
      "Epoch:265 Training: 100%|██████████| 16/16 [00:00<00:00, 142.84it/s, lr: 0.0001000]\n",
      "Processed 2000 frames in 0.1 seconds (34498.3 FPS)\n",
      "Epoch 265 F1: 0.77 | Best F1: 80.48 at epoch 264, iter 1085440 | train_loss: 0.0000, lr: 0.0001000\n"
     ]
    },
    {
     "name": "stdout",
     "output_type": "stream",
     "text": [
      "(2000, 60) (2000, 60)\n",
      "NUM FRAMES: 120000\n"
     ]
    },
    {
     "name": "stderr",
     "output_type": "stream",
     "text": [
      "Epoch:266 Training: 100%|██████████| 16/16 [00:00<00:00, 110.61it/s, lr: 0.0001000]\n",
      "Processed 2000 frames in 0.1 seconds (36343.4 FPS)\n",
      "Epoch 266 F1: 0.78 | Best F1: 80.48 at epoch 264, iter 1089536 | train_loss: 0.0000, lr: 0.0001000\n"
     ]
    },
    {
     "name": "stdout",
     "output_type": "stream",
     "text": [
      "(2000, 60) (2000, 60)\n",
      "NUM FRAMES: 120000\n"
     ]
    },
    {
     "name": "stderr",
     "output_type": "stream",
     "text": [
      "Epoch:267 Training: 100%|██████████| 16/16 [00:00<00:00, 114.75it/s, lr: 0.0001000]\n",
      "Processed 2000 frames in 0.1 seconds (35191.5 FPS)\n",
      "Epoch 267 F1: 0.80 | Best F1: 80.48 at epoch 264, iter 1093632 | train_loss: 0.0000, lr: 0.0001000\n"
     ]
    },
    {
     "name": "stdout",
     "output_type": "stream",
     "text": [
      "(2000, 60) (2000, 60)\n",
      "NUM FRAMES: 120000\n"
     ]
    },
    {
     "name": "stderr",
     "output_type": "stream",
     "text": [
      "Epoch:268 Training: 100%|██████████| 16/16 [00:00<00:00, 119.42it/s, lr: 0.0001000]\n",
      "Processed 2000 frames in 0.1 seconds (35978.7 FPS)\n",
      "Epoch 268 F1: 0.80 | Best F1: 80.48 at epoch 264, iter 1097728 | train_loss: 0.0000, lr: 0.0001000\n"
     ]
    },
    {
     "name": "stdout",
     "output_type": "stream",
     "text": [
      "(2000, 60) (2000, 60)\n",
      "NUM FRAMES: 120000\n"
     ]
    },
    {
     "name": "stderr",
     "output_type": "stream",
     "text": [
      "Epoch:269 Training: 100%|██████████| 16/16 [00:00<00:00, 121.70it/s, lr: 0.0001000]\n",
      "Processed 2000 frames in 0.1 seconds (39895.0 FPS)\n",
      "Epoch 269 F1: 0.80 | Best F1: 80.48 at epoch 264, iter 1101824 | train_loss: 0.0000, lr: 0.0001000\n"
     ]
    },
    {
     "name": "stdout",
     "output_type": "stream",
     "text": [
      "(2000, 60) (2000, 60)\n",
      "NUM FRAMES: 120000\n"
     ]
    },
    {
     "name": "stderr",
     "output_type": "stream",
     "text": [
      "Epoch:270 Training: 100%|██████████| 16/16 [00:00<00:00, 126.37it/s, lr: 0.0001000]\n",
      "Processed 2000 frames in 0.1 seconds (35944.3 FPS)\n",
      "Epoch 270 F1: 0.80 | Best F1: 80.48 at epoch 264, iter 1105920 | train_loss: 0.0000, lr: 0.0001000\n"
     ]
    },
    {
     "name": "stdout",
     "output_type": "stream",
     "text": [
      "(2000, 60) (2000, 60)\n",
      "NUM FRAMES: 120000\n"
     ]
    },
    {
     "name": "stderr",
     "output_type": "stream",
     "text": [
      "Epoch:271 Training: 100%|██████████| 16/16 [00:00<00:00, 127.87it/s, lr: 0.0001000]\n",
      "Processed 2000 frames in 0.0 seconds (59541.4 FPS)\n",
      "Epoch 271 F1: 0.80 | Best F1: 80.48 at epoch 264, iter 1110016 | train_loss: 0.0000, lr: 0.0001000\n"
     ]
    },
    {
     "name": "stdout",
     "output_type": "stream",
     "text": [
      "(2000, 60) (2000, 60)\n",
      "NUM FRAMES: 120000\n"
     ]
    },
    {
     "name": "stderr",
     "output_type": "stream",
     "text": [
      "Epoch:272 Training: 100%|██████████| 16/16 [00:00<00:00, 122.18it/s, lr: 0.0001000]\n",
      "Processed 2000 frames in 0.0 seconds (50218.6 FPS)\n",
      "Epoch 272 F1: 0.79 | Best F1: 80.48 at epoch 264, iter 1114112 | train_loss: 0.0000, lr: 0.0001000\n"
     ]
    },
    {
     "name": "stdout",
     "output_type": "stream",
     "text": [
      "(2000, 60) (2000, 60)\n",
      "NUM FRAMES: 120000\n"
     ]
    },
    {
     "name": "stderr",
     "output_type": "stream",
     "text": [
      "Epoch:273 Training: 100%|██████████| 16/16 [00:00<00:00, 118.58it/s, lr: 0.0001000]\n",
      "Processed 2000 frames in 0.0 seconds (54433.0 FPS)\n",
      "Epoch 273 F1: 0.80 | Best F1: 80.48 at epoch 264, iter 1118208 | train_loss: 0.0000, lr: 0.0001000\n"
     ]
    },
    {
     "name": "stdout",
     "output_type": "stream",
     "text": [
      "(2000, 60) (2000, 60)\n",
      "NUM FRAMES: 120000\n"
     ]
    },
    {
     "name": "stderr",
     "output_type": "stream",
     "text": [
      "Epoch:274 Training: 100%|██████████| 16/16 [00:00<00:00, 116.17it/s, lr: 0.0001000]\n",
      "Processed 2000 frames in 0.1 seconds (33833.8 FPS)\n",
      "Epoch 274 F1: 0.80 | Best F1: 80.48 at epoch 264, iter 1122304 | train_loss: 0.0000, lr: 0.0001000\n"
     ]
    },
    {
     "name": "stdout",
     "output_type": "stream",
     "text": [
      "(2000, 60) (2000, 60)\n",
      "NUM FRAMES: 120000\n"
     ]
    },
    {
     "name": "stderr",
     "output_type": "stream",
     "text": [
      "Epoch:275 Training: 100%|██████████| 16/16 [00:00<00:00, 129.64it/s, lr: 0.0001000]\n",
      "Processed 2000 frames in 0.1 seconds (35990.1 FPS)\n",
      "Epoch 275 F1: 0.80 | Best F1: 80.49 at epoch 275, iter 1126400 | train_loss: 0.0000, lr: 0.0001000\n"
     ]
    },
    {
     "name": "stdout",
     "output_type": "stream",
     "text": [
      "(2000, 60) (2000, 60)\n",
      "NUM FRAMES: 120000\n"
     ]
    },
    {
     "name": "stderr",
     "output_type": "stream",
     "text": [
      "Epoch:276 Training: 100%|██████████| 16/16 [00:00<00:00, 124.84it/s, lr: 0.0001000]\n",
      "Processed 2000 frames in 0.0 seconds (53877.4 FPS)\n",
      "Epoch 276 F1: 0.80 | Best F1: 80.49 at epoch 275, iter 1130496 | train_loss: 0.0000, lr: 0.0001000\n"
     ]
    },
    {
     "name": "stdout",
     "output_type": "stream",
     "text": [
      "(2000, 60) (2000, 60)\n",
      "NUM FRAMES: 120000\n"
     ]
    },
    {
     "name": "stderr",
     "output_type": "stream",
     "text": [
      "Epoch:277 Training: 100%|██████████| 16/16 [00:00<00:00, 121.72it/s, lr: 0.0001000]\n",
      "Processed 2000 frames in 0.1 seconds (36843.9 FPS)\n",
      "Epoch 277 F1: 0.80 | Best F1: 80.49 at epoch 275, iter 1134592 | train_loss: 0.0000, lr: 0.0001000\n"
     ]
    },
    {
     "name": "stdout",
     "output_type": "stream",
     "text": [
      "(2000, 60) (2000, 60)\n",
      "NUM FRAMES: 120000\n"
     ]
    },
    {
     "name": "stderr",
     "output_type": "stream",
     "text": [
      "Epoch:278 Training: 100%|██████████| 16/16 [00:00<00:00, 132.77it/s, lr: 0.0001000]\n",
      "Processed 2000 frames in 0.0 seconds (53944.3 FPS)\n",
      "Epoch 278 F1: 0.81 | Best F1: 80.55 at epoch 278, iter 1138688 | train_loss: 0.0000, lr: 0.0001000\n"
     ]
    },
    {
     "name": "stdout",
     "output_type": "stream",
     "text": [
      "(2000, 60) (2000, 60)\n",
      "NUM FRAMES: 120000\n"
     ]
    },
    {
     "name": "stderr",
     "output_type": "stream",
     "text": [
      "Epoch:279 Training: 100%|██████████| 16/16 [00:00<00:00, 145.60it/s, lr: 0.0001000]\n",
      "                                                  \r"
     ]
    },
    {
     "name": "stdout",
     "output_type": "stream",
     "text": [
      "(2000, 60) (2000, 60)\n",
      "NUM FRAMES: 120000\n"
     ]
    },
    {
     "name": "stderr",
     "output_type": "stream",
     "text": [
      "Processed 2000 frames in 0.0 seconds (61161.1 FPS)\n",
      "Epoch 279 F1: 0.80 | Best F1: 80.55 at epoch 278, iter 1142784 | train_loss: 0.0000, lr: 0.0001000\n",
      "Epoch:280 Training: 100%|██████████| 16/16 [00:00<00:00, 121.84it/s, lr: 0.0001000]\n",
      "Processed 2000 frames in 0.0 seconds (60447.5 FPS)\n",
      "Epoch 280 F1: 0.80 | Best F1: 80.55 at epoch 278, iter 1146880 | train_loss: 0.0000, lr: 0.0001000\n"
     ]
    },
    {
     "name": "stdout",
     "output_type": "stream",
     "text": [
      "(2000, 60) (2000, 60)\n",
      "NUM FRAMES: 120000\n"
     ]
    },
    {
     "name": "stderr",
     "output_type": "stream",
     "text": [
      "Epoch:281 Training: 100%|██████████| 16/16 [00:00<00:00, 120.85it/s, lr: 0.0001000]\n",
      "Processed 2000 frames in 0.1 seconds (33250.7 FPS)\n",
      "Epoch 281 F1: 0.80 | Best F1: 80.55 at epoch 278, iter 1150976 | train_loss: 0.0000, lr: 0.0001000\n"
     ]
    },
    {
     "name": "stdout",
     "output_type": "stream",
     "text": [
      "(2000, 60) (2000, 60)\n",
      "NUM FRAMES: 120000\n"
     ]
    },
    {
     "name": "stderr",
     "output_type": "stream",
     "text": [
      "Epoch:282 Training: 100%|██████████| 16/16 [00:00<00:00, 110.28it/s, lr: 0.0001000]\n",
      "Processed 2000 frames in 0.1 seconds (34149.6 FPS)\n",
      "Epoch 282 F1: 0.81 | Best F1: 81.16 at epoch 282, iter 1155072 | train_loss: 0.0000, lr: 0.0001000\n"
     ]
    },
    {
     "name": "stdout",
     "output_type": "stream",
     "text": [
      "(2000, 60) (2000, 60)\n",
      "NUM FRAMES: 120000\n"
     ]
    },
    {
     "name": "stderr",
     "output_type": "stream",
     "text": [
      "Epoch:283 Training: 100%|██████████| 16/16 [00:00<00:00, 114.75it/s, lr: 0.0001000]\n",
      "Processed 2000 frames in 0.0 seconds (50009.9 FPS)\n",
      "Epoch 283 F1: 0.81 | Best F1: 81.16 at epoch 282, iter 1159168 | train_loss: 0.0000, lr: 0.0001000\n"
     ]
    },
    {
     "name": "stdout",
     "output_type": "stream",
     "text": [
      "(2000, 60) (2000, 60)\n",
      "NUM FRAMES: 120000\n"
     ]
    },
    {
     "name": "stderr",
     "output_type": "stream",
     "text": [
      "Epoch:284 Training: 100%|██████████| 16/16 [00:00<00:00, 142.60it/s, lr: 0.0001000]\n",
      "Processed 2000 frames in 0.0 seconds (40098.3 FPS)\n",
      "Epoch 284 F1: 0.81 | Best F1: 81.18 at epoch 284, iter 1163264 | train_loss: 0.0000, lr: 0.0001000\n"
     ]
    },
    {
     "name": "stdout",
     "output_type": "stream",
     "text": [
      "(2000, 60) (2000, 60)\n",
      "NUM FRAMES: 120000\n"
     ]
    },
    {
     "name": "stderr",
     "output_type": "stream",
     "text": [
      "Epoch:285 Training: 100%|██████████| 16/16 [00:00<00:00, 109.44it/s, lr: 0.0001000]\n",
      "Processed 2000 frames in 0.1 seconds (36899.6 FPS)\n",
      "Epoch 285 F1: 0.81 | Best F1: 81.18 at epoch 284, iter 1167360 | train_loss: 0.0000, lr: 0.0001000\n"
     ]
    },
    {
     "name": "stdout",
     "output_type": "stream",
     "text": [
      "(2000, 60) (2000, 60)\n",
      "NUM FRAMES: 120000\n"
     ]
    },
    {
     "name": "stderr",
     "output_type": "stream",
     "text": [
      "Epoch:286 Training: 100%|██████████| 16/16 [00:00<00:00, 130.77it/s, lr: 0.0001000]\n",
      "Processed 2000 frames in 0.1 seconds (34505.5 FPS)\n",
      "Epoch 286 F1: 0.81 | Best F1: 81.18 at epoch 284, iter 1171456 | train_loss: 0.0000, lr: 0.0001000\n"
     ]
    },
    {
     "name": "stdout",
     "output_type": "stream",
     "text": [
      "(2000, 60) (2000, 60)\n",
      "NUM FRAMES: 120000\n"
     ]
    },
    {
     "name": "stderr",
     "output_type": "stream",
     "text": [
      "Epoch:287 Training: 100%|██████████| 16/16 [00:00<00:00, 109.38it/s, lr: 0.0001000]\n",
      "Processed 2000 frames in 0.1 seconds (36131.0 FPS)\n",
      "Epoch 287 F1: 0.81 | Best F1: 81.18 at epoch 284, iter 1175552 | train_loss: 0.0000, lr: 0.0001000\n"
     ]
    },
    {
     "name": "stdout",
     "output_type": "stream",
     "text": [
      "(2000, 60) (2000, 60)\n",
      "NUM FRAMES: 120000\n"
     ]
    },
    {
     "name": "stderr",
     "output_type": "stream",
     "text": [
      "Epoch:288 Training: 100%|██████████| 16/16 [00:00<00:00, 144.03it/s, lr: 0.0001000]\n",
      "Processed 2000 frames in 0.0 seconds (44897.3 FPS)\n",
      "Epoch 288 F1: 0.80 | Best F1: 81.18 at epoch 284, iter 1179648 | train_loss: 0.0000, lr: 0.0001000\n"
     ]
    },
    {
     "name": "stdout",
     "output_type": "stream",
     "text": [
      "(2000, 60) (2000, 60)\n",
      "NUM FRAMES: 120000\n"
     ]
    },
    {
     "name": "stderr",
     "output_type": "stream",
     "text": [
      "Epoch:289 Training: 100%|██████████| 16/16 [00:00<00:00, 118.58it/s, lr: 0.0001000]\n",
      "Processed 2000 frames in 0.1 seconds (33285.7 FPS)\n",
      "Epoch 289 F1: 0.79 | Best F1: 81.18 at epoch 284, iter 1183744 | train_loss: 0.0000, lr: 0.0001000\n"
     ]
    },
    {
     "name": "stdout",
     "output_type": "stream",
     "text": [
      "(2000, 60) (2000, 60)\n",
      "NUM FRAMES: 120000\n"
     ]
    },
    {
     "name": "stderr",
     "output_type": "stream",
     "text": [
      "Epoch:290 Training: 100%|██████████| 16/16 [00:00<00:00, 104.51it/s, lr: 0.0001000]\n",
      "Processed 2000 frames in 0.1 seconds (36334.5 FPS)\n",
      "Epoch 290 F1: 0.80 | Best F1: 81.18 at epoch 284, iter 1187840 | train_loss: 0.0000, lr: 0.0001000\n"
     ]
    },
    {
     "name": "stdout",
     "output_type": "stream",
     "text": [
      "(2000, 60) (2000, 60)\n",
      "NUM FRAMES: 120000\n"
     ]
    },
    {
     "name": "stderr",
     "output_type": "stream",
     "text": [
      "Epoch:291 Training: 100%|██████████| 16/16 [00:00<00:00, 112.43it/s, lr: 0.0001000]\n",
      "Processed 2000 frames in 0.1 seconds (34262.2 FPS)\n",
      "Epoch 291 F1: 0.81 | Best F1: 81.18 at epoch 284, iter 1191936 | train_loss: 0.0000, lr: 0.0001000\n"
     ]
    },
    {
     "name": "stdout",
     "output_type": "stream",
     "text": [
      "(2000, 60) (2000, 60)\n",
      "NUM FRAMES: 120000\n"
     ]
    },
    {
     "name": "stderr",
     "output_type": "stream",
     "text": [
      "Epoch:292 Training: 100%|██████████| 16/16 [00:00<00:00, 98.78it/s, lr: 0.0001000]\n",
      "Processed 2000 frames in 0.1 seconds (27415.5 FPS)\n",
      "Epoch 292 F1: 0.80 | Best F1: 81.18 at epoch 284, iter 1196032 | train_loss: 0.0000, lr: 0.0001000\n"
     ]
    },
    {
     "name": "stdout",
     "output_type": "stream",
     "text": [
      "(2000, 60) (2000, 60)\n",
      "NUM FRAMES: 120000\n"
     ]
    },
    {
     "name": "stderr",
     "output_type": "stream",
     "text": [
      "Epoch:293 Training: 100%|██████████| 16/16 [00:00<00:00, 119.48it/s, lr: 0.0001000]\n",
      "Processed 2000 frames in 0.1 seconds (36780.7 FPS)\n",
      "Epoch 293 F1: 0.81 | Best F1: 81.18 at epoch 284, iter 1200128 | train_loss: 0.0000, lr: 0.0001000\n"
     ]
    },
    {
     "name": "stdout",
     "output_type": "stream",
     "text": [
      "(2000, 60) (2000, 60)\n",
      "NUM FRAMES: 120000\n"
     ]
    },
    {
     "name": "stderr",
     "output_type": "stream",
     "text": [
      "Epoch:294 Training: 100%|██████████| 16/16 [00:00<00:00, 117.23it/s, lr: 0.0001000]\n",
      "Processed 2000 frames in 0.0 seconds (59304.0 FPS)\n",
      "Epoch 294 F1: 0.80 | Best F1: 81.18 at epoch 284, iter 1204224 | train_loss: 0.0000, lr: 0.0001000\n"
     ]
    },
    {
     "name": "stdout",
     "output_type": "stream",
     "text": [
      "(2000, 60) (2000, 60)\n",
      "NUM FRAMES: 120000\n"
     ]
    },
    {
     "name": "stderr",
     "output_type": "stream",
     "text": [
      "Epoch:295 Training: 100%|██████████| 16/16 [00:00<00:00, 110.03it/s, lr: 0.0001000]\n",
      "Processed 2000 frames in 0.1 seconds (37047.9 FPS)\n",
      "Epoch 295 F1: 0.82 | Best F1: 81.79 at epoch 295, iter 1208320 | train_loss: 0.0000, lr: 0.0001000\n"
     ]
    },
    {
     "name": "stdout",
     "output_type": "stream",
     "text": [
      "(2000, 60) (2000, 60)\n",
      "NUM FRAMES: 120000\n"
     ]
    },
    {
     "name": "stderr",
     "output_type": "stream",
     "text": [
      "Epoch:296 Training: 100%|██████████| 16/16 [00:00<00:00, 122.84it/s, lr: 0.0001000]\n",
      "Processed 2000 frames in 0.1 seconds (33931.3 FPS)\n",
      "Epoch 296 F1: 0.81 | Best F1: 81.79 at epoch 295, iter 1212416 | train_loss: 0.0000, lr: 0.0001000\n"
     ]
    },
    {
     "name": "stdout",
     "output_type": "stream",
     "text": [
      "(2000, 60) (2000, 60)\n",
      "NUM FRAMES: 120000\n"
     ]
    },
    {
     "name": "stderr",
     "output_type": "stream",
     "text": [
      "Epoch:297 Training: 100%|██████████| 16/16 [00:00<00:00, 121.64it/s, lr: 0.0001000]\n",
      "Processed 2000 frames in 0.1 seconds (36062.2 FPS)\n",
      "Epoch 297 F1: 0.81 | Best F1: 81.79 at epoch 295, iter 1216512 | train_loss: 0.0000, lr: 0.0001000\n"
     ]
    },
    {
     "name": "stdout",
     "output_type": "stream",
     "text": [
      "(2000, 60) (2000, 60)\n",
      "NUM FRAMES: 120000\n"
     ]
    },
    {
     "name": "stderr",
     "output_type": "stream",
     "text": [
      "Epoch:298 Training: 100%|██████████| 16/16 [00:00<00:00, 122.66it/s, lr: 0.0001000]\n",
      "Processed 2000 frames in 0.1 seconds (37577.0 FPS)\n",
      "Epoch 298 F1: 0.82 | Best F1: 81.79 at epoch 295, iter 1220608 | train_loss: 0.0000, lr: 0.0001000\n"
     ]
    },
    {
     "name": "stdout",
     "output_type": "stream",
     "text": [
      "(2000, 60) (2000, 60)\n",
      "NUM FRAMES: 120000\n"
     ]
    },
    {
     "name": "stderr",
     "output_type": "stream",
     "text": [
      "Epoch:299 Training: 100%|██████████| 16/16 [00:00<00:00, 127.08it/s, lr: 0.0001000]\n",
      "Processed 2000 frames in 0.0 seconds (54828.6 FPS)\n",
      "Epoch 299 F1: 0.79 | Best F1: 81.79 at epoch 295, iter 1224704 | train_loss: 0.0000, lr: 0.0001000\n"
     ]
    },
    {
     "name": "stdout",
     "output_type": "stream",
     "text": [
      "(2000, 60) (2000, 60)\n",
      "NUM FRAMES: 120000\n"
     ]
    },
    {
     "name": "stderr",
     "output_type": "stream",
     "text": [
      "Epoch:300 Training: 100%|██████████| 16/16 [00:00<00:00, 144.02it/s, lr: 0.0001000]\n",
      "Processed 2000 frames in 0.0 seconds (41165.6 FPS)\n",
      "Epoch 300 F1: 0.81 | Best F1: 81.79 at epoch 295, iter 1228800 | train_loss: 0.0000, lr: 0.0001000\n"
     ]
    },
    {
     "name": "stdout",
     "output_type": "stream",
     "text": [
      "(2000, 60) (2000, 60)\n",
      "NUM FRAMES: 120000\n"
     ]
    },
    {
     "name": "stderr",
     "output_type": "stream",
     "text": [
      "Epoch:301 Training: 100%|██████████| 16/16 [00:00<00:00, 122.37it/s, lr: 0.0001000]\n",
      "Processed 2000 frames in 0.1 seconds (38252.6 FPS)\n",
      "Epoch 301 F1: 0.81 | Best F1: 81.79 at epoch 295, iter 1232896 | train_loss: 0.0000, lr: 0.0001000\n"
     ]
    },
    {
     "name": "stdout",
     "output_type": "stream",
     "text": [
      "(2000, 60) (2000, 60)\n",
      "NUM FRAMES: 120000\n"
     ]
    },
    {
     "name": "stderr",
     "output_type": "stream",
     "text": [
      "Epoch:302 Training: 100%|██████████| 16/16 [00:00<00:00, 119.56it/s, lr: 0.0001000]\n",
      "Processed 2000 frames in 0.1 seconds (34432.6 FPS)\n",
      "Epoch 302 F1: 0.76 | Best F1: 81.79 at epoch 295, iter 1236992 | train_loss: 0.0001, lr: 0.0001000\n"
     ]
    },
    {
     "name": "stdout",
     "output_type": "stream",
     "text": [
      "(2000, 60) (2000, 60)\n",
      "NUM FRAMES: 120000\n"
     ]
    },
    {
     "name": "stderr",
     "output_type": "stream",
     "text": [
      "Epoch:303 Training: 100%|██████████| 16/16 [00:00<00:00, 143.01it/s, lr: 0.0001000]\n",
      "Processed 2000 frames in 0.0 seconds (56364.1 FPS)\n",
      "Epoch 303 F1: 0.74 | Best F1: 81.79 at epoch 295, iter 1241088 | train_loss: 0.0002, lr: 0.0001000\n"
     ]
    },
    {
     "name": "stdout",
     "output_type": "stream",
     "text": [
      "(2000, 60) (2000, 60)\n",
      "NUM FRAMES: 120000\n"
     ]
    },
    {
     "name": "stderr",
     "output_type": "stream",
     "text": [
      "Epoch:304 Training: 100%|██████████| 16/16 [00:00<00:00, 120.78it/s, lr: 0.0001000]\n",
      "Processed 2000 frames in 0.0 seconds (56642.7 FPS)\n",
      "Epoch 304 F1: 0.77 | Best F1: 81.79 at epoch 295, iter 1245184 | train_loss: 0.0001, lr: 0.0001000\n"
     ]
    },
    {
     "name": "stdout",
     "output_type": "stream",
     "text": [
      "(2000, 60) (2000, 60)\n",
      "NUM FRAMES: 120000\n"
     ]
    },
    {
     "name": "stderr",
     "output_type": "stream",
     "text": [
      "Epoch:305 Training: 100%|██████████| 16/16 [00:00<00:00, 130.03it/s, lr: 0.0001000]\n",
      "Processed 2000 frames in 0.1 seconds (33327.8 FPS)\n",
      "Epoch 305 F1: 0.79 | Best F1: 81.79 at epoch 295, iter 1249280 | train_loss: 0.0000, lr: 0.0001000\n"
     ]
    },
    {
     "name": "stdout",
     "output_type": "stream",
     "text": [
      "(2000, 60) (2000, 60)\n",
      "NUM FRAMES: 120000\n"
     ]
    },
    {
     "name": "stderr",
     "output_type": "stream",
     "text": [
      "Epoch:306 Training: 100%|██████████| 16/16 [00:00<00:00, 99.59it/s, lr: 0.0001000] \n",
      "Processed 2000 frames in 0.1 seconds (34745.1 FPS)\n",
      "Epoch 306 F1: 0.80 | Best F1: 81.79 at epoch 295, iter 1253376 | train_loss: 0.0000, lr: 0.0001000\n"
     ]
    },
    {
     "name": "stdout",
     "output_type": "stream",
     "text": [
      "(2000, 60) (2000, 60)\n",
      "NUM FRAMES: 120000\n"
     ]
    },
    {
     "name": "stderr",
     "output_type": "stream",
     "text": [
      "Epoch:307 Training: 100%|██████████| 16/16 [00:00<00:00, 119.30it/s, lr: 0.0001000]\n",
      "Processed 2000 frames in 0.1 seconds (35002.3 FPS)\n",
      "Epoch 307 F1: 0.80 | Best F1: 81.79 at epoch 295, iter 1257472 | train_loss: 0.0000, lr: 0.0001000\n"
     ]
    },
    {
     "name": "stdout",
     "output_type": "stream",
     "text": [
      "(2000, 60) (2000, 60)\n",
      "NUM FRAMES: 120000\n"
     ]
    },
    {
     "name": "stderr",
     "output_type": "stream",
     "text": [
      "Epoch:308 Training: 100%|██████████| 16/16 [00:00<00:00, 111.11it/s, lr: 0.0001000]\n",
      "Processed 2000 frames in 0.0 seconds (47984.3 FPS)\n",
      "Epoch 308 F1: 0.77 | Best F1: 81.79 at epoch 295, iter 1261568 | train_loss: 0.0000, lr: 0.0001000\n"
     ]
    },
    {
     "name": "stdout",
     "output_type": "stream",
     "text": [
      "(2000, 60) (2000, 60)\n",
      "NUM FRAMES: 120000\n"
     ]
    },
    {
     "name": "stderr",
     "output_type": "stream",
     "text": [
      "Epoch:309 Training: 100%|██████████| 16/16 [00:00<00:00, 112.10it/s, lr: 0.0001000]\n",
      "Processed 2000 frames in 0.1 seconds (33265.9 FPS)\n",
      "Epoch 309 F1: 0.79 | Best F1: 81.79 at epoch 295, iter 1265664 | train_loss: 0.0000, lr: 0.0001000\n"
     ]
    },
    {
     "name": "stdout",
     "output_type": "stream",
     "text": [
      "(2000, 60) (2000, 60)\n",
      "NUM FRAMES: 120000\n"
     ]
    },
    {
     "name": "stderr",
     "output_type": "stream",
     "text": [
      "Epoch:310 Training: 100%|██████████| 16/16 [00:00<00:00, 103.48it/s, lr: 0.0001000]\n",
      "Processed 2000 frames in 0.0 seconds (41206.3 FPS)\n",
      "Epoch 310 F1: 0.81 | Best F1: 81.79 at epoch 295, iter 1269760 | train_loss: 0.0000, lr: 0.0001000\n"
     ]
    },
    {
     "name": "stdout",
     "output_type": "stream",
     "text": [
      "(2000, 60) (2000, 60)\n",
      "NUM FRAMES: 120000\n"
     ]
    },
    {
     "name": "stderr",
     "output_type": "stream",
     "text": [
      "Epoch:311 Training: 100%|██████████| 16/16 [00:00<00:00, 133.83it/s, lr: 0.0001000]\n",
      "Processed 2000 frames in 0.0 seconds (60263.9 FPS)\n",
      "Epoch 311 F1: 0.81 | Best F1: 81.79 at epoch 295, iter 1273856 | train_loss: 0.0000, lr: 0.0001000\n"
     ]
    },
    {
     "name": "stdout",
     "output_type": "stream",
     "text": [
      "(2000, 60) (2000, 60)\n",
      "NUM FRAMES: 120000\n"
     ]
    },
    {
     "name": "stderr",
     "output_type": "stream",
     "text": [
      "Epoch:312 Training: 100%|██████████| 16/16 [00:00<00:00, 119.24it/s, lr: 0.0001000]\n",
      "Processed 2000 frames in 0.0 seconds (50086.9 FPS)\n",
      "Epoch 312 F1: 0.81 | Best F1: 81.79 at epoch 295, iter 1277952 | train_loss: 0.0000, lr: 0.0001000\n"
     ]
    },
    {
     "name": "stdout",
     "output_type": "stream",
     "text": [
      "(2000, 60) (2000, 60)\n",
      "NUM FRAMES: 120000\n"
     ]
    },
    {
     "name": "stderr",
     "output_type": "stream",
     "text": [
      "Epoch:313 Training: 100%|██████████| 16/16 [00:00<00:00, 134.56it/s, lr: 0.0001000]\n",
      "Processed 2000 frames in 0.0 seconds (61725.0 FPS)\n",
      "Epoch 313 F1: 0.81 | Best F1: 81.79 at epoch 295, iter 1282048 | train_loss: 0.0000, lr: 0.0001000\n"
     ]
    },
    {
     "name": "stdout",
     "output_type": "stream",
     "text": [
      "(2000, 60) (2000, 60)\n",
      "NUM FRAMES: 120000\n"
     ]
    },
    {
     "name": "stderr",
     "output_type": "stream",
     "text": [
      "Epoch:314 Training: 100%|██████████| 16/16 [00:00<00:00, 110.01it/s, lr: 0.0001000]\n",
      "Processed 2000 frames in 0.0 seconds (42374.0 FPS)\n",
      "Epoch 314 F1: 0.81 | Best F1: 81.79 at epoch 295, iter 1286144 | train_loss: 0.0000, lr: 0.0001000\n"
     ]
    },
    {
     "name": "stdout",
     "output_type": "stream",
     "text": [
      "(2000, 60) (2000, 60)\n",
      "NUM FRAMES: 120000\n"
     ]
    },
    {
     "name": "stderr",
     "output_type": "stream",
     "text": [
      "Epoch:315 Training: 100%|██████████| 16/16 [00:00<00:00, 113.43it/s, lr: 0.0001000]\n",
      "Processed 2000 frames in 0.0 seconds (40855.9 FPS)\n",
      "Epoch 315 F1: 0.82 | Best F1: 81.91 at epoch 315, iter 1290240 | train_loss: 0.0000, lr: 0.0001000\n"
     ]
    },
    {
     "name": "stdout",
     "output_type": "stream",
     "text": [
      "(2000, 60) (2000, 60)\n",
      "NUM FRAMES: 120000\n"
     ]
    },
    {
     "name": "stderr",
     "output_type": "stream",
     "text": [
      "Epoch:316 Training: 100%|██████████| 16/16 [00:00<00:00, 121.20it/s, lr: 0.0001000]\n",
      "Processed 2000 frames in 0.1 seconds (33944.0 FPS)\n",
      "Epoch 316 F1: 0.82 | Best F1: 81.94 at epoch 316, iter 1294336 | train_loss: 0.0000, lr: 0.0001000\n"
     ]
    },
    {
     "name": "stdout",
     "output_type": "stream",
     "text": [
      "(2000, 60) (2000, 60)\n",
      "NUM FRAMES: 120000\n"
     ]
    },
    {
     "name": "stderr",
     "output_type": "stream",
     "text": [
      "Epoch:317 Training: 100%|██████████| 16/16 [00:00<00:00, 129.16it/s, lr: 0.0001000]\n",
      "Processed 2000 frames in 0.0 seconds (60633.2 FPS)\n",
      "Epoch 317 F1: 0.82 | Best F1: 82.44 at epoch 317, iter 1298432 | train_loss: 0.0000, lr: 0.0001000\n"
     ]
    },
    {
     "name": "stdout",
     "output_type": "stream",
     "text": [
      "(2000, 60) (2000, 60)\n",
      "NUM FRAMES: 120000\n"
     ]
    },
    {
     "name": "stderr",
     "output_type": "stream",
     "text": [
      "Epoch:318 Training: 100%|██████████| 16/16 [00:00<00:00, 109.51it/s, lr: 0.0001000]\n",
      "Processed 2000 frames in 0.1 seconds (37203.3 FPS)\n",
      "Epoch 318 F1: 0.82 | Best F1: 82.44 at epoch 317, iter 1302528 | train_loss: 0.0000, lr: 0.0001000\n"
     ]
    },
    {
     "name": "stdout",
     "output_type": "stream",
     "text": [
      "(2000, 60) (2000, 60)\n",
      "NUM FRAMES: 120000\n"
     ]
    },
    {
     "name": "stderr",
     "output_type": "stream",
     "text": [
      "Epoch:319 Training: 100%|██████████| 16/16 [00:00<00:00, 122.35it/s, lr: 0.0001000]\n",
      "Processed 2000 frames in 0.1 seconds (36095.1 FPS)\n",
      "Epoch 319 F1: 0.82 | Best F1: 82.44 at epoch 317, iter 1306624 | train_loss: 0.0000, lr: 0.0001000\n"
     ]
    },
    {
     "name": "stdout",
     "output_type": "stream",
     "text": [
      "(2000, 60) (2000, 60)\n",
      "NUM FRAMES: 120000\n"
     ]
    },
    {
     "name": "stderr",
     "output_type": "stream",
     "text": [
      "Epoch:320 Training: 100%|██████████| 16/16 [00:00<00:00, 98.20it/s, lr: 0.0001000]\n",
      "Processed 2000 frames in 0.1 seconds (36573.5 FPS)\n",
      "Epoch 320 F1: 0.83 | Best F1: 82.52 at epoch 320, iter 1310720 | train_loss: 0.0000, lr: 0.0001000\n"
     ]
    },
    {
     "name": "stdout",
     "output_type": "stream",
     "text": [
      "(2000, 60) (2000, 60)\n",
      "NUM FRAMES: 120000\n"
     ]
    },
    {
     "name": "stderr",
     "output_type": "stream",
     "text": [
      "Epoch:321 Training: 100%|██████████| 16/16 [00:00<00:00, 105.21it/s, lr: 0.0001000]\n",
      "Processed 2000 frames in 0.1 seconds (33491.5 FPS)\n",
      "Epoch 321 F1: 0.82 | Best F1: 82.52 at epoch 320, iter 1314816 | train_loss: 0.0000, lr: 0.0001000\n"
     ]
    },
    {
     "name": "stdout",
     "output_type": "stream",
     "text": [
      "(2000, 60) (2000, 60)\n",
      "NUM FRAMES: 120000\n"
     ]
    },
    {
     "name": "stderr",
     "output_type": "stream",
     "text": [
      "Epoch:322 Training: 100%|██████████| 16/16 [00:00<00:00, 112.36it/s, lr: 0.0001000]\n",
      "Processed 2000 frames in 0.0 seconds (44110.9 FPS)\n",
      "Epoch 322 F1: 0.83 | Best F1: 82.82 at epoch 322, iter 1318912 | train_loss: 0.0000, lr: 0.0001000\n"
     ]
    },
    {
     "name": "stdout",
     "output_type": "stream",
     "text": [
      "(2000, 60) (2000, 60)\n",
      "NUM FRAMES: 120000\n"
     ]
    },
    {
     "name": "stderr",
     "output_type": "stream",
     "text": [
      "Epoch:323 Training: 100%|██████████| 16/16 [00:00<00:00, 115.54it/s, lr: 0.0001000]\n",
      "Processed 2000 frames in 0.1 seconds (34271.1 FPS)\n",
      "Epoch 323 F1: 0.83 | Best F1: 82.82 at epoch 322, iter 1323008 | train_loss: 0.0000, lr: 0.0001000\n"
     ]
    },
    {
     "name": "stdout",
     "output_type": "stream",
     "text": [
      "(2000, 60) (2000, 60)\n",
      "NUM FRAMES: 120000\n"
     ]
    },
    {
     "name": "stderr",
     "output_type": "stream",
     "text": [
      "Epoch:324 Training: 100%|██████████| 16/16 [00:00<00:00, 135.62it/s, lr: 0.0001000]\n",
      "Processed 2000 frames in 0.0 seconds (51762.4 FPS)\n",
      "Epoch 324 F1: 0.83 | Best F1: 82.82 at epoch 322, iter 1327104 | train_loss: 0.0000, lr: 0.0001000\n"
     ]
    },
    {
     "name": "stdout",
     "output_type": "stream",
     "text": [
      "(2000, 60) (2000, 60)\n",
      "NUM FRAMES: 120000\n"
     ]
    },
    {
     "name": "stderr",
     "output_type": "stream",
     "text": [
      "Epoch:325 Training: 100%|██████████| 16/16 [00:00<00:00, 101.71it/s, lr: 0.0001000]\n",
      "Processed 2000 frames in 0.1 seconds (35412.2 FPS)\n",
      "Epoch 325 F1: 0.82 | Best F1: 82.82 at epoch 322, iter 1331200 | train_loss: 0.0000, lr: 0.0001000\n"
     ]
    },
    {
     "name": "stdout",
     "output_type": "stream",
     "text": [
      "(2000, 60) (2000, 60)\n",
      "NUM FRAMES: 120000\n"
     ]
    },
    {
     "name": "stderr",
     "output_type": "stream",
     "text": [
      "Epoch:326 Training: 100%|██████████| 16/16 [00:00<00:00, 131.38it/s, lr: 0.0001000]\n",
      "Processed 2000 frames in 0.0 seconds (58800.6 FPS)\n",
      "Epoch 326 F1: 0.82 | Best F1: 82.82 at epoch 322, iter 1335296 | train_loss: 0.0000, lr: 0.0001000\n"
     ]
    },
    {
     "name": "stdout",
     "output_type": "stream",
     "text": [
      "(2000, 60) (2000, 60)\n",
      "NUM FRAMES: 120000\n"
     ]
    },
    {
     "name": "stderr",
     "output_type": "stream",
     "text": [
      "Epoch:327 Training: 100%|██████████| 16/16 [00:00<00:00, 140.87it/s, lr: 0.0001000]\n",
      "                                                  \r"
     ]
    },
    {
     "name": "stdout",
     "output_type": "stream",
     "text": [
      "(2000, 60) (2000, 60)\n",
      "NUM FRAMES: 120000\n"
     ]
    },
    {
     "name": "stderr",
     "output_type": "stream",
     "text": [
      "Processed 2000 frames in 0.0 seconds (56239.7 FPS)\n",
      "Epoch 327 F1: 0.82 | Best F1: 82.82 at epoch 322, iter 1339392 | train_loss: 0.0000, lr: 0.0001000\n",
      "Epoch:328 Training: 100%|██████████| 16/16 [00:00<00:00, 120.73it/s, lr: 0.0001000]\n",
      "Processed 2000 frames in 0.1 seconds (36410.5 FPS)\n",
      "Epoch 328 F1: 0.81 | Best F1: 82.82 at epoch 322, iter 1343488 | train_loss: 0.0000, lr: 0.0001000\n"
     ]
    },
    {
     "name": "stdout",
     "output_type": "stream",
     "text": [
      "(2000, 60) (2000, 60)\n",
      "NUM FRAMES: 120000\n"
     ]
    },
    {
     "name": "stderr",
     "output_type": "stream",
     "text": [
      "Epoch:329 Training: 100%|██████████| 16/16 [00:00<00:00, 128.24it/s, lr: 0.0001000]\n",
      "Processed 2000 frames in 0.1 seconds (36710.2 FPS)\n",
      "Epoch 329 F1: 0.81 | Best F1: 82.82 at epoch 322, iter 1347584 | train_loss: 0.0000, lr: 0.0001000\n"
     ]
    },
    {
     "name": "stdout",
     "output_type": "stream",
     "text": [
      "(2000, 60) (2000, 60)\n",
      "NUM FRAMES: 120000\n"
     ]
    },
    {
     "name": "stderr",
     "output_type": "stream",
     "text": [
      "Epoch:330 Training: 100%|██████████| 16/16 [00:00<00:00, 152.87it/s, lr: 0.0001000]\n",
      "                                                  \r"
     ]
    },
    {
     "name": "stdout",
     "output_type": "stream",
     "text": [
      "(2000, 60) (2000, 60)\n",
      "NUM FRAMES: 120000\n"
     ]
    },
    {
     "name": "stderr",
     "output_type": "stream",
     "text": [
      "Processed 2000 frames in 0.0 seconds (53866.7 FPS)\n",
      "Epoch 330 F1: 0.82 | Best F1: 82.82 at epoch 322, iter 1351680 | train_loss: 0.0000, lr: 0.0001000\n",
      "Epoch:331 Training: 100%|██████████| 16/16 [00:00<00:00, 113.34it/s, lr: 0.0001000]\n",
      "Processed 2000 frames in 0.1 seconds (32807.5 FPS)\n",
      "Epoch 331 F1: 0.82 | Best F1: 82.82 at epoch 322, iter 1355776 | train_loss: 0.0000, lr: 0.0001000\n"
     ]
    },
    {
     "name": "stdout",
     "output_type": "stream",
     "text": [
      "(2000, 60) (2000, 60)\n",
      "NUM FRAMES: 120000\n"
     ]
    },
    {
     "name": "stderr",
     "output_type": "stream",
     "text": [
      "Epoch:332 Training: 100%|██████████| 16/16 [00:00<00:00, 108.91it/s, lr: 0.0001000]\n",
      "Processed 2000 frames in 0.1 seconds (34738.9 FPS)\n",
      "Epoch 332 F1: 0.83 | Best F1: 82.87 at epoch 332, iter 1359872 | train_loss: 0.0000, lr: 0.0001000\n"
     ]
    },
    {
     "name": "stdout",
     "output_type": "stream",
     "text": [
      "(2000, 60) (2000, 60)\n",
      "NUM FRAMES: 120000\n"
     ]
    },
    {
     "name": "stderr",
     "output_type": "stream",
     "text": [
      "Epoch:333 Training: 100%|██████████| 16/16 [00:00<00:00, 111.35it/s, lr: 0.0001000]\n",
      "Processed 2000 frames in 0.1 seconds (36426.1 FPS)\n",
      "Epoch 333 F1: 0.82 | Best F1: 82.87 at epoch 332, iter 1363968 | train_loss: 0.0000, lr: 0.0001000\n"
     ]
    },
    {
     "name": "stdout",
     "output_type": "stream",
     "text": [
      "(2000, 60) (2000, 60)\n",
      "NUM FRAMES: 120000\n"
     ]
    },
    {
     "name": "stderr",
     "output_type": "stream",
     "text": [
      "Epoch:334 Training: 100%|██████████| 16/16 [00:00<00:00, 112.60it/s, lr: 0.0001000]\n",
      "Processed 2000 frames in 0.1 seconds (35975.1 FPS)\n",
      "Epoch 334 F1: 0.82 | Best F1: 82.87 at epoch 332, iter 1368064 | train_loss: 0.0000, lr: 0.0001000\n"
     ]
    },
    {
     "name": "stdout",
     "output_type": "stream",
     "text": [
      "(2000, 60) (2000, 60)\n",
      "NUM FRAMES: 120000\n"
     ]
    },
    {
     "name": "stderr",
     "output_type": "stream",
     "text": [
      "Epoch:335 Training: 100%|██████████| 16/16 [00:00<00:00, 120.06it/s, lr: 0.0001000]\n",
      "Processed 2000 frames in 0.1 seconds (39397.4 FPS)\n",
      "Epoch 335 F1: 0.82 | Best F1: 82.87 at epoch 332, iter 1372160 | train_loss: 0.0000, lr: 0.0001000\n"
     ]
    },
    {
     "name": "stdout",
     "output_type": "stream",
     "text": [
      "(2000, 60) (2000, 60)\n",
      "NUM FRAMES: 120000\n"
     ]
    },
    {
     "name": "stderr",
     "output_type": "stream",
     "text": [
      "Epoch:336 Training: 100%|██████████| 16/16 [00:00<00:00, 110.62it/s, lr: 0.0001000]\n",
      "Processed 2000 frames in 0.1 seconds (34309.8 FPS)\n",
      "Epoch 336 F1: 0.82 | Best F1: 82.87 at epoch 332, iter 1376256 | train_loss: 0.0000, lr: 0.0001000\n"
     ]
    },
    {
     "name": "stdout",
     "output_type": "stream",
     "text": [
      "(2000, 60) (2000, 60)\n",
      "NUM FRAMES: 120000\n"
     ]
    },
    {
     "name": "stderr",
     "output_type": "stream",
     "text": [
      "Epoch:337 Training: 100%|██████████| 16/16 [00:00<00:00, 108.93it/s, lr: 0.0001000]\n",
      "Processed 2000 frames in 0.1 seconds (33097.9 FPS)\n",
      "Epoch 337 F1: 0.83 | Best F1: 82.87 at epoch 332, iter 1380352 | train_loss: 0.0000, lr: 0.0001000\n"
     ]
    },
    {
     "name": "stdout",
     "output_type": "stream",
     "text": [
      "(2000, 60) (2000, 60)\n",
      "NUM FRAMES: 120000\n"
     ]
    },
    {
     "name": "stderr",
     "output_type": "stream",
     "text": [
      "Epoch:338 Training: 100%|██████████| 16/16 [00:00<00:00, 127.35it/s, lr: 0.0001000]\n",
      "Processed 2000 frames in 0.1 seconds (36042.7 FPS)\n",
      "Epoch 338 F1: 0.83 | Best F1: 82.87 at epoch 332, iter 1384448 | train_loss: 0.0000, lr: 0.0001000\n"
     ]
    },
    {
     "name": "stdout",
     "output_type": "stream",
     "text": [
      "(2000, 60) (2000, 60)\n",
      "NUM FRAMES: 120000\n"
     ]
    },
    {
     "name": "stderr",
     "output_type": "stream",
     "text": [
      "Epoch:339 Training: 100%|██████████| 16/16 [00:00<00:00, 137.80it/s, lr: 0.0001000]\n",
      "Processed 2000 frames in 0.1 seconds (34463.7 FPS)\n",
      "Epoch 339 F1: 0.83 | Best F1: 82.87 at epoch 332, iter 1388544 | train_loss: 0.0000, lr: 0.0001000\n"
     ]
    },
    {
     "name": "stdout",
     "output_type": "stream",
     "text": [
      "(2000, 60) (2000, 60)\n",
      "NUM FRAMES: 120000\n"
     ]
    },
    {
     "name": "stderr",
     "output_type": "stream",
     "text": [
      "Epoch:340 Training: 100%|██████████| 16/16 [00:00<00:00, 112.88it/s, lr: 0.0001000]\n",
      "Processed 2000 frames in 0.0 seconds (52793.4 FPS)\n",
      "Epoch 340 F1: 0.82 | Best F1: 82.87 at epoch 332, iter 1392640 | train_loss: 0.0000, lr: 0.0001000\n"
     ]
    },
    {
     "name": "stdout",
     "output_type": "stream",
     "text": [
      "(2000, 60) (2000, 60)\n",
      "NUM FRAMES: 120000\n"
     ]
    },
    {
     "name": "stderr",
     "output_type": "stream",
     "text": [
      "Epoch:341 Training: 100%|██████████| 16/16 [00:00<00:00, 115.99it/s, lr: 0.0001000]\n",
      "Processed 2000 frames in 0.0 seconds (41212.1 FPS)\n",
      "Epoch 341 F1: 0.83 | Best F1: 82.87 at epoch 332, iter 1396736 | train_loss: 0.0000, lr: 0.0001000\n"
     ]
    },
    {
     "name": "stdout",
     "output_type": "stream",
     "text": [
      "(2000, 60) (2000, 60)\n",
      "NUM FRAMES: 120000\n"
     ]
    },
    {
     "name": "stderr",
     "output_type": "stream",
     "text": [
      "Epoch:342 Training: 100%|██████████| 16/16 [00:00<00:00, 118.07it/s, lr: 0.0001000]\n",
      "Processed 2000 frames in 0.1 seconds (35510.2 FPS)\n",
      "Epoch 342 F1: 0.83 | Best F1: 82.87 at epoch 332, iter 1400832 | train_loss: 0.0000, lr: 0.0001000\n"
     ]
    },
    {
     "name": "stdout",
     "output_type": "stream",
     "text": [
      "(2000, 60) (2000, 60)\n",
      "NUM FRAMES: 120000\n"
     ]
    },
    {
     "name": "stderr",
     "output_type": "stream",
     "text": [
      "Epoch:343 Training: 100%|██████████| 16/16 [00:00<00:00, 141.33it/s, lr: 0.0001000]\n",
      "Processed 2000 frames in 0.0 seconds (52032.4 FPS)\n",
      "Epoch 343 F1: 0.82 | Best F1: 82.87 at epoch 332, iter 1404928 | train_loss: 0.0000, lr: 0.0001000\n"
     ]
    },
    {
     "name": "stdout",
     "output_type": "stream",
     "text": [
      "(2000, 60) (2000, 60)\n",
      "NUM FRAMES: 120000\n"
     ]
    },
    {
     "name": "stderr",
     "output_type": "stream",
     "text": [
      "Epoch:344 Training: 100%|██████████| 16/16 [00:00<00:00, 125.41it/s, lr: 0.0001000]\n",
      "Processed 2000 frames in 0.0 seconds (55118.2 FPS)\n",
      "Epoch 344 F1: 0.83 | Best F1: 82.87 at epoch 332, iter 1409024 | train_loss: 0.0000, lr: 0.0001000\n"
     ]
    },
    {
     "name": "stdout",
     "output_type": "stream",
     "text": [
      "(2000, 60) (2000, 60)\n",
      "NUM FRAMES: 120000\n"
     ]
    },
    {
     "name": "stderr",
     "output_type": "stream",
     "text": [
      "Epoch:345 Training: 100%|██████████| 16/16 [00:00<00:00, 120.83it/s, lr: 0.0001000]\n",
      "Processed 2000 frames in 0.0 seconds (52006.6 FPS)\n",
      "Epoch 345 F1: 0.83 | Best F1: 83.01 at epoch 345, iter 1413120 | train_loss: 0.0000, lr: 0.0001000\n"
     ]
    },
    {
     "name": "stdout",
     "output_type": "stream",
     "text": [
      "(2000, 60) (2000, 60)\n",
      "NUM FRAMES: 120000\n"
     ]
    },
    {
     "name": "stderr",
     "output_type": "stream",
     "text": [
      "Epoch:346 Training: 100%|██████████| 16/16 [00:00<00:00, 96.09it/s, lr: 0.0001000]\n",
      "Processed 2000 frames in 0.1 seconds (33511.1 FPS)\n",
      "Epoch 346 F1: 0.83 | Best F1: 83.01 at epoch 345, iter 1417216 | train_loss: 0.0000, lr: 0.0001000\n"
     ]
    },
    {
     "name": "stdout",
     "output_type": "stream",
     "text": [
      "(2000, 60) (2000, 60)\n",
      "NUM FRAMES: 120000\n"
     ]
    },
    {
     "name": "stderr",
     "output_type": "stream",
     "text": [
      "Epoch:347 Training: 100%|██████████| 16/16 [00:00<00:00, 109.73it/s, lr: 0.0001000]\n",
      "Processed 2000 frames in 0.1 seconds (34039.0 FPS)\n",
      "Epoch 347 F1: 0.82 | Best F1: 83.01 at epoch 345, iter 1421312 | train_loss: 0.0000, lr: 0.0001000\n"
     ]
    },
    {
     "name": "stdout",
     "output_type": "stream",
     "text": [
      "(2000, 60) (2000, 60)\n",
      "NUM FRAMES: 120000\n"
     ]
    },
    {
     "name": "stderr",
     "output_type": "stream",
     "text": [
      "Epoch:348 Training: 100%|██████████| 16/16 [00:00<00:00, 101.34it/s, lr: 0.0001000]\n",
      "Processed 2000 frames in 0.1 seconds (32260.9 FPS)\n",
      "Epoch 348 F1: 0.82 | Best F1: 83.01 at epoch 345, iter 1425408 | train_loss: 0.0000, lr: 0.0001000\n"
     ]
    },
    {
     "name": "stdout",
     "output_type": "stream",
     "text": [
      "(2000, 60) (2000, 60)\n",
      "NUM FRAMES: 120000\n"
     ]
    },
    {
     "name": "stderr",
     "output_type": "stream",
     "text": [
      "Epoch:349 Training: 100%|██████████| 16/16 [00:00<00:00, 112.34it/s, lr: 0.0001000]\n",
      "Processed 2000 frames in 0.1 seconds (33582.4 FPS)\n",
      "Epoch 349 F1: 0.83 | Best F1: 83.01 at epoch 345, iter 1429504 | train_loss: 0.0000, lr: 0.0001000\n"
     ]
    },
    {
     "name": "stdout",
     "output_type": "stream",
     "text": [
      "(2000, 60) (2000, 60)\n",
      "NUM FRAMES: 120000\n"
     ]
    },
    {
     "name": "stderr",
     "output_type": "stream",
     "text": [
      "Epoch:350 Training: 100%|██████████| 16/16 [00:00<00:00, 122.60it/s, lr: 0.0001000]\n",
      "Processed 2000 frames in 0.0 seconds (54956.1 FPS)\n",
      "Epoch 350 F1: 0.82 | Best F1: 83.01 at epoch 345, iter 1433600 | train_loss: 0.0000, lr: 0.0001000\n"
     ]
    },
    {
     "name": "stdout",
     "output_type": "stream",
     "text": [
      "(2000, 60) (2000, 60)\n",
      "NUM FRAMES: 120000\n"
     ]
    },
    {
     "name": "stderr",
     "output_type": "stream",
     "text": [
      "Epoch:351 Training: 100%|██████████| 16/16 [00:00<00:00, 133.08it/s, lr: 0.0001000]\n",
      "Processed 2000 frames in 0.1 seconds (29639.1 FPS)\n",
      "Epoch 351 F1: 0.81 | Best F1: 83.01 at epoch 345, iter 1437696 | train_loss: 0.0000, lr: 0.0001000\n"
     ]
    },
    {
     "name": "stdout",
     "output_type": "stream",
     "text": [
      "(2000, 60) (2000, 60)\n",
      "NUM FRAMES: 120000\n"
     ]
    },
    {
     "name": "stderr",
     "output_type": "stream",
     "text": [
      "Epoch:352 Training: 100%|██████████| 16/16 [00:00<00:00, 114.19it/s, lr: 0.0001000]\n",
      "Processed 2000 frames in 0.0 seconds (42372.9 FPS)\n",
      "Epoch 352 F1: 0.81 | Best F1: 83.01 at epoch 345, iter 1441792 | train_loss: 0.0000, lr: 0.0001000\n"
     ]
    },
    {
     "name": "stdout",
     "output_type": "stream",
     "text": [
      "(2000, 60) (2000, 60)\n",
      "NUM FRAMES: 120000\n"
     ]
    },
    {
     "name": "stderr",
     "output_type": "stream",
     "text": [
      "Epoch:353 Training: 100%|██████████| 16/16 [00:00<00:00, 139.98it/s, lr: 0.0001000]\n",
      "                                                  \r"
     ]
    },
    {
     "name": "stdout",
     "output_type": "stream",
     "text": [
      "(2000, 60) (2000, 60)\n",
      "NUM FRAMES: 120000\n"
     ]
    },
    {
     "name": "stderr",
     "output_type": "stream",
     "text": [
      "Processed 2000 frames in 0.0 seconds (55217.6 FPS)\n",
      "Epoch 353 F1: 0.82 | Best F1: 83.01 at epoch 345, iter 1445888 | train_loss: 0.0000, lr: 0.0001000\n",
      "Epoch:354 Training: 100%|██████████| 16/16 [00:00<00:00, 107.59it/s, lr: 0.0001000]\n",
      "Processed 2000 frames in 0.1 seconds (35287.5 FPS)\n",
      "Epoch 354 F1: 0.83 | Best F1: 83.01 at epoch 345, iter 1449984 | train_loss: 0.0000, lr: 0.0001000\n"
     ]
    },
    {
     "name": "stdout",
     "output_type": "stream",
     "text": [
      "(2000, 60) (2000, 60)\n",
      "NUM FRAMES: 120000\n"
     ]
    },
    {
     "name": "stderr",
     "output_type": "stream",
     "text": [
      "Epoch:355 Training: 100%|██████████| 16/16 [00:00<00:00, 127.18it/s, lr: 0.0001000]\n",
      "Processed 2000 frames in 0.0 seconds (61844.6 FPS)\n",
      "Epoch 355 F1: 0.83 | Best F1: 83.01 at epoch 345, iter 1454080 | train_loss: 0.0000, lr: 0.0001000\n"
     ]
    },
    {
     "name": "stdout",
     "output_type": "stream",
     "text": [
      "(2000, 60) (2000, 60)\n",
      "NUM FRAMES: 120000\n"
     ]
    },
    {
     "name": "stderr",
     "output_type": "stream",
     "text": [
      "Epoch:356 Training: 100%|██████████| 16/16 [00:00<00:00, 111.82it/s, lr: 0.0001000]\n",
      "Processed 2000 frames in 0.1 seconds (34074.5 FPS)\n",
      "Epoch 356 F1: 0.82 | Best F1: 83.01 at epoch 345, iter 1458176 | train_loss: 0.0000, lr: 0.0001000\n"
     ]
    },
    {
     "name": "stdout",
     "output_type": "stream",
     "text": [
      "(2000, 60) (2000, 60)\n",
      "NUM FRAMES: 120000\n"
     ]
    },
    {
     "name": "stderr",
     "output_type": "stream",
     "text": [
      "Epoch:357 Training: 100%|██████████| 16/16 [00:00<00:00, 110.19it/s, lr: 0.0001000]\n",
      "Processed 2000 frames in 0.1 seconds (33648.2 FPS)\n",
      "Epoch 357 F1: 0.83 | Best F1: 83.01 at epoch 345, iter 1462272 | train_loss: 0.0000, lr: 0.0001000\n"
     ]
    },
    {
     "name": "stdout",
     "output_type": "stream",
     "text": [
      "(2000, 60) (2000, 60)\n",
      "NUM FRAMES: 120000\n"
     ]
    },
    {
     "name": "stderr",
     "output_type": "stream",
     "text": [
      "Epoch:358 Training: 100%|██████████| 16/16 [00:00<00:00, 109.30it/s, lr: 0.0001000]\n",
      "Processed 2000 frames in 0.1 seconds (35518.6 FPS)\n",
      "Epoch 358 F1: 0.83 | Best F1: 83.01 at epoch 345, iter 1466368 | train_loss: 0.0000, lr: 0.0001000\n"
     ]
    },
    {
     "name": "stdout",
     "output_type": "stream",
     "text": [
      "(2000, 60) (2000, 60)\n",
      "NUM FRAMES: 120000\n"
     ]
    },
    {
     "name": "stderr",
     "output_type": "stream",
     "text": [
      "Epoch:359 Training: 100%|██████████| 16/16 [00:00<00:00, 112.54it/s, lr: 0.0001000]\n",
      "Processed 2000 frames in 0.0 seconds (51604.1 FPS)\n",
      "Epoch 359 F1: 0.83 | Best F1: 83.01 at epoch 345, iter 1470464 | train_loss: 0.0000, lr: 0.0001000\n"
     ]
    },
    {
     "name": "stdout",
     "output_type": "stream",
     "text": [
      "(2000, 60) (2000, 60)\n",
      "NUM FRAMES: 120000\n"
     ]
    },
    {
     "name": "stderr",
     "output_type": "stream",
     "text": [
      "Epoch:360 Training: 100%|██████████| 16/16 [00:00<00:00, 129.90it/s, lr: 0.0001000]\n",
      "Processed 2000 frames in 0.1 seconds (35400.3 FPS)\n",
      "Epoch 360 F1: 0.83 | Best F1: 83.01 at epoch 345, iter 1474560 | train_loss: 0.0000, lr: 0.0001000\n"
     ]
    },
    {
     "name": "stdout",
     "output_type": "stream",
     "text": [
      "(2000, 60) (2000, 60)\n",
      "NUM FRAMES: 120000\n"
     ]
    },
    {
     "name": "stderr",
     "output_type": "stream",
     "text": [
      "Epoch:361 Training: 100%|██████████| 16/16 [00:00<00:00, 133.49it/s, lr: 0.0001000]\n",
      "Processed 2000 frames in 0.1 seconds (33435.8 FPS)\n",
      "Epoch 361 F1: 0.83 | Best F1: 83.01 at epoch 345, iter 1478656 | train_loss: 0.0000, lr: 0.0001000\n"
     ]
    },
    {
     "name": "stdout",
     "output_type": "stream",
     "text": [
      "(2000, 60) (2000, 60)\n",
      "NUM FRAMES: 120000\n"
     ]
    },
    {
     "name": "stderr",
     "output_type": "stream",
     "text": [
      "Epoch:362 Training: 100%|██████████| 16/16 [00:00<00:00, 131.70it/s, lr: 0.0001000]\n",
      "Processed 2000 frames in 0.1 seconds (36773.9 FPS)\n",
      "Epoch 362 F1: 0.83 | Best F1: 83.01 at epoch 345, iter 1482752 | train_loss: 0.0000, lr: 0.0001000\n"
     ]
    },
    {
     "name": "stdout",
     "output_type": "stream",
     "text": [
      "(2000, 60) (2000, 60)\n",
      "NUM FRAMES: 120000\n"
     ]
    },
    {
     "name": "stderr",
     "output_type": "stream",
     "text": [
      "Epoch:363 Training: 100%|██████████| 16/16 [00:00<00:00, 148.47it/s, lr: 0.0001000]\n",
      "Processed 2000 frames in 0.0 seconds (40513.1 FPS)\n",
      "Epoch 363 F1: 0.83 | Best F1: 83.01 at epoch 345, iter 1486848 | train_loss: 0.0000, lr: 0.0001000\n"
     ]
    },
    {
     "name": "stdout",
     "output_type": "stream",
     "text": [
      "(2000, 60) (2000, 60)\n",
      "NUM FRAMES: 120000\n"
     ]
    },
    {
     "name": "stderr",
     "output_type": "stream",
     "text": [
      "Epoch:364 Training: 100%|██████████| 16/16 [00:00<00:00, 115.05it/s, lr: 0.0001000]\n",
      "Processed 2000 frames in 0.0 seconds (55454.5 FPS)\n",
      "Epoch 364 F1: 0.83 | Best F1: 83.49 at epoch 364, iter 1490944 | train_loss: 0.0000, lr: 0.0001000\n"
     ]
    },
    {
     "name": "stdout",
     "output_type": "stream",
     "text": [
      "(2000, 60) (2000, 60)\n",
      "NUM FRAMES: 120000\n"
     ]
    },
    {
     "name": "stderr",
     "output_type": "stream",
     "text": [
      "Epoch:365 Training: 100%|██████████| 16/16 [00:00<00:00, 115.76it/s, lr: 0.0001000]\n",
      "Processed 2000 frames in 0.0 seconds (55129.8 FPS)\n",
      "Epoch 365 F1: 0.83 | Best F1: 83.49 at epoch 364, iter 1495040 | train_loss: 0.0000, lr: 0.0001000\n"
     ]
    },
    {
     "name": "stdout",
     "output_type": "stream",
     "text": [
      "(2000, 60) (2000, 60)\n",
      "NUM FRAMES: 120000\n"
     ]
    },
    {
     "name": "stderr",
     "output_type": "stream",
     "text": [
      "Epoch:366 Training: 100%|██████████| 16/16 [00:00<00:00, 144.63it/s, lr: 0.0001000]\n",
      "                                                  \r"
     ]
    },
    {
     "name": "stdout",
     "output_type": "stream",
     "text": [
      "(2000, 60) (2000, 60)\n",
      "NUM FRAMES: 120000\n"
     ]
    },
    {
     "name": "stderr",
     "output_type": "stream",
     "text": [
      "Processed 2000 frames in 0.0 seconds (54974.1 FPS)\n",
      "Epoch 366 F1: 0.83 | Best F1: 83.49 at epoch 364, iter 1499136 | train_loss: 0.0000, lr: 0.0001000\n",
      "Epoch:367 Training: 100%|██████████| 16/16 [00:00<00:00, 115.09it/s, lr: 0.0001000]\n",
      "Processed 2000 frames in 0.1 seconds (33992.9 FPS)\n",
      "Epoch 367 F1: 0.83 | Best F1: 83.49 at epoch 364, iter 1503232 | train_loss: 0.0000, lr: 0.0001000\n"
     ]
    },
    {
     "name": "stdout",
     "output_type": "stream",
     "text": [
      "(2000, 60) (2000, 60)\n",
      "NUM FRAMES: 120000\n"
     ]
    },
    {
     "name": "stderr",
     "output_type": "stream",
     "text": [
      "Epoch:368 Training: 100%|██████████| 16/16 [00:00<00:00, 122.19it/s, lr: 0.0001000]\n",
      "Processed 2000 frames in 0.1 seconds (33301.5 FPS)\n",
      "Epoch 368 F1: 0.83 | Best F1: 83.49 at epoch 364, iter 1507328 | train_loss: 0.0000, lr: 0.0001000\n"
     ]
    },
    {
     "name": "stdout",
     "output_type": "stream",
     "text": [
      "(2000, 60) (2000, 60)\n",
      "NUM FRAMES: 120000\n"
     ]
    },
    {
     "name": "stderr",
     "output_type": "stream",
     "text": [
      "Epoch:369 Training: 100%|██████████| 16/16 [00:00<00:00, 107.95it/s, lr: 0.0001000]\n",
      "Processed 2000 frames in 0.0 seconds (52842.6 FPS)\n",
      "Epoch 369 F1: 0.83 | Best F1: 83.49 at epoch 364, iter 1511424 | train_loss: 0.0000, lr: 0.0001000\n"
     ]
    },
    {
     "name": "stdout",
     "output_type": "stream",
     "text": [
      "(2000, 60) (2000, 60)\n",
      "NUM FRAMES: 120000\n"
     ]
    },
    {
     "name": "stderr",
     "output_type": "stream",
     "text": [
      "Epoch:370 Training: 100%|██████████| 16/16 [00:00<00:00, 119.98it/s, lr: 0.0001000]\n",
      "Processed 2000 frames in 0.1 seconds (33612.1 FPS)\n",
      "Epoch 370 F1: 0.83 | Best F1: 83.49 at epoch 364, iter 1515520 | train_loss: 0.0000, lr: 0.0001000\n"
     ]
    },
    {
     "name": "stdout",
     "output_type": "stream",
     "text": [
      "(2000, 60) (2000, 60)\n",
      "NUM FRAMES: 120000\n"
     ]
    },
    {
     "name": "stderr",
     "output_type": "stream",
     "text": [
      "Epoch:371 Training: 100%|██████████| 16/16 [00:00<00:00, 95.28it/s, lr: 0.0001000]\n",
      "Processed 2000 frames in 0.1 seconds (34425.7 FPS)\n",
      "Epoch 371 F1: 0.82 | Best F1: 83.49 at epoch 364, iter 1519616 | train_loss: 0.0000, lr: 0.0001000\n"
     ]
    },
    {
     "name": "stdout",
     "output_type": "stream",
     "text": [
      "(2000, 60) (2000, 60)\n",
      "NUM FRAMES: 120000\n"
     ]
    },
    {
     "name": "stderr",
     "output_type": "stream",
     "text": [
      "Epoch:372 Training: 100%|██████████| 16/16 [00:00<00:00, 112.47it/s, lr: 0.0001000]\n",
      "Processed 2000 frames in 0.1 seconds (36669.4 FPS)\n",
      "Epoch 372 F1: 0.82 | Best F1: 83.49 at epoch 364, iter 1523712 | train_loss: 0.0000, lr: 0.0001000\n"
     ]
    },
    {
     "name": "stdout",
     "output_type": "stream",
     "text": [
      "(2000, 60) (2000, 60)\n",
      "NUM FRAMES: 120000\n"
     ]
    },
    {
     "name": "stderr",
     "output_type": "stream",
     "text": [
      "Epoch:373 Training: 100%|██████████| 16/16 [00:00<00:00, 110.20it/s, lr: 0.0001000]\n",
      "Processed 2000 frames in 0.1 seconds (33853.0 FPS)\n",
      "Epoch 373 F1: 0.82 | Best F1: 83.49 at epoch 364, iter 1527808 | train_loss: 0.0000, lr: 0.0001000\n"
     ]
    },
    {
     "name": "stdout",
     "output_type": "stream",
     "text": [
      "(2000, 60) (2000, 60)\n",
      "NUM FRAMES: 120000\n"
     ]
    },
    {
     "name": "stderr",
     "output_type": "stream",
     "text": [
      "Epoch:374 Training: 100%|██████████| 16/16 [00:00<00:00, 137.70it/s, lr: 0.0001000]\n",
      "Processed 2000 frames in 0.1 seconds (37289.7 FPS)\n",
      "Epoch 374 F1: 0.83 | Best F1: 83.49 at epoch 364, iter 1531904 | train_loss: 0.0000, lr: 0.0001000\n"
     ]
    },
    {
     "name": "stdout",
     "output_type": "stream",
     "text": [
      "(2000, 60) (2000, 60)\n",
      "NUM FRAMES: 120000\n"
     ]
    },
    {
     "name": "stderr",
     "output_type": "stream",
     "text": [
      "Epoch:375 Training: 100%|██████████| 16/16 [00:00<00:00, 130.51it/s, lr: 0.0001000]\n",
      "Processed 2000 frames in 0.0 seconds (46395.6 FPS)\n",
      "Epoch 375 F1: 0.82 | Best F1: 83.49 at epoch 364, iter 1536000 | train_loss: 0.0000, lr: 0.0001000\n"
     ]
    },
    {
     "name": "stdout",
     "output_type": "stream",
     "text": [
      "(2000, 60) (2000, 60)\n",
      "NUM FRAMES: 120000\n"
     ]
    },
    {
     "name": "stderr",
     "output_type": "stream",
     "text": [
      "Epoch:376 Training: 100%|██████████| 16/16 [00:00<00:00, 120.96it/s, lr: 0.0001000]\n",
      "Processed 2000 frames in 0.0 seconds (49961.3 FPS)\n",
      "Epoch 376 F1: 0.83 | Best F1: 83.49 at epoch 364, iter 1540096 | train_loss: 0.0000, lr: 0.0001000\n"
     ]
    },
    {
     "name": "stdout",
     "output_type": "stream",
     "text": [
      "(2000, 60) (2000, 60)\n",
      "NUM FRAMES: 120000\n"
     ]
    },
    {
     "name": "stderr",
     "output_type": "stream",
     "text": [
      "Epoch:377 Training: 100%|██████████| 16/16 [00:00<00:00, 114.53it/s, lr: 0.0001000]\n",
      "Processed 2000 frames in 0.0 seconds (55412.0 FPS)\n",
      "Epoch 377 F1: 0.83 | Best F1: 83.50 at epoch 377, iter 1544192 | train_loss: 0.0000, lr: 0.0001000\n"
     ]
    },
    {
     "name": "stdout",
     "output_type": "stream",
     "text": [
      "(2000, 60) (2000, 60)\n",
      "NUM FRAMES: 120000\n"
     ]
    },
    {
     "name": "stderr",
     "output_type": "stream",
     "text": [
      "Epoch:378 Training: 100%|██████████| 16/16 [00:00<00:00, 117.74it/s, lr: 0.0001000]\n",
      "Processed 2000 frames in 0.1 seconds (35677.2 FPS)\n",
      "Epoch 378 F1: 0.83 | Best F1: 83.50 at epoch 377, iter 1548288 | train_loss: 0.0000, lr: 0.0001000\n"
     ]
    },
    {
     "name": "stdout",
     "output_type": "stream",
     "text": [
      "(2000, 60) (2000, 60)\n",
      "NUM FRAMES: 120000\n"
     ]
    },
    {
     "name": "stderr",
     "output_type": "stream",
     "text": [
      "Epoch:379 Training: 100%|██████████| 16/16 [00:00<00:00, 118.03it/s, lr: 0.0001000]\n",
      "Processed 2000 frames in 0.0 seconds (49623.2 FPS)\n",
      "Epoch 379 F1: 0.79 | Best F1: 83.50 at epoch 377, iter 1552384 | train_loss: 0.0000, lr: 0.0001000\n"
     ]
    },
    {
     "name": "stdout",
     "output_type": "stream",
     "text": [
      "(2000, 60) (2000, 60)\n",
      "NUM FRAMES: 120000\n"
     ]
    },
    {
     "name": "stderr",
     "output_type": "stream",
     "text": [
      "Epoch:380 Training: 100%|██████████| 16/16 [00:00<00:00, 114.64it/s, lr: 0.0001000]\n",
      "Processed 2000 frames in 0.1 seconds (34063.1 FPS)\n",
      "Epoch 380 F1: 0.82 | Best F1: 83.50 at epoch 377, iter 1556480 | train_loss: 0.0000, lr: 0.0001000\n"
     ]
    },
    {
     "name": "stdout",
     "output_type": "stream",
     "text": [
      "(2000, 60) (2000, 60)\n",
      "NUM FRAMES: 120000\n"
     ]
    },
    {
     "name": "stderr",
     "output_type": "stream",
     "text": [
      "Epoch:381 Training: 100%|██████████| 16/16 [00:00<00:00, 125.46it/s, lr: 0.0001000]\n",
      "Processed 2000 frames in 0.0 seconds (61563.7 FPS)\n",
      "Epoch 381 F1: 0.75 | Best F1: 83.50 at epoch 377, iter 1560576 | train_loss: 0.0001, lr: 0.0001000\n"
     ]
    },
    {
     "name": "stdout",
     "output_type": "stream",
     "text": [
      "(2000, 60) (2000, 60)\n",
      "NUM FRAMES: 120000\n"
     ]
    },
    {
     "name": "stderr",
     "output_type": "stream",
     "text": [
      "Epoch:382 Training: 100%|██████████| 16/16 [00:00<00:00, 119.59it/s, lr: 0.0001000]\n",
      "Processed 2000 frames in 0.1 seconds (32584.0 FPS)\n",
      "Epoch 382 F1: 0.80 | Best F1: 83.50 at epoch 377, iter 1564672 | train_loss: 0.0000, lr: 0.0001000\n"
     ]
    },
    {
     "name": "stdout",
     "output_type": "stream",
     "text": [
      "(2000, 60) (2000, 60)\n",
      "NUM FRAMES: 120000\n"
     ]
    },
    {
     "name": "stderr",
     "output_type": "stream",
     "text": [
      "Epoch:383 Training: 100%|██████████| 16/16 [00:00<00:00, 108.92it/s, lr: 0.0001000]\n",
      "Processed 2000 frames in 0.0 seconds (55194.0 FPS)\n",
      "Epoch 383 F1: 0.82 | Best F1: 83.50 at epoch 377, iter 1568768 | train_loss: 0.0000, lr: 0.0001000\n"
     ]
    },
    {
     "name": "stdout",
     "output_type": "stream",
     "text": [
      "(2000, 60) (2000, 60)\n",
      "NUM FRAMES: 120000\n"
     ]
    },
    {
     "name": "stderr",
     "output_type": "stream",
     "text": [
      "Epoch:384 Training: 100%|██████████| 16/16 [00:00<00:00, 135.92it/s, lr: 0.0001000]\n",
      "Processed 2000 frames in 0.1 seconds (28082.1 FPS)\n",
      "Epoch 384 F1: 0.82 | Best F1: 83.50 at epoch 377, iter 1572864 | train_loss: 0.0000, lr: 0.0001000\n"
     ]
    },
    {
     "name": "stdout",
     "output_type": "stream",
     "text": [
      "(2000, 60) (2000, 60)\n",
      "NUM FRAMES: 120000\n"
     ]
    },
    {
     "name": "stderr",
     "output_type": "stream",
     "text": [
      "Epoch:385 Training: 100%|██████████| 16/16 [00:00<00:00, 114.78it/s, lr: 0.0001000]\n",
      "Processed 2000 frames in 0.1 seconds (34271.1 FPS)\n",
      "Epoch 385 F1: 0.83 | Best F1: 83.50 at epoch 377, iter 1576960 | train_loss: 0.0000, lr: 0.0001000\n"
     ]
    },
    {
     "name": "stdout",
     "output_type": "stream",
     "text": [
      "(2000, 60) (2000, 60)\n",
      "NUM FRAMES: 120000\n"
     ]
    },
    {
     "name": "stderr",
     "output_type": "stream",
     "text": [
      "Epoch:386 Training: 100%|██████████| 16/16 [00:00<00:00, 121.02it/s, lr: 0.0001000]\n",
      "Processed 2000 frames in 0.1 seconds (38697.7 FPS)\n",
      "Epoch 386 F1: 0.83 | Best F1: 83.50 at epoch 377, iter 1581056 | train_loss: 0.0000, lr: 0.0001000\n"
     ]
    },
    {
     "name": "stdout",
     "output_type": "stream",
     "text": [
      "(2000, 60) (2000, 60)\n",
      "NUM FRAMES: 120000\n"
     ]
    },
    {
     "name": "stderr",
     "output_type": "stream",
     "text": [
      "Epoch:387 Training: 100%|██████████| 16/16 [00:00<00:00, 122.35it/s, lr: 0.0001000]\n",
      "Processed 2000 frames in 0.0 seconds (41909.5 FPS)\n",
      "Epoch 387 F1: 0.84 | Best F1: 83.57 at epoch 387, iter 1585152 | train_loss: 0.0000, lr: 0.0001000\n"
     ]
    },
    {
     "name": "stdout",
     "output_type": "stream",
     "text": [
      "(2000, 60) (2000, 60)\n",
      "NUM FRAMES: 120000\n"
     ]
    },
    {
     "name": "stderr",
     "output_type": "stream",
     "text": [
      "Epoch:388 Training: 100%|██████████| 16/16 [00:00<00:00, 140.37it/s, lr: 0.0001000]\n",
      "Processed 2000 frames in 0.0 seconds (48444.5 FPS)\n",
      "Epoch 388 F1: 0.84 | Best F1: 84.08 at epoch 388, iter 1589248 | train_loss: 0.0000, lr: 0.0001000\n"
     ]
    },
    {
     "name": "stdout",
     "output_type": "stream",
     "text": [
      "(2000, 60) (2000, 60)\n",
      "NUM FRAMES: 120000\n"
     ]
    },
    {
     "name": "stderr",
     "output_type": "stream",
     "text": [
      "Epoch:389 Training: 100%|██████████| 16/16 [00:00<00:00, 108.25it/s, lr: 0.0001000]\n",
      "Processed 2000 frames in 0.0 seconds (44326.0 FPS)\n",
      "Epoch 389 F1: 0.84 | Best F1: 84.08 at epoch 388, iter 1593344 | train_loss: 0.0000, lr: 0.0001000\n"
     ]
    },
    {
     "name": "stdout",
     "output_type": "stream",
     "text": [
      "(2000, 60) (2000, 60)\n",
      "NUM FRAMES: 120000\n"
     ]
    },
    {
     "name": "stderr",
     "output_type": "stream",
     "text": [
      "Epoch:390 Training: 100%|██████████| 16/16 [00:00<00:00, 98.50it/s, lr: 0.0001000]\n",
      "Processed 2000 frames in 0.1 seconds (34900.6 FPS)\n",
      "Epoch 390 F1: 0.84 | Best F1: 84.08 at epoch 388, iter 1597440 | train_loss: 0.0000, lr: 0.0001000\n"
     ]
    },
    {
     "name": "stdout",
     "output_type": "stream",
     "text": [
      "(2000, 60) (2000, 60)\n",
      "NUM FRAMES: 120000\n"
     ]
    },
    {
     "name": "stderr",
     "output_type": "stream",
     "text": [
      "Epoch:391 Training: 100%|██████████| 16/16 [00:00<00:00, 125.64it/s, lr: 0.0001000]\n",
      "Processed 2000 frames in 0.0 seconds (50265.8 FPS)\n",
      "Epoch 391 F1: 0.83 | Best F1: 84.08 at epoch 388, iter 1601536 | train_loss: 0.0000, lr: 0.0001000\n"
     ]
    },
    {
     "name": "stdout",
     "output_type": "stream",
     "text": [
      "(2000, 60) (2000, 60)\n",
      "NUM FRAMES: 120000\n"
     ]
    },
    {
     "name": "stderr",
     "output_type": "stream",
     "text": [
      "Epoch:392 Training: 100%|██████████| 16/16 [00:00<00:00, 131.34it/s, lr: 0.0001000]\n",
      "Processed 2000 frames in 0.0 seconds (55606.4 FPS)\n",
      "Epoch 392 F1: 0.83 | Best F1: 84.08 at epoch 388, iter 1605632 | train_loss: 0.0000, lr: 0.0001000\n"
     ]
    },
    {
     "name": "stdout",
     "output_type": "stream",
     "text": [
      "(2000, 60) (2000, 60)\n",
      "NUM FRAMES: 120000\n"
     ]
    },
    {
     "name": "stderr",
     "output_type": "stream",
     "text": [
      "Epoch:393 Training: 100%|██████████| 16/16 [00:00<00:00, 109.95it/s, lr: 0.0001000]\n",
      "Processed 2000 frames in 0.0 seconds (41748.9 FPS)\n",
      "Epoch 393 F1: 0.83 | Best F1: 84.08 at epoch 388, iter 1609728 | train_loss: 0.0000, lr: 0.0001000\n"
     ]
    },
    {
     "name": "stdout",
     "output_type": "stream",
     "text": [
      "(2000, 60) (2000, 60)\n",
      "NUM FRAMES: 120000\n"
     ]
    },
    {
     "name": "stderr",
     "output_type": "stream",
     "text": [
      "Epoch:394 Training: 100%|██████████| 16/16 [00:00<00:00, 131.86it/s, lr: 0.0001000]\n",
      "Processed 2000 frames in 0.1 seconds (36216.3 FPS)\n",
      "Epoch 394 F1: 0.84 | Best F1: 84.08 at epoch 388, iter 1613824 | train_loss: 0.0000, lr: 0.0001000\n"
     ]
    },
    {
     "name": "stdout",
     "output_type": "stream",
     "text": [
      "(2000, 60) (2000, 60)\n",
      "NUM FRAMES: 120000\n"
     ]
    },
    {
     "name": "stderr",
     "output_type": "stream",
     "text": [
      "Epoch:395 Training: 100%|██████████| 16/16 [00:00<00:00, 100.21it/s, lr: 0.0001000]\n",
      "Processed 2000 frames in 0.1 seconds (34251.0 FPS)\n",
      "Epoch 395 F1: 0.83 | Best F1: 84.08 at epoch 388, iter 1617920 | train_loss: 0.0000, lr: 0.0001000\n"
     ]
    },
    {
     "name": "stdout",
     "output_type": "stream",
     "text": [
      "(2000, 60) (2000, 60)\n",
      "NUM FRAMES: 120000\n"
     ]
    },
    {
     "name": "stderr",
     "output_type": "stream",
     "text": [
      "Epoch:396 Training: 100%|██████████| 16/16 [00:00<00:00, 116.30it/s, lr: 0.0001000]\n",
      "Processed 2000 frames in 0.1 seconds (33752.8 FPS)\n",
      "Epoch 396 F1: 0.84 | Best F1: 84.08 at epoch 388, iter 1622016 | train_loss: 0.0000, lr: 0.0001000\n"
     ]
    },
    {
     "name": "stdout",
     "output_type": "stream",
     "text": [
      "(2000, 60) (2000, 60)\n",
      "NUM FRAMES: 120000\n"
     ]
    },
    {
     "name": "stderr",
     "output_type": "stream",
     "text": [
      "Epoch:397 Training: 100%|██████████| 16/16 [00:00<00:00, 101.73it/s, lr: 0.0001000]\n",
      "Processed 2000 frames in 0.0 seconds (59998.8 FPS)\n",
      "Epoch 397 F1: 0.84 | Best F1: 84.08 at epoch 388, iter 1626112 | train_loss: 0.0000, lr: 0.0001000\n"
     ]
    },
    {
     "name": "stdout",
     "output_type": "stream",
     "text": [
      "(2000, 60) (2000, 60)\n",
      "NUM FRAMES: 120000\n"
     ]
    },
    {
     "name": "stderr",
     "output_type": "stream",
     "text": [
      "Epoch:398 Training: 100%|██████████| 16/16 [00:00<00:00, 100.98it/s, lr: 0.0001000]\n",
      "Processed 2000 frames in 0.1 seconds (31906.9 FPS)\n",
      "Epoch 398 F1: 0.83 | Best F1: 84.08 at epoch 388, iter 1630208 | train_loss: 0.0000, lr: 0.0001000\n"
     ]
    },
    {
     "name": "stdout",
     "output_type": "stream",
     "text": [
      "(2000, 60) (2000, 60)\n",
      "NUM FRAMES: 120000\n"
     ]
    },
    {
     "name": "stderr",
     "output_type": "stream",
     "text": [
      "Epoch:399 Training: 100%|██████████| 16/16 [00:00<00:00, 102.54it/s, lr: 0.0001000]\n",
      "Processed 2000 frames in 0.0 seconds (51095.5 FPS)\n",
      "Epoch 399 F1: 0.84 | Best F1: 84.08 at epoch 388, iter 1634304 | train_loss: 0.0000, lr: 0.0001000\n"
     ]
    },
    {
     "name": "stdout",
     "output_type": "stream",
     "text": [
      "(2000, 60) (2000, 60)\n",
      "NUM FRAMES: 120000\n"
     ]
    },
    {
     "name": "stderr",
     "output_type": "stream",
     "text": [
      "Epoch:400 Training: 100%|██████████| 16/16 [00:00<00:00, 108.41it/s, lr: 0.0001000]\n",
      "Processed 2000 frames in 0.1 seconds (30700.1 FPS)\n",
      "Epoch 400 F1: 0.83 | Best F1: 84.08 at epoch 388, iter 1638400 | train_loss: 0.0000, lr: 0.0001000\n"
     ]
    },
    {
     "name": "stdout",
     "output_type": "stream",
     "text": [
      "(2000, 60) (2000, 60)\n",
      "NUM FRAMES: 120000\n"
     ]
    },
    {
     "name": "stderr",
     "output_type": "stream",
     "text": [
      "Epoch:401 Training: 100%|██████████| 16/16 [00:00<00:00, 111.73it/s, lr: 0.0001000]\n",
      "Processed 2000 frames in 0.1 seconds (31776.2 FPS)\n",
      "Epoch 401 F1: 0.84 | Best F1: 84.08 at epoch 388, iter 1642496 | train_loss: 0.0000, lr: 0.0001000\n"
     ]
    },
    {
     "name": "stdout",
     "output_type": "stream",
     "text": [
      "(2000, 60) (2000, 60)\n",
      "NUM FRAMES: 120000\n"
     ]
    },
    {
     "name": "stderr",
     "output_type": "stream",
     "text": [
      "Epoch:402 Training: 100%|██████████| 16/16 [00:00<00:00, 108.36it/s, lr: 0.0001000]\n",
      "Processed 2000 frames in 0.1 seconds (31347.1 FPS)\n",
      "Epoch 402 F1: 0.84 | Best F1: 84.08 at epoch 388, iter 1646592 | train_loss: 0.0000, lr: 0.0001000\n"
     ]
    },
    {
     "name": "stdout",
     "output_type": "stream",
     "text": [
      "(2000, 60) (2000, 60)\n",
      "NUM FRAMES: 120000\n"
     ]
    },
    {
     "name": "stderr",
     "output_type": "stream",
     "text": [
      "Epoch:403 Training: 100%|██████████| 16/16 [00:00<00:00, 111.77it/s, lr: 0.0001000]\n",
      "Processed 2000 frames in 0.1 seconds (35988.4 FPS)\n",
      "Epoch 403 F1: 0.84 | Best F1: 84.08 at epoch 388, iter 1650688 | train_loss: 0.0000, lr: 0.0001000\n"
     ]
    },
    {
     "name": "stdout",
     "output_type": "stream",
     "text": [
      "(2000, 60) (2000, 60)\n",
      "NUM FRAMES: 120000\n"
     ]
    },
    {
     "name": "stderr",
     "output_type": "stream",
     "text": [
      "Epoch:404 Training: 100%|██████████| 16/16 [00:00<00:00, 115.68it/s, lr: 0.0001000]\n",
      "Processed 2000 frames in 0.1 seconds (33442.7 FPS)\n",
      "Epoch 404 F1: 0.84 | Best F1: 84.16 at epoch 404, iter 1654784 | train_loss: 0.0000, lr: 0.0001000\n"
     ]
    },
    {
     "name": "stdout",
     "output_type": "stream",
     "text": [
      "(2000, 60) (2000, 60)\n",
      "NUM FRAMES: 120000\n"
     ]
    },
    {
     "name": "stderr",
     "output_type": "stream",
     "text": [
      "Epoch:405 Training: 100%|██████████| 16/16 [00:00<00:00, 145.17it/s, lr: 0.0001000]\n",
      "Processed 2000 frames in 0.1 seconds (39087.5 FPS)\n",
      "Epoch 405 F1: 0.84 | Best F1: 84.16 at epoch 404, iter 1658880 | train_loss: 0.0000, lr: 0.0001000\n"
     ]
    },
    {
     "name": "stdout",
     "output_type": "stream",
     "text": [
      "(2000, 60) (2000, 60)\n",
      "NUM FRAMES: 120000\n"
     ]
    },
    {
     "name": "stderr",
     "output_type": "stream",
     "text": [
      "Epoch:406 Training: 100%|██████████| 16/16 [00:00<00:00, 103.33it/s, lr: 0.0001000]\n",
      "Processed 2000 frames in 0.1 seconds (34247.9 FPS)\n",
      "Epoch 406 F1: 0.83 | Best F1: 84.16 at epoch 404, iter 1662976 | train_loss: 0.0000, lr: 0.0001000\n"
     ]
    },
    {
     "name": "stdout",
     "output_type": "stream",
     "text": [
      "(2000, 60) (2000, 60)\n",
      "NUM FRAMES: 120000\n"
     ]
    },
    {
     "name": "stderr",
     "output_type": "stream",
     "text": [
      "Epoch:407 Training: 100%|██████████| 16/16 [00:00<00:00, 108.76it/s, lr: 0.0001000]\n",
      "Processed 2000 frames in 0.0 seconds (53727.3 FPS)\n",
      "Epoch 407 F1: 0.83 | Best F1: 84.16 at epoch 404, iter 1667072 | train_loss: 0.0000, lr: 0.0001000\n"
     ]
    },
    {
     "name": "stdout",
     "output_type": "stream",
     "text": [
      "(2000, 60) (2000, 60)\n",
      "NUM FRAMES: 120000\n"
     ]
    },
    {
     "name": "stderr",
     "output_type": "stream",
     "text": [
      "Epoch:408 Training: 100%|██████████| 16/16 [00:00<00:00, 130.11it/s, lr: 0.0001000]\n",
      "Processed 2000 frames in 0.1 seconds (33216.6 FPS)\n",
      "Epoch 408 F1: 0.83 | Best F1: 84.16 at epoch 404, iter 1671168 | train_loss: 0.0000, lr: 0.0001000\n"
     ]
    },
    {
     "name": "stdout",
     "output_type": "stream",
     "text": [
      "(2000, 60) (2000, 60)\n",
      "NUM FRAMES: 120000\n"
     ]
    },
    {
     "name": "stderr",
     "output_type": "stream",
     "text": [
      "Epoch:409 Training: 100%|██████████| 16/16 [00:00<00:00, 112.91it/s, lr: 0.0001000]\n",
      "Processed 2000 frames in 0.1 seconds (38437.9 FPS)\n",
      "Epoch 409 F1: 0.84 | Best F1: 84.16 at epoch 404, iter 1675264 | train_loss: 0.0000, lr: 0.0001000\n"
     ]
    },
    {
     "name": "stdout",
     "output_type": "stream",
     "text": [
      "(2000, 60) (2000, 60)\n",
      "NUM FRAMES: 120000\n"
     ]
    },
    {
     "name": "stderr",
     "output_type": "stream",
     "text": [
      "Epoch:410 Training: 100%|██████████| 16/16 [00:00<00:00, 129.46it/s, lr: 0.0001000]\n",
      "Processed 2000 frames in 0.0 seconds (50166.3 FPS)\n",
      "Epoch 410 F1: 0.83 | Best F1: 84.16 at epoch 404, iter 1679360 | train_loss: 0.0000, lr: 0.0001000\n"
     ]
    },
    {
     "name": "stdout",
     "output_type": "stream",
     "text": [
      "(2000, 60) (2000, 60)\n",
      "NUM FRAMES: 120000\n"
     ]
    },
    {
     "name": "stderr",
     "output_type": "stream",
     "text": [
      "Epoch:411 Training: 100%|██████████| 16/16 [00:00<00:00, 118.20it/s, lr: 0.0001000]\n",
      "Processed 2000 frames in 0.0 seconds (53340.3 FPS)\n",
      "Epoch 411 F1: 0.83 | Best F1: 84.16 at epoch 404, iter 1683456 | train_loss: 0.0000, lr: 0.0001000\n"
     ]
    },
    {
     "name": "stdout",
     "output_type": "stream",
     "text": [
      "(2000, 60) (2000, 60)\n",
      "NUM FRAMES: 120000\n"
     ]
    },
    {
     "name": "stderr",
     "output_type": "stream",
     "text": [
      "Epoch:412 Training: 100%|██████████| 16/16 [00:00<00:00, 133.60it/s, lr: 0.0001000]\n",
      "Processed 2000 frames in 0.1 seconds (38131.2 FPS)\n",
      "Epoch 412 F1: 0.83 | Best F1: 84.16 at epoch 404, iter 1687552 | train_loss: 0.0000, lr: 0.0001000\n"
     ]
    },
    {
     "name": "stdout",
     "output_type": "stream",
     "text": [
      "(2000, 60) (2000, 60)\n",
      "NUM FRAMES: 120000\n"
     ]
    },
    {
     "name": "stderr",
     "output_type": "stream",
     "text": [
      "Epoch:413 Training: 100%|██████████| 16/16 [00:00<00:00, 157.50it/s, lr: 0.0001000]\n",
      "                                                  \r"
     ]
    },
    {
     "name": "stdout",
     "output_type": "stream",
     "text": [
      "(2000, 60) (2000, 60)\n",
      "NUM FRAMES: 120000\n"
     ]
    },
    {
     "name": "stderr",
     "output_type": "stream",
     "text": [
      "Processed 2000 frames in 0.0 seconds (58475.1 FPS)\n",
      "Epoch 413 F1: 0.83 | Best F1: 84.16 at epoch 404, iter 1691648 | train_loss: 0.0000, lr: 0.0001000\n",
      "Epoch:414 Training: 100%|██████████| 16/16 [00:00<00:00, 155.20it/s, lr: 0.0001000]\n",
      "                                                  \r"
     ]
    },
    {
     "name": "stdout",
     "output_type": "stream",
     "text": [
      "(2000, 60) (2000, 60)\n",
      "NUM FRAMES: 120000\n"
     ]
    },
    {
     "name": "stderr",
     "output_type": "stream",
     "text": [
      "Processed 2000 frames in 0.0 seconds (55453.1 FPS)\n",
      "Epoch 414 F1: 0.83 | Best F1: 84.16 at epoch 404, iter 1695744 | train_loss: 0.0000, lr: 0.0001000\n",
      "Epoch:415 Training: 100%|██████████| 16/16 [00:00<00:00, 143.99it/s, lr: 0.0001000]\n",
      "Processed 2000 frames in 0.0 seconds (42515.3 FPS)\n",
      "Epoch 415 F1: 0.83 | Best F1: 84.16 at epoch 404, iter 1699840 | train_loss: 0.0000, lr: 0.0001000\n"
     ]
    },
    {
     "name": "stdout",
     "output_type": "stream",
     "text": [
      "(2000, 60) (2000, 60)\n",
      "NUM FRAMES: 120000\n"
     ]
    },
    {
     "name": "stderr",
     "output_type": "stream",
     "text": [
      "Epoch:416 Training: 100%|██████████| 16/16 [00:00<00:00, 138.49it/s, lr: 0.0001000]\n",
      "Processed 2000 frames in 0.0 seconds (49865.1 FPS)\n",
      "Epoch 416 F1: 0.83 | Best F1: 84.16 at epoch 404, iter 1703936 | train_loss: 0.0000, lr: 0.0001000\n"
     ]
    },
    {
     "name": "stdout",
     "output_type": "stream",
     "text": [
      "(2000, 60) (2000, 60)\n",
      "NUM FRAMES: 120000\n"
     ]
    },
    {
     "name": "stderr",
     "output_type": "stream",
     "text": [
      "Epoch:417 Training: 100%|██████████| 16/16 [00:00<00:00, 134.28it/s, lr: 0.0001000]\n",
      "Processed 2000 frames in 0.1 seconds (27355.8 FPS)\n",
      "Epoch 417 F1: 0.83 | Best F1: 84.16 at epoch 404, iter 1708032 | train_loss: 0.0000, lr: 0.0001000\n"
     ]
    },
    {
     "name": "stdout",
     "output_type": "stream",
     "text": [
      "(2000, 60) (2000, 60)\n",
      "NUM FRAMES: 120000\n"
     ]
    },
    {
     "name": "stderr",
     "output_type": "stream",
     "text": [
      "Epoch:418 Training: 100%|██████████| 16/16 [00:00<00:00, 135.41it/s, lr: 0.0001000]\n",
      "Processed 2000 frames in 0.1 seconds (32370.2 FPS)\n",
      "Epoch 418 F1: 0.82 | Best F1: 84.16 at epoch 404, iter 1712128 | train_loss: 0.0000, lr: 0.0001000\n"
     ]
    },
    {
     "name": "stdout",
     "output_type": "stream",
     "text": [
      "(2000, 60) (2000, 60)\n",
      "NUM FRAMES: 120000\n"
     ]
    },
    {
     "name": "stderr",
     "output_type": "stream",
     "text": [
      "Epoch:419 Training: 100%|██████████| 16/16 [00:00<00:00, 115.01it/s, lr: 0.0001000]\n",
      "Processed 2000 frames in 0.1 seconds (34205.6 FPS)\n",
      "Epoch 419 F1: 0.83 | Best F1: 84.16 at epoch 404, iter 1716224 | train_loss: 0.0000, lr: 0.0001000\n"
     ]
    },
    {
     "name": "stdout",
     "output_type": "stream",
     "text": [
      "(2000, 60) (2000, 60)\n",
      "NUM FRAMES: 120000\n"
     ]
    },
    {
     "name": "stderr",
     "output_type": "stream",
     "text": [
      "Epoch:420 Training: 100%|██████████| 16/16 [00:00<00:00, 134.89it/s, lr: 0.0001000]\n",
      "Processed 2000 frames in 0.1 seconds (34120.7 FPS)\n",
      "Epoch 420 F1: 0.83 | Best F1: 84.16 at epoch 404, iter 1720320 | train_loss: 0.0000, lr: 0.0001000\n"
     ]
    },
    {
     "name": "stdout",
     "output_type": "stream",
     "text": [
      "(2000, 60) (2000, 60)\n",
      "NUM FRAMES: 120000\n"
     ]
    },
    {
     "name": "stderr",
     "output_type": "stream",
     "text": [
      "Epoch:421 Training: 100%|██████████| 16/16 [00:00<00:00, 107.87it/s, lr: 0.0001000]\n",
      "Processed 2000 frames in 0.0 seconds (54741.6 FPS)\n",
      "Epoch 421 F1: 0.83 | Best F1: 84.16 at epoch 404, iter 1724416 | train_loss: 0.0000, lr: 0.0001000\n"
     ]
    },
    {
     "name": "stdout",
     "output_type": "stream",
     "text": [
      "(2000, 60) (2000, 60)\n",
      "NUM FRAMES: 120000\n"
     ]
    },
    {
     "name": "stderr",
     "output_type": "stream",
     "text": [
      "Epoch:422 Training: 100%|██████████| 16/16 [00:00<00:00, 134.76it/s, lr: 0.0001000]\n",
      "Processed 2000 frames in 0.1 seconds (36006.9 FPS)\n",
      "Epoch 422 F1: 0.84 | Best F1: 84.16 at epoch 404, iter 1728512 | train_loss: 0.0000, lr: 0.0001000\n"
     ]
    },
    {
     "name": "stdout",
     "output_type": "stream",
     "text": [
      "(2000, 60) (2000, 60)\n",
      "NUM FRAMES: 120000\n"
     ]
    },
    {
     "name": "stderr",
     "output_type": "stream",
     "text": [
      "Epoch:423 Training: 100%|██████████| 16/16 [00:00<00:00, 125.15it/s, lr: 0.0001000]\n",
      "Processed 2000 frames in 0.1 seconds (34234.9 FPS)\n",
      "Epoch 423 F1: 0.83 | Best F1: 84.16 at epoch 404, iter 1732608 | train_loss: 0.0000, lr: 0.0001000\n"
     ]
    },
    {
     "name": "stdout",
     "output_type": "stream",
     "text": [
      "(2000, 60) (2000, 60)\n",
      "NUM FRAMES: 120000\n"
     ]
    },
    {
     "name": "stderr",
     "output_type": "stream",
     "text": [
      "Epoch:424 Training: 100%|██████████| 16/16 [00:00<00:00, 123.38it/s, lr: 0.0001000]\n",
      "Processed 2000 frames in 0.1 seconds (31056.4 FPS)\n",
      "Epoch 424 F1: 0.83 | Best F1: 84.16 at epoch 404, iter 1736704 | train_loss: 0.0000, lr: 0.0001000\n"
     ]
    },
    {
     "name": "stdout",
     "output_type": "stream",
     "text": [
      "(2000, 60) (2000, 60)\n",
      "NUM FRAMES: 120000\n"
     ]
    },
    {
     "name": "stderr",
     "output_type": "stream",
     "text": [
      "Epoch:425 Training: 100%|██████████| 16/16 [00:00<00:00, 119.09it/s, lr: 0.0001000]\n",
      "Processed 2000 frames in 0.0 seconds (51298.9 FPS)\n",
      "Epoch 425 F1: 0.82 | Best F1: 84.16 at epoch 404, iter 1740800 | train_loss: 0.0000, lr: 0.0001000\n"
     ]
    },
    {
     "name": "stdout",
     "output_type": "stream",
     "text": [
      "(2000, 60) (2000, 60)\n",
      "NUM FRAMES: 120000\n"
     ]
    },
    {
     "name": "stderr",
     "output_type": "stream",
     "text": [
      "Epoch:426 Training: 100%|██████████| 16/16 [00:00<00:00, 147.47it/s, lr: 0.0001000]\n",
      "Processed 2000 frames in 0.1 seconds (34192.5 FPS)\n",
      "Epoch 426 F1: 0.83 | Best F1: 84.16 at epoch 404, iter 1744896 | train_loss: 0.0000, lr: 0.0001000\n"
     ]
    },
    {
     "name": "stdout",
     "output_type": "stream",
     "text": [
      "(2000, 60) (2000, 60)\n",
      "NUM FRAMES: 120000\n"
     ]
    },
    {
     "name": "stderr",
     "output_type": "stream",
     "text": [
      "Epoch:427 Training: 100%|██████████| 16/16 [00:00<00:00, 112.22it/s, lr: 0.0001000]\n",
      "Processed 2000 frames in 0.0 seconds (41638.2 FPS)\n",
      "Epoch 427 F1: 0.83 | Best F1: 84.16 at epoch 404, iter 1748992 | train_loss: 0.0000, lr: 0.0001000\n"
     ]
    },
    {
     "name": "stdout",
     "output_type": "stream",
     "text": [
      "(2000, 60) (2000, 60)\n",
      "NUM FRAMES: 120000\n"
     ]
    },
    {
     "name": "stderr",
     "output_type": "stream",
     "text": [
      "Epoch:428 Training: 100%|██████████| 16/16 [00:00<00:00, 151.25it/s, lr: 0.0001000]\n",
      "Processed 2000 frames in 0.0 seconds (43806.3 FPS)\n",
      "Epoch 428 F1: 0.83 | Best F1: 84.16 at epoch 404, iter 1753088 | train_loss: 0.0000, lr: 0.0001000\n"
     ]
    },
    {
     "name": "stdout",
     "output_type": "stream",
     "text": [
      "(2000, 60) (2000, 60)\n",
      "NUM FRAMES: 120000\n"
     ]
    },
    {
     "name": "stderr",
     "output_type": "stream",
     "text": [
      "Epoch:429 Training: 100%|██████████| 16/16 [00:00<00:00, 148.13it/s, lr: 0.0001000]\n",
      "                                                  \r"
     ]
    },
    {
     "name": "stdout",
     "output_type": "stream",
     "text": [
      "(2000, 60) (2000, 60)\n",
      "NUM FRAMES: 120000\n"
     ]
    },
    {
     "name": "stderr",
     "output_type": "stream",
     "text": [
      "Processed 2000 frames in 0.0 seconds (53936.0 FPS)\n",
      "Epoch 429 F1: 0.84 | Best F1: 84.16 at epoch 404, iter 1757184 | train_loss: 0.0000, lr: 0.0001000\n",
      "Epoch:430 Training: 100%|██████████| 16/16 [00:00<00:00, 133.95it/s, lr: 0.0001000]\n",
      "Processed 2000 frames in 0.1 seconds (33228.8 FPS)\n",
      "Epoch 430 F1: 0.84 | Best F1: 84.16 at epoch 404, iter 1761280 | train_loss: 0.0000, lr: 0.0001000\n"
     ]
    },
    {
     "name": "stdout",
     "output_type": "stream",
     "text": [
      "(2000, 60) (2000, 60)\n",
      "NUM FRAMES: 120000\n"
     ]
    },
    {
     "name": "stderr",
     "output_type": "stream",
     "text": [
      "Epoch:431 Training: 100%|██████████| 16/16 [00:00<00:00, 128.72it/s, lr: 0.0001000]\n",
      "Processed 2000 frames in 0.1 seconds (31372.7 FPS)\n",
      "Epoch 431 F1: 0.83 | Best F1: 84.16 at epoch 404, iter 1765376 | train_loss: 0.0000, lr: 0.0001000\n"
     ]
    },
    {
     "name": "stdout",
     "output_type": "stream",
     "text": [
      "(2000, 60) (2000, 60)\n",
      "NUM FRAMES: 120000\n"
     ]
    },
    {
     "name": "stderr",
     "output_type": "stream",
     "text": [
      "Epoch:432 Training: 100%|██████████| 16/16 [00:00<00:00, 125.73it/s, lr: 0.0001000]\n",
      "Processed 2000 frames in 0.1 seconds (34043.4 FPS)\n",
      "Epoch 432 F1: 0.83 | Best F1: 84.16 at epoch 404, iter 1769472 | train_loss: 0.0000, lr: 0.0001000\n"
     ]
    },
    {
     "name": "stdout",
     "output_type": "stream",
     "text": [
      "(2000, 60) (2000, 60)\n",
      "NUM FRAMES: 120000\n"
     ]
    },
    {
     "name": "stderr",
     "output_type": "stream",
     "text": [
      "Epoch:433 Training: 100%|██████████| 16/16 [00:00<00:00, 102.79it/s, lr: 0.0001000]\n",
      "Processed 2000 frames in 0.1 seconds (34299.1 FPS)\n",
      "Epoch 433 F1: 0.83 | Best F1: 84.16 at epoch 404, iter 1773568 | train_loss: 0.0000, lr: 0.0001000\n"
     ]
    },
    {
     "name": "stdout",
     "output_type": "stream",
     "text": [
      "(2000, 60) (2000, 60)\n",
      "NUM FRAMES: 120000\n"
     ]
    },
    {
     "name": "stderr",
     "output_type": "stream",
     "text": [
      "Epoch:434 Training: 100%|██████████| 16/16 [00:00<00:00, 117.75it/s, lr: 0.0001000]\n",
      "Processed 2000 frames in 0.1 seconds (39620.7 FPS)\n",
      "Epoch 434 F1: 0.83 | Best F1: 84.16 at epoch 404, iter 1777664 | train_loss: 0.0000, lr: 0.0001000\n"
     ]
    },
    {
     "name": "stdout",
     "output_type": "stream",
     "text": [
      "(2000, 60) (2000, 60)\n",
      "NUM FRAMES: 120000\n"
     ]
    },
    {
     "name": "stderr",
     "output_type": "stream",
     "text": [
      "Epoch:435 Training: 100%|██████████| 16/16 [00:00<00:00, 134.49it/s, lr: 0.0001000]\n",
      "Processed 2000 frames in 0.0 seconds (51667.4 FPS)\n",
      "Epoch 435 F1: 0.83 | Best F1: 84.16 at epoch 404, iter 1781760 | train_loss: 0.0000, lr: 0.0001000\n"
     ]
    },
    {
     "name": "stdout",
     "output_type": "stream",
     "text": [
      "(2000, 60) (2000, 60)\n",
      "NUM FRAMES: 120000\n"
     ]
    },
    {
     "name": "stderr",
     "output_type": "stream",
     "text": [
      "Epoch:436 Training: 100%|██████████| 16/16 [00:00<00:00, 145.14it/s, lr: 0.0001000]\n",
      "Processed 2000 frames in 0.0 seconds (45063.2 FPS)\n",
      "Epoch 436 F1: 0.83 | Best F1: 84.16 at epoch 404, iter 1785856 | train_loss: 0.0000, lr: 0.0001000\n"
     ]
    },
    {
     "name": "stdout",
     "output_type": "stream",
     "text": [
      "(2000, 60) (2000, 60)\n",
      "NUM FRAMES: 120000\n"
     ]
    },
    {
     "name": "stderr",
     "output_type": "stream",
     "text": [
      "Epoch:437 Training: 100%|██████████| 16/16 [00:00<00:00, 139.27it/s, lr: 0.0001000]\n",
      "                                                  \r"
     ]
    },
    {
     "name": "stdout",
     "output_type": "stream",
     "text": [
      "(2000, 60) (2000, 60)\n",
      "NUM FRAMES: 120000\n"
     ]
    },
    {
     "name": "stderr",
     "output_type": "stream",
     "text": [
      "Processed 2000 frames in 0.0 seconds (53626.3 FPS)\n",
      "Epoch 437 F1: 0.83 | Best F1: 84.16 at epoch 404, iter 1789952 | train_loss: 0.0000, lr: 0.0001000\n",
      "Epoch:438 Training: 100%|██████████| 16/16 [00:00<00:00, 111.37it/s, lr: 0.0001000]\n",
      "Processed 2000 frames in 0.1 seconds (37242.8 FPS)\n",
      "Epoch 438 F1: 0.83 | Best F1: 84.16 at epoch 404, iter 1794048 | train_loss: 0.0000, lr: 0.0001000\n"
     ]
    },
    {
     "name": "stdout",
     "output_type": "stream",
     "text": [
      "(2000, 60) (2000, 60)\n",
      "NUM FRAMES: 120000\n"
     ]
    },
    {
     "name": "stderr",
     "output_type": "stream",
     "text": [
      "Epoch:439 Training: 100%|██████████| 16/16 [00:00<00:00, 123.05it/s, lr: 0.0001000]\n",
      "Processed 2000 frames in 0.0 seconds (54673.8 FPS)\n",
      "Epoch 439 F1: 0.83 | Best F1: 84.16 at epoch 404, iter 1798144 | train_loss: 0.0000, lr: 0.0001000\n"
     ]
    },
    {
     "name": "stdout",
     "output_type": "stream",
     "text": [
      "(2000, 60) (2000, 60)\n",
      "NUM FRAMES: 120000\n"
     ]
    },
    {
     "name": "stderr",
     "output_type": "stream",
     "text": [
      "Epoch:440 Training: 100%|██████████| 16/16 [00:00<00:00, 139.57it/s, lr: 0.0001000]\n",
      "Processed 2000 frames in 0.1 seconds (33486.8 FPS)\n",
      "Epoch 440 F1: 0.83 | Best F1: 84.16 at epoch 404, iter 1802240 | train_loss: 0.0000, lr: 0.0001000\n"
     ]
    },
    {
     "name": "stdout",
     "output_type": "stream",
     "text": [
      "(2000, 60) (2000, 60)\n",
      "NUM FRAMES: 120000\n"
     ]
    },
    {
     "name": "stderr",
     "output_type": "stream",
     "text": [
      "Epoch:441 Training: 100%|██████████| 16/16 [00:00<00:00, 156.83it/s, lr: 0.0001000]\n",
      "Processed 2000 frames in 0.1 seconds (33252.6 FPS)\n",
      "Epoch 441 F1: 0.71 | Best F1: 84.16 at epoch 404, iter 1806336 | train_loss: 0.0010, lr: 0.0001000\n"
     ]
    },
    {
     "name": "stdout",
     "output_type": "stream",
     "text": [
      "(2000, 60) (2000, 60)\n",
      "NUM FRAMES: 120000\n"
     ]
    },
    {
     "name": "stderr",
     "output_type": "stream",
     "text": [
      "Epoch:442 Training: 100%|██████████| 16/16 [00:00<00:00, 111.27it/s, lr: 0.0001000]\n",
      "Processed 2000 frames in 0.0 seconds (60746.1 FPS)\n",
      "Epoch 442 F1: 0.70 | Best F1: 84.16 at epoch 404, iter 1810432 | train_loss: 0.0003, lr: 0.0001000\n"
     ]
    },
    {
     "name": "stdout",
     "output_type": "stream",
     "text": [
      "(2000, 60) (2000, 60)\n",
      "NUM FRAMES: 120000\n"
     ]
    },
    {
     "name": "stderr",
     "output_type": "stream",
     "text": [
      "Epoch:443 Training: 100%|██████████| 16/16 [00:00<00:00, 151.66it/s, lr: 0.0001000]\n",
      "Processed 2000 frames in 0.1 seconds (37642.7 FPS)\n",
      "Epoch 443 F1: 0.76 | Best F1: 84.16 at epoch 404, iter 1814528 | train_loss: 0.0001, lr: 0.0001000\n"
     ]
    },
    {
     "name": "stdout",
     "output_type": "stream",
     "text": [
      "(2000, 60) (2000, 60)\n",
      "NUM FRAMES: 120000\n"
     ]
    },
    {
     "name": "stderr",
     "output_type": "stream",
     "text": [
      "Epoch:444 Training: 100%|██████████| 16/16 [00:00<00:00, 112.05it/s, lr: 0.0001000]\n",
      "Processed 2000 frames in 0.1 seconds (38102.5 FPS)\n",
      "Epoch 444 F1: 0.78 | Best F1: 84.16 at epoch 404, iter 1818624 | train_loss: 0.0000, lr: 0.0001000\n"
     ]
    },
    {
     "name": "stdout",
     "output_type": "stream",
     "text": [
      "(2000, 60) (2000, 60)\n",
      "NUM FRAMES: 120000\n"
     ]
    },
    {
     "name": "stderr",
     "output_type": "stream",
     "text": [
      "Epoch:445 Training: 100%|██████████| 16/16 [00:00<00:00, 101.36it/s, lr: 0.0001000]\n",
      "Processed 2000 frames in 0.1 seconds (37123.6 FPS)\n",
      "Epoch 445 F1: 0.80 | Best F1: 84.16 at epoch 404, iter 1822720 | train_loss: 0.0000, lr: 0.0001000\n"
     ]
    },
    {
     "name": "stdout",
     "output_type": "stream",
     "text": [
      "(2000, 60) (2000, 60)\n",
      "NUM FRAMES: 120000\n"
     ]
    },
    {
     "name": "stderr",
     "output_type": "stream",
     "text": [
      "Epoch:446 Training: 100%|██████████| 16/16 [00:00<00:00, 100.93it/s, lr: 0.0001000]\n",
      "Processed 2000 frames in 0.0 seconds (40255.5 FPS)\n",
      "Epoch 446 F1: 0.81 | Best F1: 84.16 at epoch 404, iter 1826816 | train_loss: 0.0000, lr: 0.0001000\n"
     ]
    },
    {
     "name": "stdout",
     "output_type": "stream",
     "text": [
      "(2000, 60) (2000, 60)\n",
      "NUM FRAMES: 120000\n"
     ]
    },
    {
     "name": "stderr",
     "output_type": "stream",
     "text": [
      "Epoch:447 Training: 100%|██████████| 16/16 [00:00<00:00, 141.32it/s, lr: 0.0001000]\n",
      "                                                  \r"
     ]
    },
    {
     "name": "stdout",
     "output_type": "stream",
     "text": [
      "(2000, 60) (2000, 60)\n",
      "NUM FRAMES: 120000\n"
     ]
    },
    {
     "name": "stderr",
     "output_type": "stream",
     "text": [
      "Processed 2000 frames in 0.0 seconds (53016.0 FPS)\n",
      "Epoch 447 F1: 0.80 | Best F1: 84.16 at epoch 404, iter 1830912 | train_loss: 0.0000, lr: 0.0001000\n",
      "Epoch:448 Training: 100%|██████████| 16/16 [00:00<00:00, 127.41it/s, lr: 0.0001000]\n",
      "Processed 2000 frames in 0.0 seconds (53780.0 FPS)\n",
      "Epoch 448 F1: 0.81 | Best F1: 84.16 at epoch 404, iter 1835008 | train_loss: 0.0000, lr: 0.0001000\n"
     ]
    },
    {
     "name": "stdout",
     "output_type": "stream",
     "text": [
      "(2000, 60) (2000, 60)\n",
      "NUM FRAMES: 120000\n"
     ]
    },
    {
     "name": "stderr",
     "output_type": "stream",
     "text": [
      "Epoch:449 Training: 100%|██████████| 16/16 [00:00<00:00, 148.57it/s, lr: 0.0001000]\n",
      "                                                  \r"
     ]
    },
    {
     "name": "stdout",
     "output_type": "stream",
     "text": [
      "(2000, 60) (2000, 60)\n",
      "NUM FRAMES: 120000\n"
     ]
    },
    {
     "name": "stderr",
     "output_type": "stream",
     "text": [
      "Processed 2000 frames in 0.0 seconds (52785.8 FPS)\n",
      "Epoch 449 F1: 0.81 | Best F1: 84.16 at epoch 404, iter 1839104 | train_loss: 0.0000, lr: 0.0001000\n",
      "Epoch:450 Training: 100%|██████████| 16/16 [00:00<00:00, 113.63it/s, lr: 0.0001000]\n",
      "Processed 2000 frames in 0.1 seconds (33885.6 FPS)\n",
      "Epoch 450 F1: 0.82 | Best F1: 84.16 at epoch 404, iter 1843200 | train_loss: 0.0000, lr: 0.0001000\n"
     ]
    },
    {
     "name": "stdout",
     "output_type": "stream",
     "text": [
      "(2000, 60) (2000, 60)\n",
      "NUM FRAMES: 120000\n"
     ]
    },
    {
     "name": "stderr",
     "output_type": "stream",
     "text": [
      "Epoch:451 Training: 100%|██████████| 16/16 [00:00<00:00, 103.40it/s, lr: 0.0001000]\n",
      "Processed 2000 frames in 0.1 seconds (34759.6 FPS)\n",
      "Epoch 451 F1: 0.81 | Best F1: 84.16 at epoch 404, iter 1847296 | train_loss: 0.0000, lr: 0.0001000\n"
     ]
    },
    {
     "name": "stdout",
     "output_type": "stream",
     "text": [
      "(2000, 60) (2000, 60)\n",
      "NUM FRAMES: 120000\n"
     ]
    },
    {
     "name": "stderr",
     "output_type": "stream",
     "text": [
      "Epoch:452 Training: 100%|██████████| 16/16 [00:00<00:00, 121.39it/s, lr: 0.0001000]\n",
      "Processed 2000 frames in 0.1 seconds (36996.3 FPS)\n",
      "Epoch 452 F1: 0.82 | Best F1: 84.16 at epoch 404, iter 1851392 | train_loss: 0.0000, lr: 0.0001000\n"
     ]
    },
    {
     "name": "stdout",
     "output_type": "stream",
     "text": [
      "(2000, 60) (2000, 60)\n",
      "NUM FRAMES: 120000\n"
     ]
    },
    {
     "name": "stderr",
     "output_type": "stream",
     "text": [
      "Epoch:453 Training: 100%|██████████| 16/16 [00:00<00:00, 138.72it/s, lr: 0.0001000]\n",
      "Processed 2000 frames in 0.1 seconds (33923.9 FPS)\n",
      "Epoch 453 F1: 0.82 | Best F1: 84.16 at epoch 404, iter 1855488 | train_loss: 0.0000, lr: 0.0001000\n"
     ]
    },
    {
     "name": "stdout",
     "output_type": "stream",
     "text": [
      "(2000, 60) (2000, 60)\n",
      "NUM FRAMES: 120000\n"
     ]
    },
    {
     "name": "stderr",
     "output_type": "stream",
     "text": [
      "Epoch:454 Training: 100%|██████████| 16/16 [00:00<00:00, 153.26it/s, lr: 0.0001000]\n",
      "                                                  \r"
     ]
    },
    {
     "name": "stdout",
     "output_type": "stream",
     "text": [
      "(2000, 60) (2000, 60)\n",
      "NUM FRAMES: 120000\n"
     ]
    },
    {
     "name": "stderr",
     "output_type": "stream",
     "text": [
      "Processed 2000 frames in 0.0 seconds (54387.8 FPS)\n",
      "Epoch 454 F1: 0.82 | Best F1: 84.16 at epoch 404, iter 1859584 | train_loss: 0.0000, lr: 0.0001000\n",
      "Epoch:455 Training: 100%|██████████| 16/16 [00:00<00:00, 139.84it/s, lr: 0.0001000]\n",
      "Processed 2000 frames in 0.0 seconds (42141.1 FPS)\n",
      "Epoch 455 F1: 0.82 | Best F1: 84.16 at epoch 404, iter 1863680 | train_loss: 0.0000, lr: 0.0001000\n"
     ]
    },
    {
     "name": "stdout",
     "output_type": "stream",
     "text": [
      "(2000, 60) (2000, 60)\n",
      "NUM FRAMES: 120000\n"
     ]
    },
    {
     "name": "stderr",
     "output_type": "stream",
     "text": [
      "Epoch:456 Training: 100%|██████████| 16/16 [00:00<00:00, 155.65it/s, lr: 0.0001000]\n",
      "                                                  \r"
     ]
    },
    {
     "name": "stdout",
     "output_type": "stream",
     "text": [
      "(2000, 60) (2000, 60)\n",
      "NUM FRAMES: 120000\n"
     ]
    },
    {
     "name": "stderr",
     "output_type": "stream",
     "text": [
      "Processed 2000 frames in 0.0 seconds (54409.7 FPS)\n",
      "Epoch 456 F1: 0.82 | Best F1: 84.16 at epoch 404, iter 1867776 | train_loss: 0.0000, lr: 0.0001000\n",
      "Epoch:457 Training: 100%|██████████| 16/16 [00:00<00:00, 123.29it/s, lr: 0.0001000]\n",
      "Processed 2000 frames in 0.1 seconds (34441.1 FPS)\n",
      "Epoch 457 F1: 0.82 | Best F1: 84.16 at epoch 404, iter 1871872 | train_loss: 0.0000, lr: 0.0001000\n"
     ]
    },
    {
     "name": "stdout",
     "output_type": "stream",
     "text": [
      "(2000, 60) (2000, 60)\n",
      "NUM FRAMES: 120000\n"
     ]
    },
    {
     "name": "stderr",
     "output_type": "stream",
     "text": [
      "Epoch:458 Training: 100%|██████████| 16/16 [00:00<00:00, 112.78it/s, lr: 0.0001000]\n",
      "Processed 2000 frames in 0.0 seconds (47521.9 FPS)\n",
      "Epoch 458 F1: 0.82 | Best F1: 84.16 at epoch 404, iter 1875968 | train_loss: 0.0000, lr: 0.0001000\n"
     ]
    },
    {
     "name": "stdout",
     "output_type": "stream",
     "text": [
      "(2000, 60) (2000, 60)\n",
      "NUM FRAMES: 120000\n"
     ]
    },
    {
     "name": "stderr",
     "output_type": "stream",
     "text": [
      "Epoch:459 Training: 100%|██████████| 16/16 [00:00<00:00, 102.92it/s, lr: 0.0001000]\n",
      "Processed 2000 frames in 0.1 seconds (35049.5 FPS)\n",
      "Epoch 459 F1: 0.82 | Best F1: 84.16 at epoch 404, iter 1880064 | train_loss: 0.0000, lr: 0.0001000\n"
     ]
    },
    {
     "name": "stdout",
     "output_type": "stream",
     "text": [
      "(2000, 60) (2000, 60)\n",
      "NUM FRAMES: 120000\n"
     ]
    },
    {
     "name": "stderr",
     "output_type": "stream",
     "text": [
      "Epoch:460 Training: 100%|██████████| 16/16 [00:00<00:00, 125.91it/s, lr: 0.0001000]\n",
      "Processed 2000 frames in 0.0 seconds (48562.6 FPS)\n",
      "Epoch 460 F1: 0.82 | Best F1: 84.16 at epoch 404, iter 1884160 | train_loss: 0.0000, lr: 0.0001000\n"
     ]
    },
    {
     "name": "stdout",
     "output_type": "stream",
     "text": [
      "(2000, 60) (2000, 60)\n",
      "NUM FRAMES: 120000\n"
     ]
    },
    {
     "name": "stderr",
     "output_type": "stream",
     "text": [
      "Epoch:461 Training: 100%|██████████| 16/16 [00:00<00:00, 123.23it/s, lr: 0.0001000]\n",
      "Processed 2000 frames in 0.1 seconds (35032.7 FPS)\n",
      "Epoch 461 F1: 0.83 | Best F1: 84.16 at epoch 404, iter 1888256 | train_loss: 0.0000, lr: 0.0001000\n"
     ]
    },
    {
     "name": "stdout",
     "output_type": "stream",
     "text": [
      "(2000, 60) (2000, 60)\n",
      "NUM FRAMES: 120000\n"
     ]
    },
    {
     "name": "stderr",
     "output_type": "stream",
     "text": [
      "Epoch:462 Training: 100%|██████████| 16/16 [00:00<00:00, 129.87it/s, lr: 0.0001000]\n",
      "Processed 2000 frames in 0.0 seconds (55965.5 FPS)\n",
      "Epoch 462 F1: 0.82 | Best F1: 84.16 at epoch 404, iter 1892352 | train_loss: 0.0000, lr: 0.0001000\n"
     ]
    },
    {
     "name": "stdout",
     "output_type": "stream",
     "text": [
      "(2000, 60) (2000, 60)\n",
      "NUM FRAMES: 120000\n"
     ]
    },
    {
     "name": "stderr",
     "output_type": "stream",
     "text": [
      "Epoch:463 Training: 100%|██████████| 16/16 [00:00<00:00, 131.10it/s, lr: 0.0001000]\n",
      "Processed 2000 frames in 0.0 seconds (48611.3 FPS)\n",
      "Epoch 463 F1: 0.83 | Best F1: 84.16 at epoch 404, iter 1896448 | train_loss: 0.0000, lr: 0.0001000\n"
     ]
    },
    {
     "name": "stdout",
     "output_type": "stream",
     "text": [
      "(2000, 60) (2000, 60)\n",
      "NUM FRAMES: 120000\n"
     ]
    },
    {
     "name": "stderr",
     "output_type": "stream",
     "text": [
      "Epoch:464 Training: 100%|██████████| 16/16 [00:00<00:00, 105.85it/s, lr: 0.0001000]\n",
      "Processed 2000 frames in 0.1 seconds (33179.8 FPS)\n",
      "Epoch 464 F1: 0.82 | Best F1: 84.16 at epoch 404, iter 1900544 | train_loss: 0.0000, lr: 0.0001000\n"
     ]
    },
    {
     "name": "stdout",
     "output_type": "stream",
     "text": [
      "(2000, 60) (2000, 60)\n",
      "NUM FRAMES: 120000\n"
     ]
    },
    {
     "name": "stderr",
     "output_type": "stream",
     "text": [
      "Epoch:465 Training: 100%|██████████| 16/16 [00:00<00:00, 144.42it/s, lr: 0.0001000]\n",
      "                                                  "
     ]
    },
    {
     "name": "stdout",
     "output_type": "stream",
     "text": [
      "(2000, 60) (2000, 60)\n",
      "NUM FRAMES: 120000\n"
     ]
    },
    {
     "name": "stderr",
     "output_type": "stream",
     "text": [
      "Processed 2000 frames in 0.0 seconds (55090.4 FPS)\n",
      "Epoch 465 F1: 0.82 | Best F1: 84.16 at epoch 404, iter 1904640 | train_loss: 0.0000, lr: 0.0001000\n",
      "Epoch:466 Training: 100%|██████████| 16/16 [00:00<00:00, 112.50it/s, lr: 0.0001000]\n",
      "Traceback (most recent call last):                \n",
      "  File \"/home/nesl/anaconda3/envs/miniroad/lib/python3.10/site-packages/sklearn/metrics/_classification.py\", line 562, in multilabel_confusion_matrix\n",
      "    y_pred = le.transform(y_pred)\n",
      "RuntimeError: Object of type <class 'numpy.ndarray'> appears to be C subclassed NumPy array, void scalar, or allocated in a non-standard way.NumPy reserves the right to change the size of these structures. Projects are required to take this into account by either recompiling against a specific NumPy version or padding the struct and enforcing a maximum NumPy version.\n",
      "Exception ignored in: 'PyDataMem_UserFREE'\n",
      "Traceback (most recent call last):\n",
      "  File \"/home/nesl/anaconda3/envs/miniroad/lib/python3.10/site-packages/sklearn/metrics/_classification.py\", line 562, in multilabel_confusion_matrix\n",
      "    y_pred = le.transform(y_pred)\n",
      "ValueError: PyCapsule_GetPointer called with invalid PyCapsule object\n"
     ]
    }
   ],
   "source": [
    "trainloader = ce_train_loader\n",
    "criterion = build_criterion(cfg, device)\n",
    "train_one_epoch = build_trainer(cfg)\n",
    "optim = torch.optim.AdamW if cfg['optimizer'] == 'AdamW' else torch.optim.Adam\n",
    "optimizer = optim([{'params': model.parameters(), 'initial_lr': cfg['lr']}],\n",
    "                    lr=cfg['lr'], weight_decay=cfg[\"weight_decay\"])\n",
    "\n",
    "scheduler = build_lr_scheduler(cfg, optimizer, len(trainloader)) if args.lr_scheduler else None\n",
    "writer = SummaryWriter(osp.join(result_path, 'runs')) if args.tensorboard else None\n",
    "scaler = torch.cuda.amp.GradScaler() if args.amp else None\n",
    "total_params = sum(p.numel() for p in model.parameters())\n",
    "\n",
    "logger.info(f'Dataset: {cfg[\"data_name\"]},  Model: {cfg[\"model\"]}')    \n",
    "logger.info(f'lr:{cfg[\"lr\"]} | Weight Decay:{cfg[\"weight_decay\"]} | Window Size:{cfg[\"window_size\"]} | Batch Size:{cfg[\"batch_size\"]}') \n",
    "logger.info(f'Total epoch:{cfg[\"num_epoch\"]} | Total Params:{total_params/1e6:.1f} M | Optimizer: {cfg[\"optimizer\"]}')\n",
    "logger.info(f'Output Path:{result_path}')\n",
    "\n",
    "best_f1, best_epoch = 0, 0\n",
    "for epoch in range(1, cfg['num_epoch']+1):\n",
    "    epoch_loss = train_one_epoch(trainloader, model, criterion, optimizer, scaler, epoch, writer, scheduler=scheduler)\n",
    "    # trainloader.dataset._init_features()\n",
    "    f1 = evaluate(model, testloader, logger)\n",
    "    if f1 > best_f1:\n",
    "        best_f1 = f1\n",
    "        best_epoch = epoch\n",
    "        torch.save(model.state_dict(), osp.join(result_path, 'ckpts', 'best.pth'))\n",
    "    logger.info(f'Epoch {epoch} F1: {f1:.2f} | Best F1: {best_f1*100:.2f} at epoch {best_epoch}, iter {epoch*cfg[\"batch_size\"]*len(trainloader)} | train_loss: {epoch_loss/len(trainloader):.4f}, lr: {optimizer.param_groups[0][\"lr\"]:.7f}')\n",
    "    \n",
    "os.rename(osp.join(result_path, 'ckpts', 'best.pth'), osp.join(result_path, 'ckpts', f'best_{best_f1*100:.2f}.pth'))"
   ]
  },
  {
   "cell_type": "markdown",
   "metadata": {},
   "source": [
    "import numpy as np\n",
    "print(np.__version__)\n",
    "print(np.float32)\n"
   ]
  },
  {
   "cell_type": "code",
   "execution_count": null,
   "metadata": {},
   "outputs": [],
   "source": []
  },
  {
   "cell_type": "code",
   "execution_count": null,
   "metadata": {},
   "outputs": [],
   "source": []
  }
 ],
 "metadata": {
  "kernelspec": {
   "display_name": "miniroad",
   "language": "python",
   "name": "python3"
  },
  "language_info": {
   "codemirror_mode": {
    "name": "ipython",
    "version": 3
   },
   "file_extension": ".py",
   "mimetype": "text/x-python",
   "name": "python",
   "nbconvert_exporter": "python",
   "pygments_lexer": "ipython3",
   "version": "3.10.16"
  }
 },
 "nbformat": 4,
 "nbformat_minor": 2
}
